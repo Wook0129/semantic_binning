{
 "cells": [
  {
   "cell_type": "code",
   "execution_count": 1,
   "metadata": {
    "collapsed": true
   },
   "outputs": [],
   "source": [
    "from experiment import Experiment\n",
    "import torch\n",
    "%matplotlib inline"
   ]
  },
  {
   "cell_type": "code",
   "execution_count": 2,
   "metadata": {
    "collapsed": true
   },
   "outputs": [],
   "source": [
    "var_dict = dict(\n",
    "    numerical_vars = ['A2','A3','A8','A11','A14','A15'],\n",
    "    categorical_vars = ['A1','A4','A5','A6','A7','A9','A10','A12','A13'],\n",
    "    class_var = 'class'\n",
    ")"
   ]
  },
  {
   "cell_type": "code",
   "execution_count": 3,
   "metadata": {
    "collapsed": true
   },
   "outputs": [],
   "source": [
    "exp = Experiment('data/credit1.csv', \n",
    "                 var_dict,\n",
    "                 embedding_dim=4,\n",
    "                 lr=1e-2,\n",
    "                 weight_decay=0.0,\n",
    "                 batch_size=1024,\n",
    "                 n_epoch=30,\n",
    "                 verbose=False,\n",
    "                 n_bins_range=range(2, 21),\n",
    "                 n_init_bins_list=[10,15,20])"
   ]
  },
  {
   "cell_type": "code",
   "execution_count": 4,
   "metadata": {},
   "outputs": [
    {
     "data": {
      "text/plain": [
       "(654, 16)"
      ]
     },
     "execution_count": 4,
     "metadata": {},
     "output_type": "execute_result"
    }
   ],
   "source": [
    "exp.data.shape"
   ]
  },
  {
   "cell_type": "code",
   "execution_count": 5,
   "metadata": {
    "scrolled": true
   },
   "outputs": [
    {
     "name": "stdout",
     "output_type": "stream",
     "text": [
      "#Init Bin = 10\n",
      "Embedding Failed to Converge..\n",
      "Learned #Bin by Variables = [4, 2, 2, 2, 4, 2]\n",
      "#Init Bin = 15\n",
      "Embedding Failed to Converge..\n",
      "Learned #Bin by Variables = [9, 2, 5, 2, 4, 2]\n",
      "#Init Bin = 20\n",
      "Embedding Failed to Converge..\n",
      "Learned #Bin by Variables = [2, 2, 2, 2, 7, 3]\n",
      "CPU times: user 3min 32s, sys: 46.8 s, total: 4min 19s\n",
      "Wall time: 1min 12s\n"
     ]
    }
   ],
   "source": [
    "%time clustering_scores = exp.test_clustering_performance()"
   ]
  },
  {
   "cell_type": "code",
   "execution_count": 6,
   "metadata": {},
   "outputs": [
    {
     "name": "stdout",
     "output_type": "stream",
     "text": [
      "kmeans, #Cols = 48, NMI = 0.0257\n",
      "agglomerative, #Cols = 48, NMI = 0.0304\n"
     ]
    }
   ],
   "source": [
    "exp.print_clustering_scores(clustering_scores, method='dummy_only')"
   ]
  },
  {
   "cell_type": "code",
   "execution_count": 7,
   "metadata": {},
   "outputs": [
    {
     "name": "stdout",
     "output_type": "stream",
     "text": [
      "kmeans, #Cols = 48, NMI = 0.1483\n",
      "agglomerative, #Cols = 48, NMI = 0.1020\n"
     ]
    }
   ],
   "source": [
    "exp.print_clustering_scores(clustering_scores, method='scale_numeric')"
   ]
  },
  {
   "cell_type": "code",
   "execution_count": 8,
   "metadata": {},
   "outputs": [
    {
     "name": "stdout",
     "output_type": "stream",
     "text": [
      "kmeans\n",
      "#Bins = 2, #Cols = 54, #NMI = 0.0226\n",
      "#Bins = 3, #Cols = 60, #NMI = 0.0226\n",
      "#Bins = 4, #Cols = 66, #NMI = 0.0226\n",
      "#Bins = 5, #Cols = 72, #NMI = 0.0226\n",
      "#Bins = 6, #Cols = 78, #NMI = 0.0226\n",
      "#Bins = 7, #Cols = 84, #NMI = 0.0226\n",
      "#Bins = 8, #Cols = 90, #NMI = 0.0226\n",
      "#Bins = 9, #Cols = 96, #NMI = 0.0226\n",
      "#Bins = 10, #Cols = 102, #NMI = 0.0226\n",
      "#Bins = 11, #Cols = 108, #NMI = 0.0226\n",
      "#Bins = 12, #Cols = 114, #NMI = 0.0226\n",
      "#Bins = 13, #Cols = 120, #NMI = 0.0226\n",
      "#Bins = 14, #Cols = 126, #NMI = 0.0226\n",
      "#Bins = 15, #Cols = 132, #NMI = 0.0226\n",
      "#Bins = 16, #Cols = 138, #NMI = 0.0226\n",
      "#Bins = 17, #Cols = 144, #NMI = 0.0226\n",
      "#Bins = 18, #Cols = 150, #NMI = 0.2947\n",
      "#Bins = 19, #Cols = 156, #NMI = 0.3004\n",
      "#Bins = 20, #Cols = 162, #NMI = 0.0226\n",
      "agglomerative\n",
      "#Bins = 2, #Cols = 54, #NMI = 0.0258\n",
      "#Bins = 3, #Cols = 60, #NMI = 0.0252\n",
      "#Bins = 4, #Cols = 66, #NMI = 0.0266\n",
      "#Bins = 5, #Cols = 72, #NMI = 0.0252\n",
      "#Bins = 6, #Cols = 78, #NMI = 0.0122\n",
      "#Bins = 7, #Cols = 84, #NMI = 0.0239\n",
      "#Bins = 8, #Cols = 90, #NMI = 0.0247\n",
      "#Bins = 9, #Cols = 96, #NMI = 0.0226\n",
      "#Bins = 10, #Cols = 102, #NMI = 0.0269\n",
      "#Bins = 11, #Cols = 108, #NMI = 0.0252\n",
      "#Bins = 12, #Cols = 114, #NMI = 0.0216\n",
      "#Bins = 13, #Cols = 120, #NMI = 0.0280\n",
      "#Bins = 14, #Cols = 126, #NMI = 0.0244\n",
      "#Bins = 15, #Cols = 132, #NMI = 0.0244\n",
      "#Bins = 16, #Cols = 138, #NMI = 0.0139\n",
      "#Bins = 17, #Cols = 144, #NMI = 0.0231\n",
      "#Bins = 18, #Cols = 150, #NMI = 0.0326\n",
      "#Bins = 19, #Cols = 156, #NMI = 0.0280\n",
      "#Bins = 20, #Cols = 162, #NMI = 0.0252\n"
     ]
    }
   ],
   "source": [
    "exp.print_clustering_scores(clustering_scores, method='equal_width')"
   ]
  },
  {
   "cell_type": "code",
   "execution_count": 9,
   "metadata": {},
   "outputs": [
    {
     "name": "stdout",
     "output_type": "stream",
     "text": [
      "kmeans\n",
      "#Bins = 2, #Cols = 53, #NMI = 0.3508\n",
      "#Bins = 3, #Cols = 58, #NMI = 0.2434\n",
      "#Bins = 4, #Cols = 63, #NMI = 0.3048\n",
      "#Bins = 5, #Cols = 68, #NMI = 0.2445\n",
      "#Bins = 6, #Cols = 72, #NMI = 0.2042\n",
      "#Bins = 7, #Cols = 78, #NMI = 0.1739\n",
      "#Bins = 8, #Cols = 82, #NMI = 0.1740\n",
      "#Bins = 9, #Cols = 87, #NMI = 0.1693\n",
      "#Bins = 10, #Cols = 92, #NMI = 0.1763\n",
      "#Bins = 11, #Cols = 96, #NMI = 0.1670\n",
      "#Bins = 12, #Cols = 100, #NMI = 0.1716\n",
      "#Bins = 13, #Cols = 105, #NMI = 0.1670\n",
      "#Bins = 14, #Cols = 110, #NMI = 0.1716\n",
      "#Bins = 15, #Cols = 115, #NMI = 0.1693\n",
      "#Bins = 16, #Cols = 119, #NMI = 0.1670\n",
      "#Bins = 17, #Cols = 123, #NMI = 0.1670\n",
      "#Bins = 18, #Cols = 129, #NMI = 0.1670\n",
      "#Bins = 19, #Cols = 134, #NMI = 0.1602\n",
      "#Bins = 20, #Cols = 138, #NMI = 0.1716\n",
      "agglomerative\n",
      "#Bins = 2, #Cols = 53, #NMI = 0.0249\n",
      "#Bins = 3, #Cols = 58, #NMI = 0.2146\n",
      "#Bins = 4, #Cols = 63, #NMI = 0.0249\n",
      "#Bins = 5, #Cols = 68, #NMI = 0.1445\n",
      "#Bins = 6, #Cols = 72, #NMI = 0.2391\n",
      "#Bins = 7, #Cols = 78, #NMI = 0.0252\n",
      "#Bins = 8, #Cols = 82, #NMI = 0.1854\n",
      "#Bins = 9, #Cols = 87, #NMI = 0.0223\n",
      "#Bins = 10, #Cols = 92, #NMI = 0.0255\n",
      "#Bins = 11, #Cols = 96, #NMI = 0.2127\n",
      "#Bins = 12, #Cols = 100, #NMI = 0.1730\n",
      "#Bins = 13, #Cols = 105, #NMI = 0.2107\n",
      "#Bins = 14, #Cols = 110, #NMI = 0.0272\n",
      "#Bins = 15, #Cols = 115, #NMI = 0.0226\n",
      "#Bins = 16, #Cols = 119, #NMI = 0.0269\n",
      "#Bins = 17, #Cols = 123, #NMI = 0.0231\n",
      "#Bins = 18, #Cols = 129, #NMI = 0.0196\n",
      "#Bins = 19, #Cols = 134, #NMI = 0.0260\n",
      "#Bins = 20, #Cols = 138, #NMI = 0.1525\n"
     ]
    }
   ],
   "source": [
    "exp.print_clustering_scores(clustering_scores, method='equal_freq')"
   ]
  },
  {
   "cell_type": "code",
   "execution_count": 10,
   "metadata": {},
   "outputs": [
    {
     "name": "stdout",
     "output_type": "stream",
     "text": [
      "kmeans\n",
      "#Init Bins = 10, #Cols = 58, NMI = 0.2370\n",
      "#Init Bins = 15, #Cols = 66, NMI = 0.2450\n",
      "#Init Bins = 20, #Cols = 60, NMI = 0.3619\n",
      "agglomerative\n",
      "#Init Bins = 10, #Cols = 58, NMI = 0.1686\n",
      "#Init Bins = 15, #Cols = 66, NMI = 0.2076\n",
      "#Init Bins = 20, #Cols = 60, NMI = 0.2141\n"
     ]
    }
   ],
   "source": [
    "exp.print_clustering_scores(clustering_scores, method='semantic_binning')"
   ]
  },
  {
   "cell_type": "code",
   "execution_count": 11,
   "metadata": {},
   "outputs": [
    {
     "ename": "ValueError",
     "evalue": "Number of features of the model must match the input. Model n_features is 48 and input n_features is 46 ",
     "output_type": "error",
     "traceback": [
      "\u001b[0;31m---------------------------------------------------------------------------\u001b[0m",
      "\u001b[0;31mValueError\u001b[0m                                Traceback (most recent call last)",
      "\u001b[0;32m<ipython-input-11-9ecaa3071ab6>\u001b[0m in \u001b[0;36m<module>\u001b[0;34m()\u001b[0m\n\u001b[0;32m----> 1\u001b[0;31m \u001b[0mget_ipython\u001b[0m\u001b[0;34m(\u001b[0m\u001b[0;34m)\u001b[0m\u001b[0;34m.\u001b[0m\u001b[0mmagic\u001b[0m\u001b[0;34m(\u001b[0m\u001b[0;34m'time clf_scores = exp.test_classification_performance(cv=3)'\u001b[0m\u001b[0;34m)\u001b[0m\u001b[0;34m\u001b[0m\u001b[0m\n\u001b[0m",
      "\u001b[0;32m/home/taewook/anaconda3/lib/python3.6/site-packages/IPython/core/interactiveshell.py\u001b[0m in \u001b[0;36mmagic\u001b[0;34m(self, arg_s)\u001b[0m\n\u001b[1;32m   2158\u001b[0m         \u001b[0mmagic_name\u001b[0m\u001b[0;34m,\u001b[0m \u001b[0m_\u001b[0m\u001b[0;34m,\u001b[0m \u001b[0mmagic_arg_s\u001b[0m \u001b[0;34m=\u001b[0m \u001b[0marg_s\u001b[0m\u001b[0;34m.\u001b[0m\u001b[0mpartition\u001b[0m\u001b[0;34m(\u001b[0m\u001b[0;34m' '\u001b[0m\u001b[0;34m)\u001b[0m\u001b[0;34m\u001b[0m\u001b[0m\n\u001b[1;32m   2159\u001b[0m         \u001b[0mmagic_name\u001b[0m \u001b[0;34m=\u001b[0m \u001b[0mmagic_name\u001b[0m\u001b[0;34m.\u001b[0m\u001b[0mlstrip\u001b[0m\u001b[0;34m(\u001b[0m\u001b[0mprefilter\u001b[0m\u001b[0;34m.\u001b[0m\u001b[0mESC_MAGIC\u001b[0m\u001b[0;34m)\u001b[0m\u001b[0;34m\u001b[0m\u001b[0m\n\u001b[0;32m-> 2160\u001b[0;31m         \u001b[0;32mreturn\u001b[0m \u001b[0mself\u001b[0m\u001b[0;34m.\u001b[0m\u001b[0mrun_line_magic\u001b[0m\u001b[0;34m(\u001b[0m\u001b[0mmagic_name\u001b[0m\u001b[0;34m,\u001b[0m \u001b[0mmagic_arg_s\u001b[0m\u001b[0;34m)\u001b[0m\u001b[0;34m\u001b[0m\u001b[0m\n\u001b[0m\u001b[1;32m   2161\u001b[0m \u001b[0;34m\u001b[0m\u001b[0m\n\u001b[1;32m   2162\u001b[0m     \u001b[0;31m#-------------------------------------------------------------------------\u001b[0m\u001b[0;34m\u001b[0m\u001b[0;34m\u001b[0m\u001b[0m\n",
      "\u001b[0;32m/home/taewook/anaconda3/lib/python3.6/site-packages/IPython/core/interactiveshell.py\u001b[0m in \u001b[0;36mrun_line_magic\u001b[0;34m(self, magic_name, line)\u001b[0m\n\u001b[1;32m   2079\u001b[0m                 \u001b[0mkwargs\u001b[0m\u001b[0;34m[\u001b[0m\u001b[0;34m'local_ns'\u001b[0m\u001b[0;34m]\u001b[0m \u001b[0;34m=\u001b[0m \u001b[0msys\u001b[0m\u001b[0;34m.\u001b[0m\u001b[0m_getframe\u001b[0m\u001b[0;34m(\u001b[0m\u001b[0mstack_depth\u001b[0m\u001b[0;34m)\u001b[0m\u001b[0;34m.\u001b[0m\u001b[0mf_locals\u001b[0m\u001b[0;34m\u001b[0m\u001b[0m\n\u001b[1;32m   2080\u001b[0m             \u001b[0;32mwith\u001b[0m \u001b[0mself\u001b[0m\u001b[0;34m.\u001b[0m\u001b[0mbuiltin_trap\u001b[0m\u001b[0;34m:\u001b[0m\u001b[0;34m\u001b[0m\u001b[0m\n\u001b[0;32m-> 2081\u001b[0;31m                 \u001b[0mresult\u001b[0m \u001b[0;34m=\u001b[0m \u001b[0mfn\u001b[0m\u001b[0;34m(\u001b[0m\u001b[0;34m*\u001b[0m\u001b[0margs\u001b[0m\u001b[0;34m,\u001b[0m\u001b[0;34m**\u001b[0m\u001b[0mkwargs\u001b[0m\u001b[0;34m)\u001b[0m\u001b[0;34m\u001b[0m\u001b[0m\n\u001b[0m\u001b[1;32m   2082\u001b[0m             \u001b[0;32mreturn\u001b[0m \u001b[0mresult\u001b[0m\u001b[0;34m\u001b[0m\u001b[0m\n\u001b[1;32m   2083\u001b[0m \u001b[0;34m\u001b[0m\u001b[0m\n",
      "\u001b[0;32m<decorator-gen-60>\u001b[0m in \u001b[0;36mtime\u001b[0;34m(self, line, cell, local_ns)\u001b[0m\n",
      "\u001b[0;32m/home/taewook/anaconda3/lib/python3.6/site-packages/IPython/core/magic.py\u001b[0m in \u001b[0;36m<lambda>\u001b[0;34m(f, *a, **k)\u001b[0m\n\u001b[1;32m    186\u001b[0m     \u001b[0;31m# but it's overkill for just that one bit of state.\u001b[0m\u001b[0;34m\u001b[0m\u001b[0;34m\u001b[0m\u001b[0m\n\u001b[1;32m    187\u001b[0m     \u001b[0;32mdef\u001b[0m \u001b[0mmagic_deco\u001b[0m\u001b[0;34m(\u001b[0m\u001b[0marg\u001b[0m\u001b[0;34m)\u001b[0m\u001b[0;34m:\u001b[0m\u001b[0;34m\u001b[0m\u001b[0m\n\u001b[0;32m--> 188\u001b[0;31m         \u001b[0mcall\u001b[0m \u001b[0;34m=\u001b[0m \u001b[0;32mlambda\u001b[0m \u001b[0mf\u001b[0m\u001b[0;34m,\u001b[0m \u001b[0;34m*\u001b[0m\u001b[0ma\u001b[0m\u001b[0;34m,\u001b[0m \u001b[0;34m**\u001b[0m\u001b[0mk\u001b[0m\u001b[0;34m:\u001b[0m \u001b[0mf\u001b[0m\u001b[0;34m(\u001b[0m\u001b[0;34m*\u001b[0m\u001b[0ma\u001b[0m\u001b[0;34m,\u001b[0m \u001b[0;34m**\u001b[0m\u001b[0mk\u001b[0m\u001b[0;34m)\u001b[0m\u001b[0;34m\u001b[0m\u001b[0m\n\u001b[0m\u001b[1;32m    189\u001b[0m \u001b[0;34m\u001b[0m\u001b[0m\n\u001b[1;32m    190\u001b[0m         \u001b[0;32mif\u001b[0m \u001b[0mcallable\u001b[0m\u001b[0;34m(\u001b[0m\u001b[0marg\u001b[0m\u001b[0;34m)\u001b[0m\u001b[0;34m:\u001b[0m\u001b[0;34m\u001b[0m\u001b[0m\n",
      "\u001b[0;32m/home/taewook/anaconda3/lib/python3.6/site-packages/IPython/core/magics/execution.py\u001b[0m in \u001b[0;36mtime\u001b[0;34m(self, line, cell, local_ns)\u001b[0m\n\u001b[1;32m   1183\u001b[0m         \u001b[0;32melse\u001b[0m\u001b[0;34m:\u001b[0m\u001b[0;34m\u001b[0m\u001b[0m\n\u001b[1;32m   1184\u001b[0m             \u001b[0mst\u001b[0m \u001b[0;34m=\u001b[0m \u001b[0mclock2\u001b[0m\u001b[0;34m(\u001b[0m\u001b[0;34m)\u001b[0m\u001b[0;34m\u001b[0m\u001b[0m\n\u001b[0;32m-> 1185\u001b[0;31m             \u001b[0mexec\u001b[0m\u001b[0;34m(\u001b[0m\u001b[0mcode\u001b[0m\u001b[0;34m,\u001b[0m \u001b[0mglob\u001b[0m\u001b[0;34m,\u001b[0m \u001b[0mlocal_ns\u001b[0m\u001b[0;34m)\u001b[0m\u001b[0;34m\u001b[0m\u001b[0m\n\u001b[0m\u001b[1;32m   1186\u001b[0m             \u001b[0mend\u001b[0m \u001b[0;34m=\u001b[0m \u001b[0mclock2\u001b[0m\u001b[0;34m(\u001b[0m\u001b[0;34m)\u001b[0m\u001b[0;34m\u001b[0m\u001b[0m\n\u001b[1;32m   1187\u001b[0m             \u001b[0mout\u001b[0m \u001b[0;34m=\u001b[0m \u001b[0;32mNone\u001b[0m\u001b[0;34m\u001b[0m\u001b[0m\n",
      "\u001b[0;32m<timed exec>\u001b[0m in \u001b[0;36m<module>\u001b[0;34m()\u001b[0m\n",
      "\u001b[0;32m/home/taewook/workspace/semantic_binning/experiment.py\u001b[0m in \u001b[0;36mtest_classification_performance\u001b[0;34m(self, cv)\u001b[0m\n\u001b[1;32m     96\u001b[0m \u001b[0;34m\u001b[0m\u001b[0m\n\u001b[1;32m     97\u001b[0m             \u001b[0mn_cols_dummy_coded\u001b[0m \u001b[0;34m=\u001b[0m \u001b[0mval_dummy_coded\u001b[0m\u001b[0;34m.\u001b[0m\u001b[0mshape\u001b[0m\u001b[0;34m[\u001b[0m\u001b[0;36m1\u001b[0m\u001b[0;34m]\u001b[0m\u001b[0;34m\u001b[0m\u001b[0m\n\u001b[0;32m---> 98\u001b[0;31m             \u001b[0mdummy_coded_score\u001b[0m \u001b[0;34m=\u001b[0m \u001b[0mself\u001b[0m\u001b[0;34m.\u001b[0m\u001b[0m_get_classification_score\u001b[0m\u001b[0;34m(\u001b[0m\u001b[0mtrn_dummy_coded\u001b[0m\u001b[0;34m,\u001b[0m \u001b[0mval_dummy_coded\u001b[0m\u001b[0;34m,\u001b[0m \u001b[0mtrn_y\u001b[0m\u001b[0;34m,\u001b[0m \u001b[0mval_y\u001b[0m\u001b[0;34m,\u001b[0m \u001b[0;34m[\u001b[0m\u001b[0;34m'DT'\u001b[0m\u001b[0;34m,\u001b[0m \u001b[0;34m'LR'\u001b[0m\u001b[0;34m]\u001b[0m\u001b[0;34m)\u001b[0m\u001b[0;34m\u001b[0m\u001b[0m\n\u001b[0m\u001b[1;32m     99\u001b[0m             \u001b[0mdummy_coded_scores\u001b[0m\u001b[0;34m.\u001b[0m\u001b[0mappend\u001b[0m\u001b[0;34m(\u001b[0m\u001b[0;34m(\u001b[0m\u001b[0mn_cols_dummy_coded\u001b[0m\u001b[0;34m,\u001b[0m \u001b[0mdummy_coded_score\u001b[0m\u001b[0;34m)\u001b[0m\u001b[0;34m)\u001b[0m\u001b[0;34m\u001b[0m\u001b[0m\n\u001b[1;32m    100\u001b[0m \u001b[0;34m\u001b[0m\u001b[0m\n",
      "\u001b[0;32m/home/taewook/workspace/semantic_binning/experiment.py\u001b[0m in \u001b[0;36m_get_classification_score\u001b[0;34m(self, trn_x, val_x, trn_y, val_y, models)\u001b[0m\n\u001b[1;32m     64\u001b[0m             \u001b[0mdt\u001b[0m \u001b[0;34m=\u001b[0m \u001b[0mDecisionTreeClassifier\u001b[0m\u001b[0;34m(\u001b[0m\u001b[0mmin_samples_leaf\u001b[0m\u001b[0;34m=\u001b[0m\u001b[0;36m0.01\u001b[0m\u001b[0;34m,\u001b[0m \u001b[0mrandom_state\u001b[0m\u001b[0;34m=\u001b[0m\u001b[0mself\u001b[0m\u001b[0;34m.\u001b[0m\u001b[0mrandom_state\u001b[0m\u001b[0;34m)\u001b[0m\u001b[0;34m\u001b[0m\u001b[0m\n\u001b[1;32m     65\u001b[0m             \u001b[0mdt\u001b[0m\u001b[0;34m.\u001b[0m\u001b[0mfit\u001b[0m\u001b[0;34m(\u001b[0m\u001b[0mtrn_x\u001b[0m\u001b[0;34m,\u001b[0m \u001b[0mtrn_y\u001b[0m\u001b[0;34m)\u001b[0m\u001b[0;34m\u001b[0m\u001b[0m\n\u001b[0;32m---> 66\u001b[0;31m             \u001b[0mscore\u001b[0m\u001b[0;34m[\u001b[0m\u001b[0;34m'DT'\u001b[0m\u001b[0;34m]\u001b[0m \u001b[0;34m=\u001b[0m \u001b[0maccuracy_score\u001b[0m\u001b[0;34m(\u001b[0m\u001b[0mval_y\u001b[0m\u001b[0;34m,\u001b[0m \u001b[0mdt\u001b[0m\u001b[0;34m.\u001b[0m\u001b[0mpredict\u001b[0m\u001b[0;34m(\u001b[0m\u001b[0mval_x\u001b[0m\u001b[0;34m)\u001b[0m\u001b[0;34m)\u001b[0m\u001b[0;34m\u001b[0m\u001b[0m\n\u001b[0m\u001b[1;32m     67\u001b[0m \u001b[0;34m\u001b[0m\u001b[0m\n\u001b[1;32m     68\u001b[0m         \u001b[0;32mif\u001b[0m \u001b[0;34m'LR'\u001b[0m \u001b[0;32min\u001b[0m \u001b[0mmodels\u001b[0m\u001b[0;34m:\u001b[0m\u001b[0;34m\u001b[0m\u001b[0m\n",
      "\u001b[0;32m/home/taewook/anaconda3/lib/python3.6/site-packages/sklearn/tree/tree.py\u001b[0m in \u001b[0;36mpredict\u001b[0;34m(self, X, check_input)\u001b[0m\n\u001b[1;32m    410\u001b[0m         \"\"\"\n\u001b[1;32m    411\u001b[0m         \u001b[0mcheck_is_fitted\u001b[0m\u001b[0;34m(\u001b[0m\u001b[0mself\u001b[0m\u001b[0;34m,\u001b[0m \u001b[0;34m'tree_'\u001b[0m\u001b[0;34m)\u001b[0m\u001b[0;34m\u001b[0m\u001b[0m\n\u001b[0;32m--> 412\u001b[0;31m         \u001b[0mX\u001b[0m \u001b[0;34m=\u001b[0m \u001b[0mself\u001b[0m\u001b[0;34m.\u001b[0m\u001b[0m_validate_X_predict\u001b[0m\u001b[0;34m(\u001b[0m\u001b[0mX\u001b[0m\u001b[0;34m,\u001b[0m \u001b[0mcheck_input\u001b[0m\u001b[0;34m)\u001b[0m\u001b[0;34m\u001b[0m\u001b[0m\n\u001b[0m\u001b[1;32m    413\u001b[0m         \u001b[0mproba\u001b[0m \u001b[0;34m=\u001b[0m \u001b[0mself\u001b[0m\u001b[0;34m.\u001b[0m\u001b[0mtree_\u001b[0m\u001b[0;34m.\u001b[0m\u001b[0mpredict\u001b[0m\u001b[0;34m(\u001b[0m\u001b[0mX\u001b[0m\u001b[0;34m)\u001b[0m\u001b[0;34m\u001b[0m\u001b[0m\n\u001b[1;32m    414\u001b[0m         \u001b[0mn_samples\u001b[0m \u001b[0;34m=\u001b[0m \u001b[0mX\u001b[0m\u001b[0;34m.\u001b[0m\u001b[0mshape\u001b[0m\u001b[0;34m[\u001b[0m\u001b[0;36m0\u001b[0m\u001b[0;34m]\u001b[0m\u001b[0;34m\u001b[0m\u001b[0m\n",
      "\u001b[0;32m/home/taewook/anaconda3/lib/python3.6/site-packages/sklearn/tree/tree.py\u001b[0m in \u001b[0;36m_validate_X_predict\u001b[0;34m(self, X, check_input)\u001b[0m\n\u001b[1;32m    382\u001b[0m                              \u001b[0;34m\"match the input. Model n_features is %s and \"\u001b[0m\u001b[0;34m\u001b[0m\u001b[0m\n\u001b[1;32m    383\u001b[0m                              \u001b[0;34m\"input n_features is %s \"\u001b[0m\u001b[0;34m\u001b[0m\u001b[0m\n\u001b[0;32m--> 384\u001b[0;31m                              % (self.n_features_, n_features))\n\u001b[0m\u001b[1;32m    385\u001b[0m \u001b[0;34m\u001b[0m\u001b[0m\n\u001b[1;32m    386\u001b[0m         \u001b[0;32mreturn\u001b[0m \u001b[0mX\u001b[0m\u001b[0;34m\u001b[0m\u001b[0m\n",
      "\u001b[0;31mValueError\u001b[0m: Number of features of the model must match the input. Model n_features is 48 and input n_features is 46 "
     ]
    }
   ],
   "source": [
    "%time clf_scores = exp.test_classification_performance(cv=3)"
   ]
  },
  {
   "cell_type": "code",
   "execution_count": null,
   "metadata": {
    "collapsed": true
   },
   "outputs": [],
   "source": [
    "exp.print_classification_scores(clf_scores, method='dummy_only')"
   ]
  },
  {
   "cell_type": "code",
   "execution_count": null,
   "metadata": {
    "collapsed": true
   },
   "outputs": [],
   "source": [
    "exp.print_classification_scores(clf_scores, method='scale_numeric')"
   ]
  },
  {
   "cell_type": "code",
   "execution_count": null,
   "metadata": {
    "collapsed": true
   },
   "outputs": [],
   "source": [
    "exp.print_classification_scores(clf_scores, method='equal_width')"
   ]
  },
  {
   "cell_type": "code",
   "execution_count": null,
   "metadata": {
    "collapsed": true
   },
   "outputs": [],
   "source": [
    "exp.print_classification_scores(clf_scores, method='equal_freq')"
   ]
  },
  {
   "cell_type": "code",
   "execution_count": null,
   "metadata": {
    "collapsed": true,
    "scrolled": true
   },
   "outputs": [],
   "source": [
    "exp.print_classification_scores(clf_scores, method='semantic_binning')"
   ]
  },
  {
   "cell_type": "code",
   "execution_count": null,
   "metadata": {
    "collapsed": true
   },
   "outputs": [],
   "source": []
  },
  {
   "cell_type": "code",
   "execution_count": null,
   "metadata": {
    "collapsed": true
   },
   "outputs": [],
   "source": []
  },
  {
   "cell_type": "code",
   "execution_count": 4,
   "metadata": {},
   "outputs": [
    {
     "data": {
      "text/plain": [
       "(654, 16)"
      ]
     },
     "execution_count": 4,
     "metadata": {},
     "output_type": "execute_result"
    }
   ],
   "source": [
    "exp.data.shape"
   ]
  },
  {
   "cell_type": "code",
   "execution_count": 11,
   "metadata": {
    "scrolled": true
   },
   "outputs": [
    {
     "name": "stdout",
     "output_type": "stream",
     "text": [
      ">>> Epoch = 1, Loss = 0.6883636713027954\n",
      "[6, 6, 5, 2, 2, 2] 0.248029143528\n",
      ">>> Epoch = 2, Loss = 0.6440315842628479\n",
      "[2, 6, 2, 2, 2, 3] 0.230052506687\n",
      ">>> Epoch = 3, Loss = 0.5749793648719788\n",
      "[2, 6, 2, 2, 2, 3] 0.243602039631\n",
      ">>> Epoch = 4, Loss = 0.49788498878479004\n",
      "[2, 6, 2, 2, 2, 2] 0.227470457818\n",
      ">>> Epoch = 5, Loss = 0.4607963263988495\n",
      "[5, 6, 2, 2, 2, 4] 0.274039322214\n",
      ">>> Epoch = 6, Loss = 0.4069913923740387\n",
      "[5, 5, 2, 2, 2, 4] 0.34516951453\n",
      ">>> Epoch = 7, Loss = 0.4152425527572632\n",
      "[5, 5, 2, 2, 2, 4] 0.294129218274\n",
      ">>> Epoch = 8, Loss = 0.38856270909309387\n",
      "[5, 5, 2, 2, 2, 4] 0.286591692561\n",
      ">>> Epoch = 9, Loss = 0.3734966218471527\n",
      "[5, 5, 2, 2, 2, 4] 0.28540864067\n",
      ">>> Epoch = 10, Loss = 0.3787913918495178\n",
      "[5, 5, 2, 2, 2, 4] 0.290167655995\n",
      ">>> Epoch = 11, Loss = 0.37357011437416077\n",
      "[5, 5, 2, 2, 2, 4] 0.297971496733\n",
      ">>> Epoch = 12, Loss = 0.36925986409187317\n",
      "[5, 5, 2, 2, 2, 4] 0.306569261498\n",
      ">>> Epoch = 13, Loss = 0.372437059879303\n",
      "[5, 5, 2, 2, 2, 4] 0.313246994988\n",
      ">>> Epoch = 14, Loss = 0.36397337913513184\n",
      "[3, 5, 2, 2, 2, 4] 0.320138843881\n",
      ">>> Epoch = 15, Loss = 0.36671048402786255\n",
      "[3, 5, 2, 2, 2, 4] 0.330407623868\n",
      ">>> Epoch = 16, Loss = 0.3667854070663452\n",
      "[3, 5, 2, 2, 2, 4] 0.341904871895\n",
      ">>> Epoch = 17, Loss = 0.35799524188041687\n",
      "[3, 5, 2, 2, 2, 4] 0.353889421353\n",
      ">>> Epoch = 18, Loss = 0.3780342638492584\n",
      "[3, 5, 2, 2, 2, 4] 0.367527449159\n",
      ">>> Epoch = 19, Loss = 0.3583378195762634\n",
      "[3, 5, 2, 2, 4, 4] 0.383351132634\n",
      ">>> Epoch = 20, Loss = 0.3595331311225891\n",
      "[3, 5, 2, 2, 4, 4] 0.411337884557\n",
      ">>> Epoch = 21, Loss = 0.3607245981693268\n",
      "[3, 5, 3, 2, 4, 4] 0.441636981227\n",
      ">>> Epoch = 22, Loss = 0.36495107412338257\n",
      "[3, 5, 3, 2, 4, 4] 0.458070852295\n",
      ">>> Epoch = 23, Loss = 0.3579263985157013\n",
      "[3, 5, 3, 2, 4, 4] 0.469453601716\n",
      ">>> Epoch = 24, Loss = 0.37022674083709717\n",
      "[3, 5, 3, 2, 4, 4] 0.483360990554\n",
      ">>> Epoch = 25, Loss = 0.3654729425907135\n",
      "[3, 5, 3, 2, 4, 4] 0.503875175507\n",
      ">>> Epoch = 26, Loss = 0.3568921685218811\n",
      "[3, 5, 3, 2, 4, 4] 0.553597899099\n",
      ">>> Epoch = 27, Loss = 0.35620608925819397\n",
      "[3, 5, 3, 2, 4, 4] 0.591091294607\n",
      ">>> Epoch = 28, Loss = 0.36012527346611023\n",
      "[3, 5, 3, 2, 4, 4] 0.588175719418\n",
      ">>> Epoch = 29, Loss = 0.35476261377334595\n",
      "[3, 5, 3, 2, 4, 4] 0.57224995041\n",
      ">>> Epoch = 30, Loss = 0.3612632751464844\n",
      "[3, 5, 3, 2, 2, 4] 0.561609229728\n",
      ">>> Epoch = 31, Loss = 0.3618059456348419\n",
      "[5, 2, 4, 2, 2, 4] 0.550390296669\n",
      ">>> Epoch = 32, Loss = 0.36266398429870605\n",
      "[5, 4, 4, 2, 2, 4] 0.56237359717\n",
      ">>> Epoch = 33, Loss = 0.35998764634132385\n",
      "[5, 4, 4, 2, 2, 4] 0.56222558718\n",
      ">>> Epoch = 34, Loss = 0.35468411445617676\n",
      "[6, 2, 4, 2, 2, 4] 0.554388277497\n",
      ">>> Epoch = 35, Loss = 0.36310991644859314\n",
      "[6, 2, 2, 2, 2, 4] 0.566324674557\n",
      ">>> Epoch = 36, Loss = 0.35484886169433594\n",
      "[6, 2, 2, 2, 2, 4] 0.585515267691\n",
      ">>> Epoch = 37, Loss = 0.34995192289352417\n",
      "[2, 2, 2, 2, 2, 4] 0.657202521111\n",
      ">>> Epoch = 38, Loss = 0.35243189334869385\n",
      "[2, 2, 2, 2, 2, 4] 0.668432180622\n",
      ">>> Epoch = 39, Loss = 0.3590039014816284\n",
      "[2, 2, 2, 2, 3, 2] 0.666817695749\n",
      ">>> Epoch = 40, Loss = 0.36043646931648254\n",
      "[2, 2, 2, 2, 3, 2] 0.691694622952\n",
      ">>> Epoch = 41, Loss = 0.3485339283943176\n",
      "[2, 2, 2, 2, 3, 3] 0.707229642102\n",
      ">>> Epoch = 42, Loss = 0.361304372549057\n",
      "[2, 2, 2, 2, 3, 3] 0.706155249501\n",
      ">>> Epoch = 43, Loss = 0.3548600375652313\n",
      "[2, 2, 2, 3, 4, 2] 0.682739964605\n",
      ">>> Epoch = 44, Loss = 0.3563382625579834\n",
      "[2, 2, 2, 3, 4, 2] 0.686145301756\n",
      ">>> Epoch = 45, Loss = 0.3542896807193756\n",
      "[2, 2, 2, 3, 4, 2] 0.689091863337\n",
      ">>> Epoch = 46, Loss = 0.35797351598739624\n",
      "[2, 2, 2, 3, 3, 2] 0.695476148319\n",
      ">>> Epoch = 47, Loss = 0.357484370470047\n",
      "[2, 2, 2, 3, 3, 2] 0.701829218358\n",
      ">>> Epoch = 48, Loss = 0.3661937415599823\n",
      "[2, 2, 2, 3, 3, 2] 0.705774909444\n",
      ">>> Epoch = 49, Loss = 0.3606696128845215\n",
      "[2, 2, 2, 3, 3, 2] 0.706789753178\n",
      ">>> Epoch = 50, Loss = 0.36011749505996704\n",
      "[2, 2, 2, 3, 3, 2] 0.709297731579\n",
      ">>> Epoch = 51, Loss = 0.34693092107772827\n",
      "[2, 2, 2, 2, 3, 2] 0.71186121862\n",
      ">>> Epoch = 52, Loss = 0.3549771010875702\n",
      "[2, 2, 2, 3, 3, 2] 0.714041155914\n",
      ">>> Epoch = 53, Loss = 0.3485361337661743\n",
      "[2, 2, 2, 3, 3, 2] 0.716862711625\n",
      ">>> Epoch = 54, Loss = 0.3511718511581421\n",
      "[2, 2, 2, 3, 3, 2] 0.718794547023\n",
      ">>> Epoch = 55, Loss = 0.3498544692993164\n",
      "[2, 2, 2, 3, 3, 2] 0.721045169753\n",
      ">>> Epoch = 56, Loss = 0.34420764446258545\n",
      "[2, 2, 2, 3, 3, 2] 0.721570300876\n",
      ">>> Epoch = 57, Loss = 0.35287439823150635\n",
      "[2, 2, 2, 3, 3, 2] 0.723127071473\n",
      ">>> Epoch = 58, Loss = 0.3548659086227417\n",
      "[2, 2, 2, 3, 3, 2] 0.723700439476\n",
      ">>> Epoch = 59, Loss = 0.34825026988983154\n",
      "[2, 2, 2, 3, 3, 2] 0.723118757835\n",
      ">>> Epoch = 60, Loss = 0.35138139128685\n",
      "[2, 2, 2, 3, 3, 2] 0.722731555257\n",
      ">>> Epoch = 61, Loss = 0.35652294754981995\n",
      "[2, 2, 2, 3, 3, 2] 0.722545109182\n",
      ">>> Epoch = 62, Loss = 0.3528645932674408\n",
      "[2, 2, 2, 3, 3, 2] 0.722628118826\n",
      ">>> Epoch = 63, Loss = 0.3625183403491974\n",
      "[2, 2, 2, 3, 3, 2] 0.723088069896\n",
      ">>> Epoch = 64, Loss = 0.34715524315834045\n",
      "[2, 2, 2, 3, 3, 2] 0.724928768804\n",
      ">>> Epoch = 65, Loss = 0.3541606366634369\n",
      "[2, 2, 2, 3, 3, 2] 0.724314141345\n",
      ">>> Epoch = 66, Loss = 0.35431814193725586\n",
      "[2, 2, 3, 3, 3, 2] 0.723006566188\n",
      ">>> Epoch = 67, Loss = 0.35012611746788025\n",
      "[2, 2, 3, 3, 3, 2] 0.723574315893\n",
      ">>> Epoch = 68, Loss = 0.36901870369911194\n",
      "[2, 2, 3, 3, 3, 2] 0.722929802118\n",
      ">>> Epoch = 69, Loss = 0.34938809275627136\n",
      "[2, 2, 2, 3, 3, 2] 0.72416996181\n",
      ">>> Epoch = 70, Loss = 0.347461074590683\n",
      "[2, 2, 2, 3, 3, 2] 0.725187942314\n",
      ">>> Epoch = 71, Loss = 0.34959256649017334\n",
      "[2, 2, 2, 2, 3, 2] 0.744208788249\n",
      ">>> Epoch = 72, Loss = 0.3545672595500946\n",
      "[2, 2, 2, 2, 3, 2] 0.745270177614\n",
      ">>> Epoch = 73, Loss = 0.3511631488800049\n",
      "[2, 2, 2, 2, 3, 2] 0.744728194462\n",
      ">>> Epoch = 74, Loss = 0.3573078513145447\n",
      "[2, 2, 2, 2, 3, 2] 0.744134318729\n",
      ">>> Epoch = 75, Loss = 0.3509577810764313\n",
      "[2, 2, 2, 2, 3, 2] 0.742832421073\n",
      ">>> Epoch = 76, Loss = 0.3502415716648102\n",
      "[2, 2, 2, 2, 3, 2] 0.741918071575\n",
      ">>> Epoch = 77, Loss = 0.34851396083831787\n",
      "[2, 2, 2, 2, 3, 2] 0.741445227715\n",
      ">>> Epoch = 78, Loss = 0.3540557324886322\n",
      "[2, 2, 2, 2, 3, 2] 0.741042677805\n",
      ">>> Epoch = 79, Loss = 0.34943655133247375\n",
      "[3, 2, 2, 2, 3, 2] 0.741315272974\n",
      ">>> Epoch = 80, Loss = 0.3571617901325226\n",
      "[3, 2, 2, 2, 3, 2] 0.742507413606\n",
      ">>> Epoch = 81, Loss = 0.35416334867477417\n",
      "[3, 2, 2, 2, 3, 2] 0.744897282602\n",
      ">>> Epoch = 82, Loss = 0.35779115557670593\n",
      "[3, 2, 2, 2, 3, 2] 0.743587368058\n",
      ">>> Epoch = 83, Loss = 0.3583694100379944\n",
      "[3, 2, 2, 2, 3, 2] 0.744432241662\n",
      ">>> Epoch = 84, Loss = 0.34963151812553406\n",
      "[3, 2, 2, 2, 3, 2] 0.745938058737\n",
      ">>> Epoch = 85, Loss = 0.3615158796310425\n",
      "[3, 2, 2, 2, 3, 2] 0.747061113331\n",
      ">>> Epoch = 86, Loss = 0.3548448979854584\n",
      "[3, 2, 2, 2, 3, 2] 0.750943387627\n",
      ">>> Epoch = 87, Loss = 0.34396645426750183\n",
      "[3, 2, 2, 2, 3, 2] 0.752726046928\n",
      ">>> Epoch = 88, Loss = 0.3478964865207672\n",
      "[3, 2, 2, 2, 3, 2] 0.754648015524\n",
      ">>> Epoch = 89, Loss = 0.35797902941703796\n",
      "[3, 2, 2, 2, 3, 2] 0.755041172078\n",
      ">>> Epoch = 90, Loss = 0.35826316475868225\n",
      "[3, 2, 2, 2, 3, 2] 0.754225920959\n",
      ">>> Epoch = 91, Loss = 0.34494584798812866\n",
      "[4, 2, 2, 2, 3, 2] 0.742883041305\n",
      ">>> Epoch = 92, Loss = 0.35866934061050415\n",
      "[4, 2, 2, 2, 3, 2] 0.742085011571\n",
      ">>> Epoch = 93, Loss = 0.3540528416633606\n",
      "[4, 2, 2, 2, 3, 2] 0.742059282858\n",
      ">>> Epoch = 94, Loss = 0.35279372334480286\n",
      "[4, 2, 2, 2, 3, 2] 0.74364926053\n",
      ">>> Epoch = 95, Loss = 0.3523015081882477\n",
      "[4, 2, 2, 2, 3, 2] 0.744221433421\n",
      ">>> Epoch = 96, Loss = 0.3557473123073578\n",
      "[4, 2, 2, 2, 3, 2] 0.743384519929\n",
      ">>> Epoch = 97, Loss = 0.35669827461242676\n",
      "[4, 2, 2, 2, 3, 2] 0.744717239855\n",
      ">>> Epoch = 98, Loss = 0.36541905999183655\n",
      "[4, 2, 2, 2, 3, 2] 0.744893186417\n",
      ">>> Epoch = 99, Loss = 0.3597540259361267\n",
      "[4, 2, 2, 2, 3, 2] 0.742962198412\n",
      ">>> Epoch = 100, Loss = 0.3588607609272003\n",
      "[4, 2, 2, 2, 3, 2] 0.743134952206\n",
      "Embedding Failed to Converge..\n",
      "Learned #Bin by Variables = [4, 2, 2, 2, 3, 2]\n"
     ]
    }
   ],
   "source": [
    "from data_handler import DataHandler\n",
    "handler = DataHandler(exp.data, exp.var_dict)\n",
    "from semantic_binning import SemanticBinning\n",
    "sb = SemanticBinning(handler.var_dict, embedding_dim=4, batch_size=1024, \n",
    "                     n_epoch=100, lr=1e-3, weight_decay=0.0, verbose=True)\n",
    "sb.fit(exp.data, n_init_bins=7)"
   ]
  },
  {
   "cell_type": "code",
   "execution_count": 12,
   "metadata": {},
   "outputs": [
    {
     "data": {
      "image/png": "[encoded data removed]",
      "text/plain": [
       "<matplotlib.figure.Figure at 0x7f194d4437f0>"
      ]
     },
     "metadata": {},
     "output_type": "display_data"
    }
   ],
   "source": [
    "sb.plot_pairwise_distance_between_bins('A2')"
   ]
  },
  {
   "cell_type": "code",
   "execution_count": 13,
   "metadata": {},
   "outputs": [
    {
     "data": {
      "image/png": "[encoded data removed]",
      "text/plain": [
       "<matplotlib.figure.Figure at 0x7f194d394668>"
      ]
     },
     "metadata": {},
     "output_type": "display_data"
    }
   ],
   "source": [
    "sb.plot_pairwise_distance_between_bins('A3')"
   ]
  },
  {
   "cell_type": "code",
   "execution_count": 14,
   "metadata": {},
   "outputs": [
    {
     "data": {
      "image/png": "[encoded data removed]",
      "text/plain": [
       "<matplotlib.figure.Figure at 0x7f194d6400f0>"
      ]
     },
     "metadata": {},
     "output_type": "display_data"
    }
   ],
   "source": [
    "sb.plot_pairwise_distance_between_bins('A8')"
   ]
  },
  {
   "cell_type": "code",
   "execution_count": 15,
   "metadata": {},
   "outputs": [
    {
     "data": {
      "image/png": "[encoded data removed]",
      "text/plain": [
       "<matplotlib.figure.Figure at 0x7f194d455e48>"
      ]
     },
     "metadata": {},
     "output_type": "display_data"
    }
   ],
   "source": [
    "sb.plot_pairwise_distance_between_bins('A11')"
   ]
  },
  {
   "cell_type": "code",
   "execution_count": 16,
   "metadata": {},
   "outputs": [
    {
     "data": {
      "image/png": "[encoded data removed]",
      "text/plain": [
       "<matplotlib.figure.Figure at 0x7f194d5545c0>"
      ]
     },
     "metadata": {},
     "output_type": "display_data"
    }
   ],
   "source": [
    "sb.plot_pairwise_distance_between_bins('A14')"
   ]
  },
  {
   "cell_type": "code",
   "execution_count": 17,
   "metadata": {},
   "outputs": [
    {
     "data": {
      "image/png": "[encoded data removed]",
      "text/plain": [
       "<matplotlib.figure.Figure at 0x7f194d642208>"
      ]
     },
     "metadata": {},
     "output_type": "display_data"
    }
   ],
   "source": [
    "sb.plot_pairwise_distance_between_bins('A15')"
   ]
  },
  {
   "cell_type": "code",
   "execution_count": 18,
   "metadata": {},
   "outputs": [
    {
     "name": "stdout",
     "output_type": "stream",
     "text": [
      "A2\n",
      "['(13.749, 26.319]', '(26.319, 36.284]', '(36.284, 44.33]', '(44.33, 80.25]']\n",
      "A3\n",
      "['(-0.001, 3.75]', '(3.75, 28.0]']\n",
      "A8\n",
      "['(-0.001, 0.665]', '(0.665, 28.5]']\n",
      "A11\n",
      "['(-0.001, 2.0]', '(2.0, 67.0]']\n",
      "A14\n",
      "['(-0.001, 80.0]', '(80.0, 340.0]', '(340.0, 2000.0]']\n",
      "A15\n",
      "['(-0.001, 300.0]', '(300.0, 100000.0]']\n"
     ]
    }
   ],
   "source": [
    "for var, bins in sb.bins_by_var.items():\n",
    "    print(var)\n",
    "    print(bins['bins'])"
   ]
  },
  {
   "cell_type": "markdown",
   "metadata": {
    "collapsed": true
   },
   "source": [
    "### inter bin distance penalty가 모든 step에서 매번 계산. 특히 #init bin이 많아질수록 더 많은 penalty가 부여되서 최적화를 어렵게 만드는듯함. "
   ]
  },
  {
   "cell_type": "code",
   "execution_count": 12,
   "metadata": {
    "collapsed": true
   },
   "outputs": [],
   "source": [
    "from sklearn.cluster import KMeans"
   ]
  },
  {
   "cell_type": "code",
   "execution_count": null,
   "metadata": {
    "collapsed": true
   },
   "outputs": [],
   "source": [
    "KMeans"
   ]
  }
 ],
 "metadata": {
  "kernelspec": {
   "display_name": "Python 3",
   "language": "python",
   "name": "python3"
  },
  "language_info": {
   "codemirror_mode": {
    "name": "ipython",
    "version": 3
   },
   "file_extension": ".py",
   "mimetype": "text/x-python",
   "name": "python",
   "nbconvert_exporter": "python",
   "pygments_lexer": "ipython3",
   "version": "3.6.2"
  }
 },
 "nbformat": 4,
 "nbformat_minor": 2
}
