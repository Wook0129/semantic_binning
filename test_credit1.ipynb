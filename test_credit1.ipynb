{
 "cells": [
  {
   "cell_type": "code",
   "execution_count": 1,
   "metadata": {},
   "outputs": [
    {
     "name": "stderr",
     "output_type": "stream",
     "text": [
      "/home/taewook/anaconda3/lib/python3.6/site-packages/sklearn/cross_validation.py:41: DeprecationWarning: This module was deprecated in version 0.18 in favor of the model_selection module into which all the refactored classes and functions are moved. Also note that the interface of the new CV iterators are different from that of this module. This module will be removed in 0.20.\n",
      "  \"This module will be removed in 0.20.\", DeprecationWarning)\n"
     ]
    }
   ],
   "source": [
    "from experiment import Experiment\n",
    "%matplotlib inline"
   ]
  },
  {
   "cell_type": "code",
   "execution_count": 2,
   "metadata": {
    "collapsed": true
   },
   "outputs": [],
   "source": [
    "var_dict = dict(\n",
    "    numerical_vars = ['A2','A3','A8','A11','A14','A15'],\n",
    "    categorical_vars = ['A1','A4','A5','A6','A7','A9','A10','A12','A13'],\n",
    "    class_var = 'class'\n",
    ")"
   ]
  },
  {
   "cell_type": "code",
   "execution_count": 24,
   "metadata": {
    "collapsed": true
   },
   "outputs": [],
   "source": [
    "exp = Experiment('data/credit1.csv', \n",
    "                 var_dict,\n",
    "                 embedding_dim=16,\n",
    "                 lr=1.0,\n",
    "                 cv=5,\n",
    "                 weight_decay=0.0,\n",
    "                 batch_size=1024,\n",
    "                 n_epoch=100,\n",
    "                 verbose=True,\n",
    "                 n_bins_range=[3, 5, 7],\n",
    "                 n_init_bins_list=[5, 7])"
   ]
  },
  {
   "cell_type": "code",
   "execution_count": 25,
   "metadata": {},
   "outputs": [
    {
     "data": {
      "text/plain": [
       "(654, 16)"
      ]
     },
     "execution_count": 25,
     "metadata": {},
     "output_type": "execute_result"
    }
   ],
   "source": [
    "exp.data.shape"
   ]
  },
  {
   "cell_type": "code",
   "execution_count": null,
   "metadata": {
    "collapsed": true
   },
   "outputs": [],
   "source": []
  },
  {
   "cell_type": "code",
   "execution_count": 26,
   "metadata": {
    "scrolled": true
   },
   "outputs": [
    {
     "name": "stderr",
     "output_type": "stream",
     "text": [
      "/home/taewook/anaconda3/lib/python3.6/site-packages/sklearn/naive_bayes.py:838: RuntimeWarning: invalid value encountered in log\n",
      "  neg_prob = np.log(1 - np.exp(self.feature_log_prob_))\n",
      "/home/taewook/anaconda3/lib/python3.6/site-packages/sklearn/naive_bayes.py:838: RuntimeWarning: invalid value encountered in log\n",
      "  neg_prob = np.log(1 - np.exp(self.feature_log_prob_))\n",
      "/home/taewook/anaconda3/lib/python3.6/site-packages/sklearn/naive_bayes.py:838: RuntimeWarning: invalid value encountered in log\n",
      "  neg_prob = np.log(1 - np.exp(self.feature_log_prob_))\n",
      "/home/taewook/anaconda3/lib/python3.6/site-packages/sklearn/naive_bayes.py:838: RuntimeWarning: invalid value encountered in log\n",
      "  neg_prob = np.log(1 - np.exp(self.feature_log_prob_))\n",
      "/home/taewook/anaconda3/lib/python3.6/site-packages/sklearn/naive_bayes.py:838: RuntimeWarning: invalid value encountered in log\n",
      "  neg_prob = np.log(1 - np.exp(self.feature_log_prob_))\n"
     ]
    },
    {
     "name": "stdout",
     "output_type": "stream",
     "text": [
      "12.277820348739624 training start\n",
      ">>> Epoch = 1, Loss = 0.12644636631011963\n",
      "[2, 4, 2, 2, 3, 2] 0.195972586035\n",
      ">>> Epoch = 2, Loss = 0.11688753217458725\n",
      "[2, 4, 2, 2, 3, 2] 0.199211887264\n",
      ">>> Epoch = 3, Loss = 0.11060781031847\n",
      "[2, 4, 2, 2, 3, 2] 0.199906852828\n",
      ">>> Epoch = 4, Loss = 0.1084028109908104\n",
      "[2, 4, 2, 2, 3, 2] 0.200028016886\n",
      ">>> Epoch = 5, Loss = 0.10718787461519241\n",
      "[2, 4, 2, 2, 3, 2] 0.200161952064\n",
      ">>> Epoch = 6, Loss = 0.10348378121852875\n",
      "[2, 4, 2, 2, 3, 2] 0.200202355851\n",
      ">>> Epoch = 7, Loss = 0.10929214954376221\n",
      "[2, 4, 2, 2, 3, 2] 0.200917592001\n",
      ">>> Epoch = 8, Loss = 0.10739149153232574\n",
      "[2, 4, 2, 2, 3, 2] 0.200990355878\n",
      ">>> Epoch = 9, Loss = 0.10484607517719269\n",
      "[2, 4, 2, 2, 3, 2] 0.20065275167\n",
      ">>> Epoch = 10, Loss = 0.10530682653188705\n",
      "[2, 4, 2, 2, 3, 2] 0.199393072317\n",
      ">>> Epoch = 11, Loss = 0.10607258230447769\n",
      "[2, 4, 2, 2, 3, 2] 0.195779975697\n",
      ">>> Epoch = 12, Loss = 0.10371533781290054\n",
      "[2, 2, 2, 2, 3, 2] 0.209049374242\n",
      ">>> Epoch = 13, Loss = 0.10633733123540878\n",
      "[2, 2, 2, 2, 3, 2] 0.212286813964\n",
      ">>> Epoch = 14, Loss = 0.10465553402900696\n",
      "[2, 2, 2, 2, 3, 2] 0.215527431192\n",
      ">>> Epoch = 15, Loss = 0.10558135062456131\n",
      "[2, 2, 2, 2, 3, 2] 0.220804497351\n",
      ">>> Epoch = 16, Loss = 0.10454332083463669\n",
      "[2, 2, 2, 2, 3, 2] 0.227247815247\n",
      ">>> Epoch = 17, Loss = 0.10283547639846802\n",
      "[2, 2, 2, 2, 3, 2] 0.233081491261\n",
      ">>> Epoch = 18, Loss = 0.1091328114271164\n",
      "[2, 2, 2, 2, 3, 2] 0.238382385553\n",
      ">>> Epoch = 19, Loss = 0.10257986932992935\n",
      "[2, 3, 2, 2, 3, 2] 0.249916397202\n",
      ">>> Epoch = 20, Loss = 0.103624127805233\n",
      "[2, 3, 2, 2, 3, 2] 0.276682694616\n",
      ">>> Epoch = 21, Loss = 0.10474783182144165\n",
      "[2, 3, 3, 2, 3, 2] 0.27695186087\n",
      ">>> Epoch = 22, Loss = 0.10573507100343704\n",
      "[2, 3, 3, 2, 3, 2] 0.433141627345\n",
      ">>> Epoch = 23, Loss = 0.10164584219455719\n",
      "[2, 3, 3, 2, 3, 2] 0.443966548142\n",
      ">>> Epoch = 24, Loss = 0.10439260303974152\n",
      "[2, 3, 3, 2, 3, 2] 0.450373693746\n",
      ">>> Epoch = 25, Loss = 0.10291444510221481\n",
      "[2, 3, 3, 2, 3, 2] 0.456017720716\n",
      ">>> Epoch = 26, Loss = 0.10336344689130783\n",
      "[2, 3, 3, 2, 3, 2] 0.460111848078\n",
      ">>> Epoch = 27, Loss = 0.10253556817770004\n",
      "[2, 3, 3, 2, 3, 2] 0.46346113854\n",
      ">>> Epoch = 28, Loss = 0.10322941094636917\n",
      "[2, 3, 3, 2, 3, 2] 0.464975804213\n",
      ">>> Epoch = 29, Loss = 0.10268097370862961\n",
      "[2, 3, 3, 2, 3, 2] 0.467939826767\n",
      ">>> Epoch = 30, Loss = 0.10499934107065201\n",
      "[2, 3, 3, 2, 3, 2] 0.470423710997\n",
      ">>> Epoch = 31, Loss = 0.10425054281949997\n",
      "[2, 3, 3, 2, 3, 2] 0.472060046667\n",
      ">>> Epoch = 32, Loss = 0.10377045720815659\n",
      "[2, 3, 3, 2, 3, 2] 0.473942035647\n",
      ">>> Epoch = 33, Loss = 0.104709692299366\n",
      "[2, 3, 3, 2, 3, 2] 0.476268102181\n",
      ">>> Epoch = 34, Loss = 0.10162718594074249\n",
      "[2, 3, 3, 2, 3, 2] 0.477071737862\n",
      ">>> Epoch = 35, Loss = 0.10523870587348938\n",
      "[2, 3, 2, 2, 3, 2] 0.478429356479\n",
      ">>> Epoch = 36, Loss = 0.10295241326093674\n",
      "[2, 3, 2, 2, 3, 2] 0.483444290162\n",
      ">>> Epoch = 37, Loss = 0.10115569084882736\n",
      "[2, 2, 2, 2, 3, 2] 0.488816233401\n",
      ">>> Epoch = 38, Loss = 0.10348258167505264\n",
      "[2, 2, 2, 2, 3, 2] 0.496839246125\n",
      ">>> Epoch = 39, Loss = 0.10266164690256119\n",
      "[2, 2, 2, 2, 3, 2] 0.503631339927\n",
      ">>> Epoch = 40, Loss = 0.10396910458803177\n",
      "[2, 2, 2, 2, 3, 2] 0.510279961412\n",
      ">>> Epoch = 41, Loss = 0.10115356743335724\n",
      "[2, 2, 2, 2, 3, 2] 0.518074107787\n",
      ">>> Epoch = 42, Loss = 0.10331156104803085\n",
      "[2, 2, 2, 2, 3, 2] 0.526229461644\n",
      ">>> Epoch = 43, Loss = 0.1035815104842186\n",
      "[2, 2, 2, 2, 3, 2] 0.53327204159\n",
      ">>> Epoch = 44, Loss = 0.10191673040390015\n",
      "[2, 2, 2, 2, 3, 2] 0.540171223477\n",
      ">>> Epoch = 45, Loss = 0.10367391258478165\n",
      "[2, 2, 2, 2, 3, 2] 0.54617819414\n",
      ">>> Epoch = 46, Loss = 0.10343722999095917\n",
      "[2, 2, 2, 2, 3, 2] 0.551148049332\n",
      ">>> Epoch = 47, Loss = 0.10361272841691971\n",
      "[2, 2, 2, 2, 3, 2] 0.557333894196\n",
      ">>> Epoch = 48, Loss = 0.10741709917783737\n",
      "[2, 2, 2, 2, 3, 2] 0.561405827335\n",
      ">>> Epoch = 49, Loss = 0.1042352095246315\n",
      "[2, 2, 2, 2, 3, 2] 0.568284093361\n",
      ">>> Epoch = 50, Loss = 0.10517759621143341\n",
      "[2, 2, 2, 2, 3, 2] 0.575078185479\n",
      ">>> Epoch = 51, Loss = 0.10138877481222153\n",
      "[2, 2, 2, 2, 3, 2] 0.579808973535\n",
      ">>> Epoch = 52, Loss = 0.1026066243648529\n",
      "[2, 2, 2, 2, 3, 2] 0.585210231861\n",
      ">>> Epoch = 53, Loss = 0.10096868872642517\n",
      "[2, 2, 2, 2, 3, 2] 0.58887665334\n",
      ">>> Epoch = 54, Loss = 0.10093821585178375\n",
      "[2, 2, 2, 2, 3, 2] 0.592897125448\n",
      ">>> Epoch = 55, Loss = 0.10132937133312225\n",
      "[2, 2, 2, 2, 3, 2] 0.596831572802\n",
      ">>> Epoch = 56, Loss = 0.09802863001823425\n",
      "[2, 2, 2, 2, 3, 2] 0.603066990775\n",
      ">>> Epoch = 57, Loss = 0.10422937572002411\n",
      "[3, 2, 2, 2, 3, 2] 0.608641115058\n",
      ">>> Epoch = 58, Loss = 0.102690190076828\n",
      "[3, 2, 2, 2, 3, 2] 0.61483488701\n",
      ">>> Epoch = 59, Loss = 0.10122421383857727\n",
      "[3, 2, 2, 2, 3, 2] 0.620728788851\n",
      ">>> Epoch = 60, Loss = 0.10119214653968811\n",
      "[3, 2, 2, 2, 3, 2] 0.624160370666\n",
      ">>> Epoch = 61, Loss = 0.10303321480751038\n",
      "[3, 2, 2, 2, 3, 2] 0.626762683304\n",
      ">>> Epoch = 62, Loss = 0.10030872374773026\n",
      "[3, 2, 2, 2, 3, 2] 0.630189766144\n",
      ">>> Epoch = 63, Loss = 0.10354114323854446\n",
      "[3, 2, 2, 2, 3, 2] 0.631898395878\n",
      ">>> Epoch = 64, Loss = 0.10118264704942703\n",
      "[3, 2, 2, 2, 3, 2] 0.635266523442\n",
      ">>> Epoch = 65, Loss = 0.10215343534946442\n",
      "[3, 2, 2, 2, 3, 2] 0.636761689542\n",
      ">>> Epoch = 66, Loss = 0.10133885592222214\n",
      "[3, 2, 2, 2, 3, 2] 0.640482123494\n",
      ">>> Epoch = 67, Loss = 0.10027816891670227\n",
      "[3, 2, 2, 2, 3, 2] 0.642602731854\n",
      ">>> Epoch = 68, Loss = 0.10651803016662598\n",
      "[3, 2, 2, 2, 3, 2] 0.643390084397\n",
      ">>> Epoch = 69, Loss = 0.09917031228542328\n",
      "[3, 2, 2, 2, 3, 2] 0.644592704613\n",
      ">>> Epoch = 70, Loss = 0.09985984116792679\n",
      "[3, 2, 2, 2, 3, 2] 0.644383768397\n",
      ">>> Epoch = 71, Loss = 0.10179513692855835\n",
      "[3, 2, 2, 2, 3, 2] 0.646508954774\n",
      ">>> Epoch = 72, Loss = 0.1029849573969841\n",
      "[3, 2, 2, 2, 3, 2] 0.646761140063\n",
      ">>> Epoch = 73, Loss = 0.09923586994409561\n",
      "[3, 2, 2, 2, 3, 2] 0.649541002367\n",
      ">>> Epoch = 74, Loss = 0.10158606618642807\n",
      "[3, 2, 2, 2, 3, 2] 0.649622088573\n",
      ">>> Epoch = 75, Loss = 0.09973575174808502\n",
      "[3, 2, 2, 2, 3, 2] 0.650689078686\n",
      ">>> Epoch = 76, Loss = 0.10160693526268005\n",
      "[3, 2, 2, 2, 3, 2] 0.652180811647\n",
      ">>> Epoch = 77, Loss = 0.09987390041351318\n",
      "[3, 2, 2, 2, 3, 2] 0.65294434203\n",
      ">>> Epoch = 78, Loss = 0.10064753890037537\n",
      "[3, 2, 2, 2, 3, 2] 0.652834556547\n",
      ">>> Epoch = 79, Loss = 0.1004725769162178\n",
      "[3, 2, 2, 2, 3, 2] 0.653346734615\n",
      ">>> Epoch = 80, Loss = 0.10291071981191635\n",
      "[3, 2, 2, 2, 3, 2] 0.653880602169\n",
      ">>> Epoch = 81, Loss = 0.10143393278121948\n",
      "[3, 2, 2, 2, 3, 2] 0.653789692395\n",
      ">>> Epoch = 82, Loss = 0.101354219019413\n",
      "[3, 2, 2, 2, 3, 2] 0.653734343331\n",
      ">>> Epoch = 83, Loss = 0.1030593290925026\n",
      "[3, 2, 2, 2, 3, 2] 0.655072343968\n",
      ">>> Epoch = 84, Loss = 0.09903135150671005\n",
      "[3, 2, 2, 2, 3, 2] 0.654740694928\n",
      ">>> Epoch = 85, Loss = 0.10327918082475662\n",
      "[3, 2, 2, 2, 3, 2] 0.654567490132\n",
      ">>> Epoch = 86, Loss = 0.10165566205978394\n",
      "[3, 2, 2, 2, 3, 2] 0.654519873704\n",
      ">>> Epoch = 87, Loss = 0.09851839393377304\n",
      "[3, 2, 2, 2, 3, 2] 0.652617228184\n",
      ">>> Epoch = 88, Loss = 0.10090874880552292\n",
      "[3, 2, 2, 2, 3, 2] 0.653473401086\n",
      ">>> Epoch = 89, Loss = 0.100931316614151\n",
      "[3, 2, 2, 2, 3, 2] 0.653192275349\n",
      ">>> Epoch = 90, Loss = 0.10217608511447906\n",
      "[3, 2, 2, 2, 3, 2] 0.652832376165\n",
      ">>> Epoch = 91, Loss = 0.09902022033929825\n",
      "[3, 2, 2, 2, 3, 2] 0.653081977758\n",
      ">>> Epoch = 92, Loss = 0.10125289112329483\n",
      "[3, 2, 2, 2, 3, 2] 0.653913501904\n",
      ">>> Epoch = 93, Loss = 0.10161152482032776\n",
      "[3, 2, 2, 2, 3, 2] 0.653752769481\n",
      ">>> Epoch = 94, Loss = 0.09955824166536331\n",
      "[3, 2, 2, 2, 3, 2] 0.653520806609\n",
      ">>> Epoch = 95, Loss = 0.10162538290023804\n",
      "[3, 2, 2, 2, 3, 2] 0.651994017097\n",
      ">>> Epoch = 96, Loss = 0.10212447494268417\n",
      "[3, 2, 2, 2, 3, 2] 0.651076598331\n",
      ">>> Epoch = 97, Loss = 0.10229414701461792\n",
      "[3, 2, 2, 2, 3, 2] 0.650503442095\n",
      ">>> Epoch = 98, Loss = 0.10599085688591003\n",
      "[3, 2, 2, 2, 3, 2] 0.648374579797\n",
      ">>> Epoch = 99, Loss = 0.10323112457990646\n",
      "[3, 2, 2, 2, 3, 2] 0.648822164109\n",
      ">>> Epoch = 100, Loss = 0.10355868190526962\n",
      "[3, 2, 2, 2, 3, 2] 0.648590099042\n",
      "Learned #Bin by Variables = [3, 2, 2, 2, 3, 2]\n",
      ">>> Epoch = 1, Loss = 0.11009612679481506\n",
      "[3, 6, 2, 2, 4, 4] -0.0477695472587\n",
      ">>> Epoch = 2, Loss = 0.09786131978034973\n",
      "[3, 3, 2, 2, 5, 4] -0.122956029597\n",
      ">>> Epoch = 3, Loss = 0.09200680255889893\n",
      "[3, 3, 2, 2, 2, 2] -0.0860269219466\n",
      ">>> Epoch = 4, Loss = 0.08933600038290024\n",
      "[3, 2, 2, 2, 2, 2] -0.0163068736696\n",
      ">>> Epoch = 5, Loss = 0.08754861354827881\n",
      "[3, 2, 2, 2, 2, 2] -0.0174753182911\n",
      ">>> Epoch = 6, Loss = 0.08492035418748856\n",
      "[3, 2, 2, 2, 2, 2] -0.0189496870216\n"
     ]
    },
    {
     "name": "stdout",
     "output_type": "stream",
     "text": [
      ">>> Epoch = 7, Loss = 0.08878996968269348\n",
      "[3, 2, 2, 2, 2, 2] -0.0213963592646\n",
      ">>> Epoch = 8, Loss = 0.08738744258880615\n",
      "[3, 2, 2, 2, 2, 2] -0.021866001615\n",
      ">>> Epoch = 9, Loss = 0.0843919888138771\n",
      "[3, 2, 2, 2, 2, 2] -0.0217711209061\n",
      ">>> Epoch = 10, Loss = 0.08567727357149124\n",
      "[3, 2, 2, 2, 2, 2] -0.0207987891791\n",
      ">>> Epoch = 11, Loss = 0.08558078110218048\n",
      "[3, 2, 2, 2, 2, 2] -0.0226490269813\n",
      ">>> Epoch = 12, Loss = 0.08489375561475754\n",
      "[3, 2, 2, 2, 2, 2] -0.0230604489497\n",
      ">>> Epoch = 13, Loss = 0.08585356175899506\n",
      "[3, 2, 2, 2, 2, 2] -0.0243322120647\n",
      ">>> Epoch = 14, Loss = 0.08433559536933899\n",
      "[3, 2, 2, 2, 2, 2] -0.0264289976709\n",
      ">>> Epoch = 15, Loss = 0.08516410738229752\n",
      "[3, 6, 2, 2, 2, 2] -0.017781392891\n",
      ">>> Epoch = 16, Loss = 0.08498058468103409\n",
      "[3, 6, 2, 2, 2, 2] -0.0201937378764\n",
      ">>> Epoch = 17, Loss = 0.0829785019159317\n",
      "[3, 6, 2, 2, 2, 2] -0.0240285528224\n",
      ">>> Epoch = 18, Loss = 0.08753129094839096\n",
      "[3, 6, 2, 2, 2, 2] -0.0239734621502\n",
      ">>> Epoch = 19, Loss = 0.08219961076974869\n",
      "[2, 6, 2, 2, 2, 2] -0.0772708256262\n",
      ">>> Epoch = 20, Loss = 0.08342144638299942\n",
      "[2, 6, 6, 2, 2, 2] -0.0745540215711\n",
      ">>> Epoch = 21, Loss = 0.08486366271972656\n",
      "[2, 6, 6, 2, 2, 2] -0.0619481648001\n",
      ">>> Epoch = 22, Loss = 0.08512362837791443\n",
      "[2, 6, 6, 2, 2, 2] -0.0763743935101\n",
      ">>> Epoch = 23, Loss = 0.08237116038799286\n",
      "[2, 6, 6, 2, 5, 2] -0.0886716036995\n",
      ">>> Epoch = 24, Loss = 0.08449334651231766\n",
      "[2, 6, 6, 2, 5, 2] -0.0890698420369\n",
      ">>> Epoch = 25, Loss = 0.08364879339933395\n",
      "[2, 6, 6, 2, 5, 2] -0.0699073134624\n",
      ">>> Epoch = 26, Loss = 0.08383576571941376\n",
      "[2, 6, 6, 2, 5, 2] -0.0700665433099\n",
      ">>> Epoch = 27, Loss = 0.0832957774400711\n",
      "[2, 6, 6, 2, 5, 2] -0.058469365638\n",
      ">>> Epoch = 28, Loss = 0.0836399495601654\n",
      "[2, 2, 2, 2, 5, 2] 0.0034011748926\n",
      ">>> Epoch = 29, Loss = 0.0837172195315361\n",
      "[2, 2, 2, 2, 5, 2] 0.0235836748179\n",
      ">>> Epoch = 30, Loss = 0.0848049446940422\n",
      "[2, 2, 2, 2, 5, 2] 0.0517992917624\n",
      ">>> Epoch = 31, Loss = 0.08499875664710999\n",
      "[2, 2, 2, 2, 5, 2] 0.0796430248188\n",
      ">>> Epoch = 32, Loss = 0.08474478870630264\n",
      "[3, 2, 2, 2, 5, 2] 0.0740433772325\n",
      ">>> Epoch = 33, Loss = 0.08443163335323334\n",
      "[3, 2, 2, 2, 5, 2] 0.0954106303361\n",
      ">>> Epoch = 34, Loss = 0.08268529921770096\n",
      "[3, 2, 2, 2, 5, 2] 0.164922951461\n",
      ">>> Epoch = 35, Loss = 0.08528012782335281\n",
      "[3, 2, 2, 3, 5, 2] 0.185445098121\n",
      ">>> Epoch = 36, Loss = 0.08304933458566666\n",
      "[3, 2, 2, 3, 5, 2] 0.202738269834\n",
      ">>> Epoch = 37, Loss = 0.08194327354431152\n",
      "[3, 2, 2, 3, 5, 2] 0.219643102234\n",
      ">>> Epoch = 38, Loss = 0.0834803655743599\n",
      "[3, 2, 2, 3, 5, 2] 0.235804980916\n",
      ">>> Epoch = 39, Loss = 0.0831906795501709\n",
      "[3, 2, 2, 3, 5, 2] 0.252182850761\n",
      ">>> Epoch = 40, Loss = 0.08428079634904861\n",
      "[3, 2, 2, 3, 5, 2] 0.267382856921\n",
      ">>> Epoch = 41, Loss = 0.08192822337150574\n",
      "[3, 2, 2, 3, 5, 2] 0.279035785827\n",
      ">>> Epoch = 42, Loss = 0.08341218531131744\n",
      "[3, 2, 2, 3, 2, 2] 0.289263745271\n",
      ">>> Epoch = 43, Loss = 0.08364854753017426\n",
      "[3, 2, 2, 3, 2, 2] 0.299451855917\n",
      ">>> Epoch = 44, Loss = 0.08220943063497543\n",
      "[4, 2, 2, 3, 2, 2] 0.309343122319\n",
      ">>> Epoch = 45, Loss = 0.08390580862760544\n",
      "[4, 2, 2, 2, 2, 2] 0.321027809509\n",
      ">>> Epoch = 46, Loss = 0.08390123397111893\n",
      "[4, 2, 2, 2, 2, 2] 0.3307333319\n",
      ">>> Epoch = 47, Loss = 0.08395794779062271\n",
      "[4, 2, 2, 2, 2, 2] 0.340497945422\n",
      ">>> Epoch = 48, Loss = 0.08623659610748291\n",
      "[4, 2, 2, 2, 2, 2] 0.351258233249\n",
      ">>> Epoch = 49, Loss = 0.08372855931520462\n",
      "[4, 2, 2, 2, 2, 2] 0.361337611594\n",
      ">>> Epoch = 50, Loss = 0.08442821353673935\n",
      "[4, 2, 2, 2, 2, 2] 0.370437547246\n",
      ">>> Epoch = 51, Loss = 0.08212577551603317\n",
      "[4, 2, 2, 2, 5, 2] 0.381262052752\n",
      ">>> Epoch = 52, Loss = 0.08282512426376343\n",
      "[4, 2, 2, 2, 5, 2] 0.391335788367\n",
      ">>> Epoch = 53, Loss = 0.08184629678726196\n",
      "[3, 2, 2, 2, 5, 2] 0.39240060974\n",
      ">>> Epoch = 54, Loss = 0.08144980669021606\n",
      "[3, 2, 2, 2, 5, 2] 0.402577872331\n",
      ">>> Epoch = 55, Loss = 0.0815500020980835\n",
      "[3, 2, 2, 2, 5, 2] 0.411987925274\n",
      ">>> Epoch = 56, Loss = 0.07981996238231659\n",
      "[3, 2, 2, 2, 5, 2] 0.420831669677\n",
      ">>> Epoch = 57, Loss = 0.08422446995973587\n",
      "[3, 2, 2, 2, 5, 2] 0.430366012734\n",
      ">>> Epoch = 58, Loss = 0.08347342163324356\n",
      "[3, 2, 2, 2, 5, 2] 0.438623809908\n",
      ">>> Epoch = 59, Loss = 0.08092150092124939\n",
      "[3, 4, 2, 2, 5, 2] 0.449932744967\n",
      ">>> Epoch = 60, Loss = 0.08248487114906311\n",
      "[3, 4, 2, 2, 5, 2] 0.462381354284\n",
      ">>> Epoch = 61, Loss = 0.08297574520111084\n",
      "[3, 4, 2, 2, 5, 2] 0.47482254321\n",
      ">>> Epoch = 62, Loss = 0.0823800265789032\n",
      "[6, 4, 2, 2, 5, 2] 0.464107177319\n",
      ">>> Epoch = 63, Loss = 0.08340493589639664\n",
      "[2, 2, 2, 2, 3, 2] 0.540672602909\n",
      ">>> Epoch = 64, Loss = 0.08150064200162888\n",
      "[2, 2, 2, 2, 3, 2] 0.549356881428\n",
      ">>> Epoch = 65, Loss = 0.08249890804290771\n",
      "[2, 2, 2, 2, 3, 2] 0.557025266752\n",
      ">>> Epoch = 66, Loss = 0.08240915089845657\n",
      "[2, 2, 2, 2, 3, 2] 0.563744449711\n",
      ">>> Epoch = 67, Loss = 0.08087633550167084\n",
      "[2, 2, 2, 2, 3, 2] 0.570518515734\n",
      ">>> Epoch = 68, Loss = 0.08544900268316269\n",
      "[2, 2, 2, 2, 3, 2] 0.57729826623\n",
      ">>> Epoch = 69, Loss = 0.07975472509860992\n",
      "[2, 2, 2, 2, 3, 2] 0.583588795112\n",
      ">>> Epoch = 70, Loss = 0.08076170831918716\n",
      "[3, 2, 2, 2, 3, 2] 0.590939409716\n",
      ">>> Epoch = 71, Loss = 0.08232944458723068\n",
      "[3, 2, 2, 2, 3, 2] 0.602157721329\n",
      ">>> Epoch = 72, Loss = 0.08292114734649658\n",
      "[3, 2, 2, 2, 3, 2] 0.614465522463\n",
      ">>> Epoch = 73, Loss = 0.0804460346698761\n",
      "[5, 2, 2, 2, 3, 2] 0.629598533685\n",
      ">>> Epoch = 74, Loss = 0.08241341263055801\n",
      "[5, 2, 2, 2, 3, 2] 0.639542763496\n",
      ">>> Epoch = 75, Loss = 0.08137648552656174\n",
      "[5, 2, 2, 2, 3, 2] 0.64770282569\n",
      ">>> Epoch = 76, Loss = 0.08225753903388977\n",
      "[5, 2, 2, 2, 3, 2] 0.653978232164\n",
      ">>> Epoch = 77, Loss = 0.08100463449954987\n",
      "[5, 2, 2, 2, 3, 2] 0.659117278032\n",
      ">>> Epoch = 78, Loss = 0.08182322233915329\n",
      "[3, 2, 2, 2, 3, 2] 0.666363342619\n",
      ">>> Epoch = 79, Loss = 0.08211996406316757\n",
      "[3, 2, 2, 3, 3, 2] 0.666023419313\n",
      ">>> Epoch = 80, Loss = 0.08303212374448776\n",
      "[3, 2, 2, 3, 3, 2] 0.672723475865\n",
      ">>> Epoch = 81, Loss = 0.08306920528411865\n",
      "[3, 2, 2, 3, 3, 2] 0.679982829177\n",
      ">>> Epoch = 82, Loss = 0.08290790766477585\n",
      "[3, 2, 2, 3, 3, 2] 0.6859301601\n",
      ">>> Epoch = 83, Loss = 0.08289662003517151\n",
      "[3, 2, 2, 3, 3, 2] 0.690957111781\n",
      ">>> Epoch = 84, Loss = 0.080534428358078\n",
      "[3, 2, 2, 3, 3, 2] 0.696815643085\n",
      ">>> Epoch = 85, Loss = 0.08355553448200226\n",
      "[3, 2, 2, 3, 3, 2] 0.701943706903\n",
      ">>> Epoch = 86, Loss = 0.08192776888608932\n",
      "[3, 2, 2, 3, 3, 2] 0.706307076535\n",
      ">>> Epoch = 87, Loss = 0.07976895570755005\n",
      "[3, 2, 2, 3, 3, 2] 0.711883596144\n",
      ">>> Epoch = 88, Loss = 0.08154693245887756\n",
      "[3, 2, 2, 3, 3, 2] 0.715235365717\n",
      ">>> Epoch = 89, Loss = 0.08160459250211716\n",
      "[3, 2, 2, 3, 3, 2] 0.720011966519\n",
      ">>> Epoch = 90, Loss = 0.08269228041172028\n",
      "[3, 2, 2, 3, 3, 2] 0.724296248266\n",
      ">>> Epoch = 91, Loss = 0.08028950542211533\n",
      "[3, 2, 2, 3, 3, 2] 0.726766883924\n",
      ">>> Epoch = 92, Loss = 0.0816747397184372\n",
      "[3, 2, 2, 3, 3, 2] 0.729335244972\n",
      ">>> Epoch = 93, Loss = 0.08219100534915924\n",
      "[3, 2, 2, 3, 3, 2] 0.732112258189\n",
      ">>> Epoch = 94, Loss = 0.08026127517223358\n",
      "[3, 2, 2, 3, 3, 2] 0.734942511204\n",
      ">>> Epoch = 95, Loss = 0.0822628065943718\n",
      "[3, 2, 2, 3, 3, 2] 0.738366036785\n",
      ">>> Epoch = 96, Loss = 0.08284004777669907\n",
      "[3, 2, 2, 3, 3, 2] 0.740673968518\n",
      ">>> Epoch = 97, Loss = 0.08286329358816147\n",
      "[3, 2, 2, 3, 3, 2] 0.743336910234\n",
      ">>> Epoch = 98, Loss = 0.08495549112558365\n",
      "[3, 2, 2, 3, 3, 2] 0.746087914009\n",
      ">>> Epoch = 99, Loss = 0.08281735330820084\n",
      "[3, 2, 2, 3, 3, 2] 0.747737276567\n",
      ">>> Epoch = 100, Loss = 0.08305595815181732\n",
      "[3, 2, 2, 3, 3, 2] 0.749419430226\n",
      "Learned #Bin by Variables = [3, 2, 2, 3, 3, 2]\n"
     ]
    }
   ],
   "source": [
    "list_of_scores = exp.perform_exp()"
   ]
  },
  {
   "cell_type": "code",
   "execution_count": 27,
   "metadata": {},
   "outputs": [],
   "source": [
    "result = exp.print_scores(list_of_scores)"
   ]
  },
  {
   "cell_type": "code",
   "execution_count": 32,
   "metadata": {
    "scrolled": true
   },
   "outputs": [
    {
     "data": {
      "text/html": [
       "<div>\n",
       "<style>\n",
       "    .dataframe thead tr:only-child th {\n",
       "        text-align: right;\n",
       "    }\n",
       "\n",
       "    .dataframe thead th {\n",
       "        text-align: left;\n",
       "    }\n",
       "\n",
       "    .dataframe tbody tr th {\n",
       "        vertical-align: top;\n",
       "    }\n",
       "</style>\n",
       "<table border=\"1\" class=\"dataframe\">\n",
       "  <thead>\n",
       "    <tr style=\"text-align: right;\">\n",
       "      <th></th>\n",
       "      <th>disc_method</th>\n",
       "      <th>dt_acc</th>\n",
       "      <th>kmeans_nmi</th>\n",
       "      <th>lr_acc</th>\n",
       "      <th>n_disc_cols</th>\n",
       "      <th>nb_acc</th>\n",
       "      <th>rf_acc</th>\n",
       "      <th>svc_acc</th>\n",
       "    </tr>\n",
       "  </thead>\n",
       "  <tbody>\n",
       "    <tr>\n",
       "      <th>4</th>\n",
       "      <td>ef_5</td>\n",
       "      <td>(0.787707432517, 0.0889608920241)</td>\n",
       "      <td>0.239714</td>\n",
       "      <td>(0.848952650403, 0.111736373392)</td>\n",
       "      <td>26</td>\n",
       "      <td>(0.857961885443, 0.089751906095)</td>\n",
       "      <td>(0.855012900585, 0.111304628418)</td>\n",
       "      <td>(0.859627573444, 0.138473103356)</td>\n",
       "    </tr>\n",
       "    <tr>\n",
       "      <th>6</th>\n",
       "      <td>ef_7</td>\n",
       "      <td>(0.779992348618, 0.0746030687557)</td>\n",
       "      <td>0.186141</td>\n",
       "      <td>(0.855025000445, 0.10232684886)</td>\n",
       "      <td>36</td>\n",
       "      <td>(0.856423245965, 0.0984252003314)</td>\n",
       "      <td>(0.851959287532, 0.113830257724)</td>\n",
       "      <td>(0.859627573444, 0.138473103356)</td>\n",
       "    </tr>\n",
       "    <tr>\n",
       "      <th>7</th>\n",
       "      <td>sb_5</td>\n",
       "      <td>(0.783161266215, 0.119045349967)</td>\n",
       "      <td>0.241214</td>\n",
       "      <td>(0.847390522963, 0.117197284088)</td>\n",
       "      <td>14</td>\n",
       "      <td>(0.833486716845, 0.08854075907)</td>\n",
       "      <td>(0.838206551718, 0.114174820777)</td>\n",
       "      <td>(0.862681008559, 0.14117180462)</td>\n",
       "    </tr>\n",
       "    <tr>\n",
       "      <th>0</th>\n",
       "      <td>raw</td>\n",
       "      <td>(0.799932916956, 0.104470443512)</td>\n",
       "      <td>0.025701</td>\n",
       "      <td>(0.842856990338, 0.120843006127)</td>\n",
       "      <td>48</td>\n",
       "      <td>(0.452600224203, 0.00182934330388)</td>\n",
       "      <td>(0.83666809018, 0.122993547868)</td>\n",
       "      <td>(0.60687378779, 0.0620695276454)</td>\n",
       "    </tr>\n",
       "    <tr>\n",
       "      <th>2</th>\n",
       "      <td>ef_3</td>\n",
       "      <td>(0.792194345095, 0.0711226588795)</td>\n",
       "      <td>0.240790</td>\n",
       "      <td>(0.850409082012, 0.111324787127)</td>\n",
       "      <td>16</td>\n",
       "      <td>(0.853311802701, 0.0764001590319)</td>\n",
       "      <td>(0.835071442552, 0.110442183718)</td>\n",
       "      <td>(0.862681008559, 0.14117180462)</td>\n",
       "    </tr>\n",
       "    <tr>\n",
       "      <th>1</th>\n",
       "      <td>ew_3</td>\n",
       "      <td>(0.787683232798, 0.121001223882)</td>\n",
       "      <td>0.022607</td>\n",
       "      <td>(0.847413832986, 0.128438151402)</td>\n",
       "      <td>18</td>\n",
       "      <td>(0.856516308119, 0.114284136282)</td>\n",
       "      <td>(0.832029751419, 0.110934288311)</td>\n",
       "      <td>(0.862681008559, 0.14117180462)</td>\n",
       "    </tr>\n",
       "    <tr>\n",
       "      <th>5</th>\n",
       "      <td>ew_7</td>\n",
       "      <td>(0.75863965551, 0.112290271543)</td>\n",
       "      <td>0.022607</td>\n",
       "      <td>(0.844313599886, 0.122787210661)</td>\n",
       "      <td>42</td>\n",
       "      <td>(0.845747611167, 0.0942940787189)</td>\n",
       "      <td>(0.827483585117, 0.138661416871)</td>\n",
       "      <td>(0.862681008559, 0.14117180462)</td>\n",
       "    </tr>\n",
       "    <tr>\n",
       "      <th>3</th>\n",
       "      <td>ew_5</td>\n",
       "      <td>(0.799956226979, 0.10741467633)</td>\n",
       "      <td>0.077042</td>\n",
       "      <td>(0.836726454207, 0.127021303805)</td>\n",
       "      <td>30</td>\n",
       "      <td>(0.854931226534, 0.104622539179)</td>\n",
       "      <td>(0.825992455382, 0.123721749757)</td>\n",
       "      <td>(0.862681008559, 0.14117180462)</td>\n",
       "    </tr>\n",
       "    <tr>\n",
       "      <th>8</th>\n",
       "      <td>sb_7</td>\n",
       "      <td>(0.783010017972, 0.0970837498425)</td>\n",
       "      <td>0.278952</td>\n",
       "      <td>(0.842763572306, 0.116907856319)</td>\n",
       "      <td>15</td>\n",
       "      <td>(0.85173793128, 0.0918387313023)</td>\n",
       "      <td>(0.82286855638, 0.125639316584)</td>\n",
       "      <td>(0.862681008559, 0.14117180462)</td>\n",
       "    </tr>\n",
       "  </tbody>\n",
       "</table>\n",
       "</div>"
      ],
      "text/plain": [
       "  disc_method                             dt_acc  kmeans_nmi  \\\n",
       "4        ef_5  (0.787707432517, 0.0889608920241)    0.239714   \n",
       "6        ef_7  (0.779992348618, 0.0746030687557)    0.186141   \n",
       "7        sb_5   (0.783161266215, 0.119045349967)    0.241214   \n",
       "0         raw   (0.799932916956, 0.104470443512)    0.025701   \n",
       "2        ef_3  (0.792194345095, 0.0711226588795)    0.240790   \n",
       "1        ew_3   (0.787683232798, 0.121001223882)    0.022607   \n",
       "5        ew_7    (0.75863965551, 0.112290271543)    0.022607   \n",
       "3        ew_5    (0.799956226979, 0.10741467633)    0.077042   \n",
       "8        sb_7  (0.783010017972, 0.0970837498425)    0.278952   \n",
       "\n",
       "                             lr_acc  n_disc_cols  \\\n",
       "4  (0.848952650403, 0.111736373392)           26   \n",
       "6   (0.855025000445, 0.10232684886)           36   \n",
       "7  (0.847390522963, 0.117197284088)           14   \n",
       "0  (0.842856990338, 0.120843006127)           48   \n",
       "2  (0.850409082012, 0.111324787127)           16   \n",
       "1  (0.847413832986, 0.128438151402)           18   \n",
       "5  (0.844313599886, 0.122787210661)           42   \n",
       "3  (0.836726454207, 0.127021303805)           30   \n",
       "8  (0.842763572306, 0.116907856319)           15   \n",
       "\n",
       "                               nb_acc                            rf_acc  \\\n",
       "4    (0.857961885443, 0.089751906095)  (0.855012900585, 0.111304628418)   \n",
       "6   (0.856423245965, 0.0984252003314)  (0.851959287532, 0.113830257724)   \n",
       "7     (0.833486716845, 0.08854075907)  (0.838206551718, 0.114174820777)   \n",
       "0  (0.452600224203, 0.00182934330388)   (0.83666809018, 0.122993547868)   \n",
       "2   (0.853311802701, 0.0764001590319)  (0.835071442552, 0.110442183718)   \n",
       "1    (0.856516308119, 0.114284136282)  (0.832029751419, 0.110934288311)   \n",
       "5   (0.845747611167, 0.0942940787189)  (0.827483585117, 0.138661416871)   \n",
       "3    (0.854931226534, 0.104622539179)  (0.825992455382, 0.123721749757)   \n",
       "8    (0.85173793128, 0.0918387313023)   (0.82286855638, 0.125639316584)   \n",
       "\n",
       "                            svc_acc  \n",
       "4  (0.859627573444, 0.138473103356)  \n",
       "6  (0.859627573444, 0.138473103356)  \n",
       "7   (0.862681008559, 0.14117180462)  \n",
       "0  (0.60687378779, 0.0620695276454)  \n",
       "2   (0.862681008559, 0.14117180462)  \n",
       "1   (0.862681008559, 0.14117180462)  \n",
       "5   (0.862681008559, 0.14117180462)  \n",
       "3   (0.862681008559, 0.14117180462)  \n",
       "8   (0.862681008559, 0.14117180462)  "
      ]
     },
     "execution_count": 32,
     "metadata": {},
     "output_type": "execute_result"
    }
   ],
   "source": [
    "result.sort_values(by='rf_acc', ascending=False)"
   ]
  },
  {
   "cell_type": "code",
   "execution_count": null,
   "metadata": {
    "collapsed": true
   },
   "outputs": [],
   "source": []
  },
  {
   "cell_type": "code",
   "execution_count": 16,
   "metadata": {},
   "outputs": [
    {
     "data": {
      "image/png": "[encoded data removed]",
      "text/plain": [
       "<matplotlib.figure.Figure at 0x7fa6c46426a0>"
      ]
     },
     "metadata": {},
     "output_type": "display_data"
    }
   ],
   "source": [
    "exp.semantic_binning.plot_pairwise_distance_between_bins('A2')"
   ]
  },
  {
   "cell_type": "code",
   "execution_count": 17,
   "metadata": {},
   "outputs": [
    {
     "data": {
      "image/png": "[encoded data removed]",
      "text/plain": [
       "<matplotlib.figure.Figure at 0x7fa6c44ccf60>"
      ]
     },
     "metadata": {},
     "output_type": "display_data"
    }
   ],
   "source": [
    "exp.semantic_binning.plot_pairwise_distance_between_bins('A3')"
   ]
  },
  {
   "cell_type": "code",
   "execution_count": 18,
   "metadata": {},
   "outputs": [
    {
     "data": {
      "image/png": "[encoded data removed]",
      "text/plain": [
       "<matplotlib.figure.Figure at 0x7fa6c43bbb70>"
      ]
     },
     "metadata": {},
     "output_type": "display_data"
    }
   ],
   "source": [
    "exp.semantic_binning.plot_pairwise_distance_between_bins('A8')"
   ]
  },
  {
   "cell_type": "code",
   "execution_count": 19,
   "metadata": {},
   "outputs": [
    {
     "data": {
      "image/png": "[encoded data removed]",
      "text/plain": [
       "<matplotlib.figure.Figure at 0x7fa745f9c1d0>"
      ]
     },
     "metadata": {},
     "output_type": "display_data"
    }
   ],
   "source": [
    "exp.semantic_binning.plot_pairwise_distance_between_bins('A11')"
   ]
  },
  {
   "cell_type": "code",
   "execution_count": 20,
   "metadata": {},
   "outputs": [
    {
     "data": {
      "image/png": "[encoded data removed]",
      "text/plain": [
       "<matplotlib.figure.Figure at 0x7fa6c4176550>"
      ]
     },
     "metadata": {},
     "output_type": "display_data"
    }
   ],
   "source": [
    "exp.semantic_binning.plot_pairwise_distance_between_bins('A14')"
   ]
  },
  {
   "cell_type": "code",
   "execution_count": 21,
   "metadata": {},
   "outputs": [
    {
     "data": {
      "image/png": "[encoded data removed]",
      "text/plain": [
       "<matplotlib.figure.Figure at 0x7fa6c4105320>"
      ]
     },
     "metadata": {},
     "output_type": "display_data"
    }
   ],
   "source": [
    "exp.semantic_binning.plot_pairwise_distance_between_bins('A15')"
   ]
  },
  {
   "cell_type": "code",
   "execution_count": 22,
   "metadata": {},
   "outputs": [
    {
     "name": "stdout",
     "output_type": "stream",
     "text": [
      "A2\n",
      "['(13.749, 19.17]', '(19.17, 23.25]', '(23.25, 25.436]', '(25.436, 28.46]', '(28.46, 32.08]', '(32.08, 35.436]', '(35.436, 40.866]', '(40.866, 48.58]', '(48.58, 80.25]']\n",
      "A3\n",
      "['(-0.001, 6.0]', '(6.0, 28.0]']\n",
      "A8\n",
      "['(-0.001, 0.25]', '(0.25, 28.5]']\n",
      "A11\n",
      "['(-0.001, 2.0]', '(2.0, 5.0]', '(5.0, 67.0]']\n",
      "A14\n",
      "['(-0.001, 394.4]', '(394.4, 2000.0]']\n",
      "A15\n",
      "['(-0.001, 50.0]', '(50.0, 100000.0]']\n"
     ]
    }
   ],
   "source": [
    "for var, bins in exp.semantic_binning.bins_by_var.items():\n",
    "    print(var)\n",
    "    print(bins['bins'])"
   ]
  },
  {
   "cell_type": "code",
   "execution_count": null,
   "metadata": {
    "collapsed": true
   },
   "outputs": [],
   "source": []
  },
  {
   "cell_type": "code",
   "execution_count": 42,
   "metadata": {
    "collapsed": true
   },
   "outputs": [],
   "source": [
    "import torch"
   ]
  },
  {
   "cell_type": "code",
   "execution_count": null,
   "metadata": {
    "collapsed": true
   },
   "outputs": [],
   "source": [
    "torch.optim.Adagrad()"
   ]
  }
 ],
 "metadata": {
  "kernelspec": {
   "display_name": "Python 3",
   "language": "python",
   "name": "python3"
  },
  "language_info": {
   "codemirror_mode": {
    "name": "ipython",
    "version": 3
   },
   "file_extension": ".py",
   "mimetype": "text/x-python",
   "name": "python",
   "nbconvert_exporter": "python",
   "pygments_lexer": "ipython3",
   "version": "3.6.2"
  }
 },
 "nbformat": 4,
 "nbformat_minor": 2
}
