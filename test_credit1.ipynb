{
 "cells": [
  {
   "cell_type": "code",
   "execution_count": 1,
   "metadata": {},
   "outputs": [
    {
     "name": "stderr",
     "output_type": "stream",
     "text": [
      "/home/taewook/anaconda3/lib/python3.6/site-packages/sklearn/cross_validation.py:41: DeprecationWarning: This module was deprecated in version 0.18 in favor of the model_selection module into which all the refactored classes and functions are moved. Also note that the interface of the new CV iterators are different from that of this module. This module will be removed in 0.20.\n",
      "  \"This module will be removed in 0.20.\", DeprecationWarning)\n"
     ]
    }
   ],
   "source": [
    "from experiment import Experiment\n",
    "from utils import save_result\n",
    "%matplotlib inline"
   ]
  },
  {
   "cell_type": "code",
   "execution_count": 2,
   "metadata": {
    "collapsed": true
   },
   "outputs": [],
   "source": [
    "var_dict = dict(\n",
    "    numerical_vars = ['A2','A3','A8','A11','A14','A15'],\n",
    "    categorical_vars = ['A1','A4','A5','A6','A7','A9','A10','A12','A13'],\n",
    "    class_var = 'class'\n",
    ")"
   ]
  },
  {
   "cell_type": "code",
   "execution_count": 10,
   "metadata": {
    "collapsed": true
   },
   "outputs": [],
   "source": [
    "exp = Experiment('data/credit1.csv', \n",
    "                 var_dict,\n",
    "                 embedding_dim=8,\n",
    "                 lr=0.1,\n",
    "                 cv=10,\n",
    "                 weight_decay=0.0,\n",
    "                 batch_size=1024,\n",
    "                 n_epoch=50,\n",
    "                 verbose=True,\n",
    "                 n_bins_range=[10],\n",
    "                 n_init_bins_list=[10],\n",
    "                 co_occur_cutoff=2)"
   ]
  },
  {
   "cell_type": "code",
   "execution_count": 11,
   "metadata": {},
   "outputs": [
    {
     "data": {
      "text/plain": [
       "(654, 16)"
      ]
     },
     "execution_count": 11,
     "metadata": {},
     "output_type": "execute_result"
    }
   ],
   "source": [
    "exp.data.shape"
   ]
  },
  {
   "cell_type": "code",
   "execution_count": null,
   "metadata": {
    "scrolled": true
   },
   "outputs": [
    {
     "name": "stdout",
     "output_type": "stream",
     "text": [
      ">>> Epoch = 1\n",
      "Loss = 3.232924222946167\n",
      ">>> Epoch = 2\n",
      "Loss = 2.6847572326660156\n",
      ">>> Epoch = 3\n",
      "Loss = 2.5838773250579834\n",
      ">>> Epoch = 4\n",
      "Loss = 2.7359426021575928\n",
      ">>> Epoch = 5\n",
      "Loss = 2.492750406265259\n",
      ">>> Epoch = 6\n",
      "Loss = 2.1376545429229736\n",
      ">>> Epoch = 7\n",
      "Loss = 2.4383320808410645\n",
      ">>> Epoch = 8\n",
      "Loss = 1.5987131595611572\n",
      ">>> Epoch = 9\n",
      "Loss = 1.7912346124649048\n",
      ">>> Epoch = 10\n",
      "Loss = 2.2766454219818115\n",
      ">>> Epoch = 11\n",
      "Loss = 2.0672519207000732\n",
      ">>> Epoch = 12\n",
      "Loss = 1.898971676826477\n",
      ">>> Epoch = 13\n",
      "Loss = 1.6283713579177856\n",
      ">>> Epoch = 14\n",
      "Loss = 2.031177043914795\n",
      ">>> Epoch = 15\n",
      "Loss = 1.7938095331192017\n",
      ">>> Epoch = 16\n",
      "Loss = 1.6910117864608765\n",
      ">>> Epoch = 17\n",
      "Loss = 1.7981370687484741\n",
      ">>> Epoch = 18\n",
      "Loss = 1.4567724466323853\n",
      ">>> Epoch = 19\n",
      "Loss = 1.806709885597229\n",
      ">>> Epoch = 20\n",
      "Loss = 1.4137812852859497\n",
      ">>> Epoch = 21\n",
      "Loss = 1.7496323585510254\n",
      ">>> Epoch = 22\n",
      "Loss = 1.8156473636627197\n",
      ">>> Epoch = 23\n",
      "Loss = 1.3768155574798584\n",
      ">>> Epoch = 24\n",
      "Loss = 1.501720905303955\n",
      ">>> Epoch = 25\n",
      "Loss = 1.726670265197754\n",
      ">>> Epoch = 26\n",
      "Loss = 2.0118961334228516\n",
      ">>> Epoch = 27\n",
      "Loss = 1.7301599979400635\n",
      ">>> Epoch = 28\n",
      "Loss = 1.7012443542480469\n",
      ">>> Epoch = 29\n",
      "Loss = 1.8008462190628052\n",
      ">>> Epoch = 30\n",
      "Loss = 1.6282950639724731\n",
      ">>> Epoch = 31\n",
      "Loss = 1.5794706344604492\n",
      ">>> Epoch = 32\n",
      "Loss = 1.6787662506103516\n",
      ">>> Epoch = 33\n",
      "Loss = 1.6084513664245605\n",
      ">>> Epoch = 34\n",
      "Loss = 1.6152278184890747\n",
      ">>> Epoch = 35\n",
      "Loss = 1.614205241203308\n",
      ">>> Epoch = 36\n",
      "Loss = 1.6519556045532227\n",
      ">>> Epoch = 37\n",
      "Loss = 1.4341553449630737\n",
      ">>> Epoch = 38\n",
      "Loss = 1.7488408088684082\n",
      ">>> Epoch = 39\n",
      "Loss = 1.5383446216583252\n",
      ">>> Epoch = 40\n",
      "Loss = 1.3286316394805908\n",
      ">>> Epoch = 41\n",
      "Loss = 1.506536602973938\n",
      ">>> Epoch = 42\n",
      "Loss = 1.4527186155319214\n",
      ">>> Epoch = 43\n",
      "Loss = 1.6705533266067505\n",
      ">>> Epoch = 44\n",
      "Loss = 1.4760570526123047\n",
      ">>> Epoch = 45\n",
      "Loss = 1.3825429677963257\n",
      ">>> Epoch = 46\n",
      "Loss = 1.5841460227966309\n",
      ">>> Epoch = 47\n",
      "Loss = 1.8234950304031372\n",
      ">>> Epoch = 48\n",
      "Loss = 1.4033315181732178\n",
      ">>> Epoch = 49\n",
      "Loss = 1.786356806755066\n",
      ">>> Epoch = 50\n",
      "Loss = 1.6229912042617798\n",
      "Experiment Finished !. Result Saved in Exp Instance..\n"
     ]
    }
   ],
   "source": [
    "exp.perform_exp()"
   ]
  },
  {
   "cell_type": "code",
   "execution_count": null,
   "metadata": {},
   "outputs": [],
   "source": [
    "exp.plot_pairwise_distance_matrices()"
   ]
  },
  {
   "cell_type": "code",
   "execution_count": null,
   "metadata": {
    "collapsed": true
   },
   "outputs": [],
   "source": []
  },
  {
   "cell_type": "code",
   "execution_count": null,
   "metadata": {
    "collapsed": true
   },
   "outputs": [],
   "source": []
  },
  {
   "cell_type": "code",
   "execution_count": null,
   "metadata": {
    "collapsed": true
   },
   "outputs": [],
   "source": []
  },
  {
   "cell_type": "code",
   "execution_count": 6,
   "metadata": {
    "collapsed": true
   },
   "outputs": [],
   "source": [
    "result = exp.get_result()"
   ]
  },
  {
   "cell_type": "code",
   "execution_count": 7,
   "metadata": {},
   "outputs": [
    {
     "data": {
      "text/html": [
       "<div>\n",
       "<style>\n",
       "    .dataframe thead tr:only-child th {\n",
       "        text-align: right;\n",
       "    }\n",
       "\n",
       "    .dataframe thead th {\n",
       "        text-align: left;\n",
       "    }\n",
       "\n",
       "    .dataframe tbody tr th {\n",
       "        vertical-align: top;\n",
       "    }\n",
       "</style>\n",
       "<table border=\"1\" class=\"dataframe\">\n",
       "  <thead>\n",
       "    <tr style=\"text-align: right;\">\n",
       "      <th></th>\n",
       "      <th>disc_method</th>\n",
       "      <th>dt_acc_depth=3</th>\n",
       "      <th>dt_acc_depth=4</th>\n",
       "      <th>dt_acc_depth=5</th>\n",
       "      <th>lr_acc_C=0.5</th>\n",
       "      <th>lr_acc_C=1.0</th>\n",
       "      <th>n_disc_cols</th>\n",
       "      <th>rf_acc_n_est=10</th>\n",
       "      <th>rf_acc_n_est=20</th>\n",
       "      <th>rf_acc_n_est=30</th>\n",
       "    </tr>\n",
       "  </thead>\n",
       "  <tbody>\n",
       "    <tr>\n",
       "      <th>0</th>\n",
       "      <td>raw</td>\n",
       "      <td>0.834</td>\n",
       "      <td>0.824</td>\n",
       "      <td>0.832</td>\n",
       "      <td>0.850</td>\n",
       "      <td>0.849</td>\n",
       "      <td>6</td>\n",
       "      <td>0.850</td>\n",
       "      <td>0.850</td>\n",
       "      <td>0.849</td>\n",
       "    </tr>\n",
       "    <tr>\n",
       "      <th>1</th>\n",
       "      <td>sb_20</td>\n",
       "      <td>0.852</td>\n",
       "      <td>0.817</td>\n",
       "      <td>0.815</td>\n",
       "      <td>0.853</td>\n",
       "      <td>0.855</td>\n",
       "      <td>32</td>\n",
       "      <td>0.858</td>\n",
       "      <td>0.849</td>\n",
       "      <td>0.852</td>\n",
       "    </tr>\n",
       "    <tr>\n",
       "      <th>2</th>\n",
       "      <td>sb_30</td>\n",
       "      <td>0.834</td>\n",
       "      <td>0.827</td>\n",
       "      <td>0.829</td>\n",
       "      <td>0.855</td>\n",
       "      <td>0.858</td>\n",
       "      <td>42</td>\n",
       "      <td>0.852</td>\n",
       "      <td>0.859</td>\n",
       "      <td>0.843</td>\n",
       "    </tr>\n",
       "    <tr>\n",
       "      <th>3</th>\n",
       "      <td>ew_10</td>\n",
       "      <td>0.821</td>\n",
       "      <td>0.823</td>\n",
       "      <td>0.821</td>\n",
       "      <td>0.850</td>\n",
       "      <td>0.847</td>\n",
       "      <td>60</td>\n",
       "      <td>0.841</td>\n",
       "      <td>0.846</td>\n",
       "      <td>0.844</td>\n",
       "    </tr>\n",
       "    <tr>\n",
       "      <th>4</th>\n",
       "      <td>ef_10</td>\n",
       "      <td>0.841</td>\n",
       "      <td>0.858</td>\n",
       "      <td>0.837</td>\n",
       "      <td>0.856</td>\n",
       "      <td>0.852</td>\n",
       "      <td>50</td>\n",
       "      <td>0.853</td>\n",
       "      <td>0.853</td>\n",
       "      <td>0.852</td>\n",
       "    </tr>\n",
       "  </tbody>\n",
       "</table>\n",
       "</div>"
      ],
      "text/plain": [
       "  disc_method  dt_acc_depth=3  dt_acc_depth=4  dt_acc_depth=5  lr_acc_C=0.5  \\\n",
       "0         raw           0.834           0.824           0.832         0.850   \n",
       "1       sb_20           0.852           0.817           0.815         0.853   \n",
       "2       sb_30           0.834           0.827           0.829         0.855   \n",
       "3       ew_10           0.821           0.823           0.821         0.850   \n",
       "4       ef_10           0.841           0.858           0.837         0.856   \n",
       "\n",
       "   lr_acc_C=1.0  n_disc_cols  rf_acc_n_est=10  rf_acc_n_est=20  \\\n",
       "0         0.849            6            0.850            0.850   \n",
       "1         0.855           32            0.858            0.849   \n",
       "2         0.858           42            0.852            0.859   \n",
       "3         0.847           60            0.841            0.846   \n",
       "4         0.852           50            0.853            0.853   \n",
       "\n",
       "   rf_acc_n_est=30  \n",
       "0            0.849  \n",
       "1            0.852  \n",
       "2            0.843  \n",
       "3            0.844  \n",
       "4            0.852  "
      ]
     },
     "execution_count": 7,
     "metadata": {},
     "output_type": "execute_result"
    }
   ],
   "source": [
    "result"
   ]
  },
  {
   "cell_type": "code",
   "execution_count": 8,
   "metadata": {
    "collapsed": true
   },
   "outputs": [],
   "source": [
    "save_result(result, './exp_results', 'credit1')"
   ]
  },
  {
   "cell_type": "code",
   "execution_count": null,
   "metadata": {
    "collapsed": true
   },
   "outputs": [],
   "source": []
  }
 ],
 "metadata": {
  "kernelspec": {
   "display_name": "Python 3",
   "language": "python",
   "name": "python3"
  },
  "language_info": {
   "codemirror_mode": {
    "name": "ipython",
    "version": 3
   },
   "file_extension": ".py",
   "mimetype": "text/x-python",
   "name": "python",
   "nbconvert_exporter": "python",
   "pygments_lexer": "ipython3",
   "version": "3.6.2"
  }
 },
 "nbformat": 4,
 "nbformat_minor": 2
}
