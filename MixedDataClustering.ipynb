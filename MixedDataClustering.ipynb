{
 "cells": [
  {
   "cell_type": "code",
   "execution_count": 1,
   "metadata": {
    "collapsed": true
   },
   "outputs": [],
   "source": [
    "from experiment import Experiment\n",
    "from metadata import Metadata"
   ]
  },
  {
   "cell_type": "markdown",
   "metadata": {},
   "source": [
    "## HR Early Left"
   ]
  },
  {
   "cell_type": "code",
   "execution_count": 2,
   "metadata": {
    "collapsed": true
   },
   "outputs": [],
   "source": [
    "# hr_metadata = Metadata(file_path='data/HR_comma_sep.csv',\n",
    "#                        class_variable_name='left',\n",
    "#                        numerical_variable_names=['satisfaction_level','last_evaluation',\n",
    "#                                                  'number_project','average_montly_hours',\n",
    "#                                                  'time_spend_company'],\n",
    "#                        categorical_variable_names=['sales','salary','Work_accident',\n",
    "#                                                      'promotion_last_5years'])"
   ]
  },
  {
   "cell_type": "code",
   "execution_count": 3,
   "metadata": {
    "collapsed": false
   },
   "outputs": [],
   "source": [
    "# exp1 = Experiment(hr_metadata)\n",
    "# exp1.perform_experiment()"
   ]
  },
  {
   "cell_type": "markdown",
   "metadata": {},
   "source": [
    "## Bank Marketing"
   ]
  },
  {
   "cell_type": "code",
   "execution_count": 4,
   "metadata": {
    "collapsed": true
   },
   "outputs": [],
   "source": [
    "# bank_metadata = Metadata(file_path='data/bank-full.csv',\n",
    "#                           class_variable_name='y',\n",
    "#                           numerical_variable_names=['age', 'balance', 'campaign', \n",
    "#                                                     'pdays', 'previous'],\n",
    "#                           categorical_variable_names=['job', 'marital', 'education', \n",
    "#                                                       'default', 'housing', 'loan', \n",
    "#                                                       'contact', 'day', 'month', 'poutcome'])"
   ]
  },
  {
   "cell_type": "code",
   "execution_count": 5,
   "metadata": {
    "collapsed": false
   },
   "outputs": [],
   "source": [
    "# exp2 = Experiment(bank_metadata)\n",
    "# exp2.perform_experiment()"
   ]
  },
  {
   "cell_type": "markdown",
   "metadata": {},
   "source": [
    "## Default Credit Card"
   ]
  },
  {
   "cell_type": "code",
   "execution_count": 6,
   "metadata": {
    "collapsed": true
   },
   "outputs": [],
   "source": [
    "card_metadata = Metadata(file_path='data/default_credit_card.csv',\n",
    "                          class_variable_name='default payment next month',\n",
    "                          numerical_variable_names=['LIMIT_BAL', 'AGE', \n",
    "                                                    'PAY_0', 'PAY_2', 'PAY_3', \n",
    "                                                    'PAY_4', 'PAY_5', 'PAY_6', \n",
    "                                                    'BILL_AMT1', 'BILL_AMT2','BILL_AMT3',\n",
    "                                                    'BILL_AMT4', 'BILL_AMT5', 'BILL_AMT6', \n",
    "                                                    'PAY_AMT1', 'PAY_AMT2','PAY_AMT3', \n",
    "                                                    'PAY_AMT4', 'PAY_AMT5','PAY_AMT6'],\n",
    "                          categorical_variable_names=['SEX', 'EDUCATION', 'MARRIAGE'])"
   ]
  },
  {
   "cell_type": "code",
   "execution_count": 7,
   "metadata": {
    "collapsed": false,
    "scrolled": false
   },
   "outputs": [
    {
     "name": "stderr",
     "output_type": "stream",
     "text": [
      "C:\\Users\\Wook\\Anaconda3\\lib\\site-packages\\pandas\\core\\frame.py:2378: SettingWithCopyWarning: \n",
      "A value is trying to be set on a copy of a slice from a DataFrame.\n",
      "Try using .loc[row_indexer,col_indexer] = value instead\n",
      "\n",
      "See the caveats in the documentation: http://pandas.pydata.org/pandas-docs/stable/indexing.html#indexing-view-versus-copy\n",
      "  self[k1] = value[k2]\n"
     ]
    },
    {
     "name": "stdout",
     "output_type": "stream",
     "text": [
      "LIMIT_BAL\n",
      "AGE\n",
      "PAY_0\n",
      "PAY_2\n",
      "PAY_3\n",
      "PAY_4\n",
      "PAY_5\n",
      "PAY_6\n",
      "BILL_AMT1\n",
      "BILL_AMT2\n",
      "BILL_AMT3\n",
      "BILL_AMT4\n",
      "BILL_AMT5\n",
      "BILL_AMT6\n",
      "PAY_AMT1\n",
      "PAY_AMT2\n",
      "PAY_AMT3\n",
      "PAY_AMT4\n",
      "PAY_AMT5\n",
      "PAY_AMT6\n",
      ">>>>> Clustering Quality >>>>>\n",
      "Raw:  0.0137671402027\n",
      "Normalized:  0.00785853352122\n",
      "Uniformly Binned:  0.0493968095996\n",
      "Semantically Binned:  0.00704582656138\n",
      ">>>>> Classification Performance >>>>>\n",
      "Raw:  0.778766666667\n",
      "Normalized:  0.8105\n",
      "Uniformly Binned:  0.816\n",
      "Semantically Binned:  0.793833333333\n"
     ]
    }
   ],
   "source": [
    "exp3 = Experiment(card_metadata)\n",
    "exp3.perform_experiment()"
   ]
  },
  {
   "cell_type": "code",
   "execution_count": 12,
   "metadata": {
    "collapsed": false,
    "scrolled": true
   },
   "outputs": [
    {
     "data": {
      "text/plain": [
       "113"
      ]
     },
     "execution_count": 12,
     "metadata": {},
     "output_type": "execute_result"
    }
   ],
   "source": [
    "len(exp3.semantically_binned_data.columns)"
   ]
  },
  {
   "cell_type": "code",
   "execution_count": 13,
   "metadata": {
    "collapsed": false
   },
   "outputs": [
    {
     "data": {
      "text/plain": [
       "109"
      ]
     },
     "execution_count": 13,
     "metadata": {},
     "output_type": "execute_result"
    }
   ],
   "source": [
    "len(exp3.uniformly_binned_data.columns)"
   ]
  },
  {
   "cell_type": "code",
   "execution_count": null,
   "metadata": {
    "collapsed": true
   },
   "outputs": [],
   "source": [
    "len(exp3.uniformly_binned_data.columns)"
   ]
  }
 ],
 "metadata": {
  "anaconda-cloud": {},
  "kernelspec": {
   "display_name": "Python [default]",
   "language": "python",
   "name": "python3"
  },
  "language_info": {
   "codemirror_mode": {
    "name": "ipython",
    "version": 3
   },
   "file_extension": ".py",
   "mimetype": "text/x-python",
   "name": "python",
   "nbconvert_exporter": "python",
   "pygments_lexer": "ipython3",
   "version": "3.5.2"
  }
 },
 "nbformat": 4,
 "nbformat_minor": 1
}
