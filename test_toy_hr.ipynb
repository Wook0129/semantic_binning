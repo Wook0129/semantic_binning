{
 "cells": [
  {
   "cell_type": "code",
   "execution_count": 1,
   "metadata": {
    "scrolled": true
   },
   "outputs": [],
   "source": [
    "from experiment import Experiment\n",
    "import torch\n",
    "torch.manual_seed(2)\n",
    "%matplotlib inline"
   ]
  },
  {
   "cell_type": "code",
   "execution_count": 2,
   "metadata": {
    "collapsed": true
   },
   "outputs": [],
   "source": [
    "var_dict = dict(\n",
    "    categorical_vars = ['Work_accident', 'promotion_last_5years', 'sales', \n",
    "                        'salary'],\n",
    "    numerical_vars = ['satisfaction_level', 'last_evaluation', 'average_montly_hours'\n",
    "                     ,'number_project','time_spend_company'],\n",
    "    class_var = 'left'\n",
    ")"
   ]
  },
  {
   "cell_type": "code",
   "execution_count": 3,
   "metadata": {},
   "outputs": [],
   "source": [
    "exp = Experiment('data/HR_comma_sep.csv', \n",
    "                 var_dict,\n",
    "                 embedding_dim=8,\n",
    "                 lr=5e-3,\n",
    "                 batch_size=1024,\n",
    "                 n_epoch=50,\n",
    "                 verbose=True,\n",
    "                 n_bins_range=range(2,21),\n",
    "                 n_init_bins_list=[10,15,20,25,30])"
   ]
  },
  {
   "cell_type": "code",
   "execution_count": null,
   "metadata": {
    "scrolled": true
   },
   "outputs": [
    {
     "name": "stdout",
     "output_type": "stream",
     "text": [
      ">>> Epoch = 1, Loss = 0.40256980061531067\n",
      "[8, 5, 6, 2, 4]\n",
      ">>> Epoch = 2, Loss = 0.3303510546684265\n",
      "[8, 8, 6, 2, 4]\n",
      ">>> Epoch = 3, Loss = 0.326318621635437\n",
      "[8, 8, 7, 2, 4]\n",
      ">>> Epoch = 4, Loss = 0.3242528438568115\n",
      "[3, 8, 7, 2, 4]\n",
      ">>> Epoch = 5, Loss = 0.32352694869041443\n",
      "[3, 7, 7, 2, 4]\n",
      ">>> Epoch = 6, Loss = 0.32449018955230713\n",
      "[3, 7, 6, 2, 2]\n",
      "0 5\n",
      ">>> Epoch = 7, Loss = 0.32488813996315\n",
      "[3, 7, 4, 2, 2]\n",
      "0 5\n",
      ">>> Epoch = 8, Loss = 0.319598525762558\n",
      "[3, 8, 4, 2, 2]\n",
      "0 5\n",
      ">>> Epoch = 9, Loss = 0.317917138338089\n",
      "[3, 8, 3, 2, 3]\n",
      "0 5\n",
      ">>> Epoch = 10, Loss = 0.3193318545818329\n",
      "[3, 8, 4, 2, 3]\n",
      "0 5\n",
      ">>> Epoch = 11, Loss = 0.31641367077827454\n",
      "[3, 8, 2, 2, 3]\n",
      "0 5\n",
      ">>> Epoch = 12, Loss = 0.3161611557006836\n",
      "[3, 8, 2, 2, 3]\n",
      "1 5\n",
      ">>> Epoch = 13, Loss = 0.3181714713573456\n",
      "[3, 7, 2, 2, 3]\n",
      "0 5\n",
      ">>> Epoch = 14, Loss = 0.31550464034080505\n",
      "[3, 2, 2, 2, 3]\n",
      "0 5\n",
      ">>> Epoch = 15, Loss = 0.31400156021118164\n",
      "[3, 2, 2, 2, 3]\n",
      "1 5\n",
      ">>> Epoch = 16, Loss = 0.31259885430336\n",
      "[3, 2, 2, 2, 3]\n",
      "2 5\n",
      ">>> Epoch = 17, Loss = 0.3149694800376892\n",
      "[3, 2, 2, 2, 3]\n",
      "3 5\n",
      ">>> Epoch = 18, Loss = 0.31568241119384766\n",
      "[3, 2, 2, 2, 3]\n",
      "4 5\n",
      ">>> Epoch = 19, Loss = 0.3091011941432953\n",
      "[3, 3, 3, 2, 3]\n",
      "0 5\n",
      ">>> Epoch = 20, Loss = 0.31464993953704834\n",
      "[3, 3, 3, 2, 3]\n",
      "1 5\n",
      ">>> Epoch = 21, Loss = 0.3142262399196625\n",
      "[3, 3, 3, 2, 3]\n",
      "2 5\n",
      ">>> Epoch = 22, Loss = 0.3118322789669037\n",
      "[3, 3, 3, 2, 3]\n",
      "3 5\n",
      ">>> Epoch = 23, Loss = 0.31513336300849915\n",
      "[3, 3, 5, 2, 3]\n",
      "0 5\n",
      ">>> Epoch = 24, Loss = 0.3126921057701111\n",
      "[3, 3, 4, 2, 3]\n",
      "0 5\n",
      ">>> Epoch = 25, Loss = 0.31093111634254456\n",
      "[3, 3, 4, 2, 3]\n",
      "1 5\n",
      ">>> Epoch = 26, Loss = 0.31245216727256775\n",
      "[3, 3, 4, 2, 3]\n",
      "2 5\n",
      ">>> Epoch = 27, Loss = 0.31072577834129333\n",
      "[3, 3, 4, 2, 3]\n",
      "3 5\n",
      ">>> Epoch = 28, Loss = 0.3123878240585327\n",
      "[3, 3, 4, 2, 3]\n",
      "4 5\n",
      ">>> Epoch = 29, Loss = 0.31244203448295593\n",
      "[3, 3, 4, 2, 2]\n",
      "0 5\n",
      ">>> Epoch = 30, Loss = 0.31038370728492737\n",
      "[3, 3, 4, 2, 2]\n",
      "1 5\n",
      ">>> Epoch = 31, Loss = 0.3120332360267639\n",
      "[3, 3, 4, 2, 2]\n",
      "2 5\n",
      ">>> Epoch = 32, Loss = 0.31505340337753296\n",
      "[3, 3, 4, 2, 2]\n",
      "3 5\n",
      ">>> Epoch = 33, Loss = 0.3131721615791321\n",
      "[3, 3, 4, 2, 2]\n",
      "4 5\n",
      ">>> Epoch = 34, Loss = 0.3121150732040405\n",
      "[3, 3, 4, 2, 2]\n",
      "5 5\n",
      "Embedding Converged!\n",
      "5 5\n",
      ">>> Epoch = 1, Loss = 0.3676172196865082\n",
      "[7, 9, 13, 3, 4]\n",
      "0 5\n",
      ">>> Epoch = 2, Loss = 0.2771480679512024\n",
      "[7, 9, 9, 3, 4]\n",
      "0 5\n",
      ">>> Epoch = 3, Loss = 0.2691519558429718\n",
      "[7, 9, 10, 3, 4]\n",
      "0 5\n",
      ">>> Epoch = 4, Loss = 0.26587390899658203\n",
      "[7, 9, 10, 3, 4]\n",
      "1 5\n",
      ">>> Epoch = 5, Loss = 0.26746508479118347\n",
      "[7, 7, 10, 2, 4]\n",
      "0 5\n",
      ">>> Epoch = 6, Loss = 0.2656068503856659\n",
      "[10, 9, 10, 2, 4]\n",
      "0 5\n",
      ">>> Epoch = 7, Loss = 0.26493579149246216\n",
      "[6, 7, 8, 2, 4]\n",
      "0 5\n",
      ">>> Epoch = 8, Loss = 0.2658950388431549\n",
      "[6, 7, 8, 2, 4]\n",
      "1 5\n",
      ">>> Epoch = 9, Loss = 0.26468735933303833\n",
      "[6, 7, 8, 2, 3]\n",
      "0 5\n",
      ">>> Epoch = 10, Loss = 0.2614552080631256\n",
      "[8, 6, 8, 2, 3]\n",
      "0 5\n",
      ">>> Epoch = 11, Loss = 0.2615964710712433\n",
      "[10, 12, 10, 2, 3]\n",
      "0 5\n",
      ">>> Epoch = 12, Loss = 0.26349809765815735\n",
      "[10, 12, 9, 2, 3]\n",
      "0 5\n",
      ">>> Epoch = 13, Loss = 0.26241040229797363\n",
      "[10, 12, 9, 2, 3]\n",
      "1 5\n",
      ">>> Epoch = 14, Loss = 0.2604791224002838\n",
      "[10, 9, 10, 2, 3]\n",
      "0 5\n",
      ">>> Epoch = 15, Loss = 0.2599726915359497\n",
      "[10, 10, 10, 2, 3]\n",
      "0 5\n",
      ">>> Epoch = 16, Loss = 0.2620036005973816\n",
      "[10, 9, 10, 2, 3]\n",
      "1 5\n",
      ">>> Epoch = 17, Loss = 0.26280921697616577\n",
      "[5, 9, 10, 2, 3]\n",
      "0 5\n",
      ">>> Epoch = 18, Loss = 0.26068180799484253\n",
      "[3, 12, 10, 2, 3]\n",
      "0 5\n",
      ">>> Epoch = 19, Loss = 0.25886839628219604\n",
      "[3, 8, 10, 2, 3]\n",
      "0 5\n",
      ">>> Epoch = 20, Loss = 0.257754921913147\n",
      "[3, 8, 10, 2, 3]\n",
      "1 5\n",
      ">>> Epoch = 21, Loss = 0.2587130069732666\n",
      "[3, 8, 10, 2, 3]\n",
      "2 5\n",
      ">>> Epoch = 22, Loss = 0.25607064366340637\n",
      "[2, 8, 10, 2, 3]\n",
      "0 5\n",
      ">>> Epoch = 23, Loss = 0.2576371431350708\n",
      "[2, 5, 2, 2, 3]\n",
      "0 5\n",
      ">>> Epoch = 24, Loss = 0.2579827606678009\n",
      "[2, 5, 5, 2, 3]\n",
      "0 5\n",
      ">>> Epoch = 25, Loss = 0.255960613489151\n",
      "[2, 4, 2, 2, 3]\n",
      "0 5\n",
      ">>> Epoch = 26, Loss = 0.25628116726875305\n",
      "[2, 4, 3, 2, 3]\n",
      "0 5\n",
      ">>> Epoch = 27, Loss = 0.25565722584724426\n",
      "[2, 4, 3, 2, 3]\n",
      "1 5\n",
      ">>> Epoch = 28, Loss = 0.2555988132953644\n",
      "[2, 4, 3, 2, 3]\n",
      "2 5\n",
      ">>> Epoch = 29, Loss = 0.2573576867580414\n",
      "[2, 4, 3, 2, 3]\n",
      "3 5\n",
      ">>> Epoch = 30, Loss = 0.2552870512008667\n",
      "[2, 4, 3, 2, 3]\n",
      "4 5\n",
      ">>> Epoch = 31, Loss = 0.25645574927330017\n",
      "[2, 4, 3, 2, 3]\n",
      "5 5\n",
      "Embedding Converged!\n",
      "5 5\n",
      ">>> Epoch = 1, Loss = 0.3277141749858856\n",
      "[14, 15, 19, 2, 4]\n",
      "0 5\n",
      ">>> Epoch = 2, Loss = 0.24029400944709778\n",
      "[19, 16, 18, 2, 4]\n",
      "0 5\n",
      ">>> Epoch = 3, Loss = 0.23270918428897858\n",
      "[18, 15, 18, 3, 4]\n",
      "0 5\n",
      ">>> Epoch = 4, Loss = 0.2310534119606018\n",
      "[13, 15, 18, 3, 4]\n",
      "0 5\n",
      ">>> Epoch = 5, Loss = 0.22998952865600586\n",
      "[14, 15, 18, 3, 4]\n",
      "0 5\n",
      ">>> Epoch = 6, Loss = 0.2272016704082489\n",
      "[11, 15, 18, 3, 4]\n",
      "0 5\n",
      ">>> Epoch = 7, Loss = 0.2274504154920578\n",
      "[9, 14, 16, 3, 4]\n",
      "0 5\n",
      ">>> Epoch = 8, Loss = 0.22779543697834015\n",
      "[6, 14, 17, 3, 4]\n",
      "0 5\n",
      ">>> Epoch = 9, Loss = 0.22593191266059875\n",
      "[7, 13, 17, 3, 4]\n",
      "0 5\n",
      ">>> Epoch = 10, Loss = 0.22744199633598328\n",
      "[7, 13, 17, 2, 4]\n",
      "0 5\n",
      ">>> Epoch = 11, Loss = 0.22407977283000946\n",
      "[7, 13, 16, 2, 4]\n",
      "0 5\n",
      ">>> Epoch = 12, Loss = 0.2254694104194641\n",
      "[7, 14, 10, 2, 4]\n",
      "0 5\n",
      ">>> Epoch = 13, Loss = 0.22437357902526855\n",
      "[7, 16, 10, 2, 4]\n",
      "0 5\n",
      ">>> Epoch = 14, Loss = 0.22477573156356812\n",
      "[7, 16, 10, 2, 4]\n",
      "1 5\n",
      ">>> Epoch = 15, Loss = 0.223102867603302\n",
      "[7, 18, 10, 2, 3]\n",
      "0 5\n",
      ">>> Epoch = 16, Loss = 0.22401776909828186\n",
      "[9, 6, 7, 2, 3]\n",
      "0 5\n",
      ">>> Epoch = 17, Loss = 0.22449535131454468\n",
      "[10, 6, 7, 2, 3]\n",
      "0 5\n",
      ">>> Epoch = 18, Loss = 0.22080233693122864\n",
      "[11, 6, 7, 2, 3]\n",
      "0 5\n",
      ">>> Epoch = 19, Loss = 0.22513043880462646\n",
      "[8, 4, 7, 2, 3]\n",
      "0 5\n",
      ">>> Epoch = 20, Loss = 0.22277720272541046\n",
      "[8, 4, 5, 2, 3]\n",
      "0 5\n",
      ">>> Epoch = 21, Loss = 0.2230503261089325\n",
      "[8, 4, 5, 2, 3]\n",
      "1 5\n",
      ">>> Epoch = 22, Loss = 0.22159606218338013\n",
      "[8, 4, 5, 2, 3]\n",
      "2 5\n",
      ">>> Epoch = 23, Loss = 0.22160394489765167\n",
      "[9, 2, 4, 2, 3]\n",
      "0 5\n",
      ">>> Epoch = 24, Loss = 0.2200821042060852\n",
      "[9, 2, 4, 2, 3]\n",
      "1 5\n",
      ">>> Epoch = 25, Loss = 0.22277550399303436\n",
      "[9, 2, 4, 2, 3]\n",
      "2 5\n",
      ">>> Epoch = 26, Loss = 0.22248363494873047\n",
      "[9, 2, 4, 2, 3]\n",
      "3 5\n",
      ">>> Epoch = 27, Loss = 0.22154511511325836\n",
      "[8, 2, 7, 2, 3]\n",
      "0 5\n",
      ">>> Epoch = 28, Loss = 0.2200876772403717\n",
      "[9, 2, 4, 2, 3]\n",
      "4 5\n",
      ">>> Epoch = 29, Loss = 0.2209472358226776\n",
      "[2, 2, 4, 2, 3]\n",
      "0 5\n",
      ">>> Epoch = 30, Loss = 0.21906937658786774\n",
      "[2, 2, 4, 2, 3]\n",
      "1 5\n",
      ">>> Epoch = 31, Loss = 0.22017505764961243\n",
      "[2, 2, 4, 2, 3]\n",
      "2 5\n",
      ">>> Epoch = 32, Loss = 0.21953512728214264\n",
      "[2, 2, 4, 2, 3]\n",
      "3 5\n",
      ">>> Epoch = 33, Loss = 0.2205720692873001\n",
      "[2, 3, 5, 2, 3]\n",
      "0 5\n",
      ">>> Epoch = 34, Loss = 0.2208208292722702\n",
      "[2, 3, 5, 2, 3]\n",
      "1 5\n",
      ">>> Epoch = 35, Loss = 0.22184666991233826\n",
      "[2, 3, 5, 2, 3]\n",
      "2 5\n",
      ">>> Epoch = 36, Loss = 0.22087669372558594\n",
      "[2, 3, 5, 2, 3]\n",
      "3 5\n",
      ">>> Epoch = 37, Loss = 0.21920424699783325\n",
      "[2, 3, 5, 2, 3]\n",
      "4 5\n",
      ">>> Epoch = 38, Loss = 0.22055035829544067\n",
      "[2, 3, 6, 2, 3]\n",
      "0 5\n",
      ">>> Epoch = 39, Loss = 0.22021882236003876\n",
      "[2, 3, 5, 2, 3]\n",
      "4 5\n",
      ">>> Epoch = 40, Loss = 0.2197490930557251\n",
      "[2, 3, 5, 2, 3]\n",
      "4 5\n",
      ">>> Epoch = 41, Loss = 0.2205413430929184\n",
      "[2, 3, 4, 2, 3]\n",
      "0 5\n",
      ">>> Epoch = 42, Loss = 0.2192179560661316\n",
      "[2, 3, 4, 2, 3]\n",
      "1 5\n",
      ">>> Epoch = 43, Loss = 0.2181541472673416\n",
      "[2, 3, 4, 2, 3]\n",
      "2 5\n",
      ">>> Epoch = 44, Loss = 0.21984760463237762\n",
      "[2, 3, 4, 2, 3]\n",
      "3 5\n",
      ">>> Epoch = 45, Loss = 0.22109071910381317\n",
      "[2, 3, 4, 2, 3]\n",
      "4 5\n",
      ">>> Epoch = 46, Loss = 0.21981479227542877\n",
      "[2, 3, 4, 2, 3]\n",
      "5 5\n",
      "Embedding Converged!\n",
      "5 5\n",
      ">>> Epoch = 1, Loss = 0.30224737524986267\n",
      "[19, 19, 12, 3, 3]\n",
      "0 5\n",
      ">>> Epoch = 2, Loss = 0.2181052714586258\n",
      "[20, 21, 16, 3, 3]\n",
      "0 5\n",
      ">>> Epoch = 3, Loss = 0.20533642172813416\n",
      "[12, 20, 17, 3, 3]\n",
      "0 5\n",
      ">>> Epoch = 4, Loss = 0.2034730613231659\n",
      "[12, 22, 15, 3, 3]\n",
      "0 5\n",
      ">>> Epoch = 5, Loss = 0.20171640813350677\n",
      "[12, 9, 15, 3, 3]\n",
      "0 5\n",
      ">>> Epoch = 6, Loss = 0.2023598551750183\n",
      "[14, 8, 15, 3, 3]\n",
      "0 5\n",
      ">>> Epoch = 7, Loss = 0.20080962777137756\n",
      "[21, 9, 15, 3, 3]\n",
      "0 5\n",
      ">>> Epoch = 8, Loss = 0.19962701201438904\n",
      "[22, 12, 15, 3, 3]\n",
      "0 5\n",
      ">>> Epoch = 9, Loss = 0.19883310794830322\n",
      "[20, 8, 15, 3, 3]\n",
      "0 5\n",
      ">>> Epoch = 10, Loss = 0.1994795948266983\n",
      "[21, 8, 15, 3, 3]\n",
      "0 5\n",
      ">>> Epoch = 11, Loss = 0.20052310824394226\n",
      "[19, 8, 15, 3, 3]\n",
      "0 5\n",
      ">>> Epoch = 12, Loss = 0.20009253919124603\n",
      "[20, 8, 15, 3, 3]\n",
      "1 5\n",
      ">>> Epoch = 13, Loss = 0.1979830116033554\n",
      "[19, 8, 13, 3, 3]\n",
      "0 5\n",
      ">>> Epoch = 14, Loss = 0.19656959176063538\n",
      "[19, 10, 13, 3, 3]\n",
      "0 5\n",
      ">>> Epoch = 15, Loss = 0.20090454816818237\n",
      "[19, 8, 13, 3, 3]\n",
      "1 5\n",
      ">>> Epoch = 16, Loss = 0.19647559523582458\n",
      "[18, 8, 13, 3, 3]\n",
      "0 5\n",
      ">>> Epoch = 17, Loss = 0.19822868704795837\n",
      "[13, 21, 13, 3, 3]\n",
      "0 5\n",
      ">>> Epoch = 18, Loss = 0.19514383375644684\n",
      "[19, 9, 13, 3, 3]\n",
      "0 5\n",
      ">>> Epoch = 19, Loss = 0.19613918662071228\n"
     ]
    },
    {
     "name": "stdout",
     "output_type": "stream",
     "text": [
      "[16, 13, 13, 2, 3]\n",
      "0 5\n",
      ">>> Epoch = 20, Loss = 0.1974078118801117\n",
      "[14, 13, 13, 2, 4]\n",
      "0 5\n",
      ">>> Epoch = 21, Loss = 0.19501547515392303\n",
      "[18, 15, 13, 2, 4]\n",
      "0 5\n",
      ">>> Epoch = 22, Loss = 0.19674988090991974\n",
      "[15, 2, 13, 2, 4]\n",
      "0 5\n",
      ">>> Epoch = 23, Loss = 0.1966811716556549\n",
      "[21, 2, 14, 2, 4]\n",
      "0 5\n",
      ">>> Epoch = 24, Loss = 0.19636058807373047\n",
      "[15, 2, 11, 2, 4]\n",
      "0 5\n",
      ">>> Epoch = 25, Loss = 0.19589252769947052\n",
      "[16, 2, 10, 2, 3]\n",
      "0 5\n",
      ">>> Epoch = 26, Loss = 0.1954488605260849\n",
      "[2, 2, 10, 2, 3]\n",
      "0 5\n",
      ">>> Epoch = 27, Loss = 0.19618892669677734\n",
      "[2, 2, 10, 2, 3]\n",
      "1 5\n",
      ">>> Epoch = 28, Loss = 0.19526688754558563\n",
      "[2, 2, 10, 2, 3]\n",
      "2 5\n",
      ">>> Epoch = 29, Loss = 0.19490176439285278\n",
      "[2, 2, 10, 2, 3]\n",
      "3 5\n",
      ">>> Epoch = 30, Loss = 0.19501543045043945\n",
      "[2, 2, 8, 2, 3]\n",
      "0 5\n",
      ">>> Epoch = 31, Loss = 0.19424884021282196\n",
      "[2, 2, 2, 2, 3]\n",
      "0 5\n",
      ">>> Epoch = 32, Loss = 0.1958913505077362\n",
      "[2, 2, 2, 2, 3]\n",
      "1 5\n",
      ">>> Epoch = 33, Loss = 0.1937345713376999\n",
      "[2, 3, 2, 2, 3]\n",
      "0 5\n",
      ">>> Epoch = 34, Loss = 0.1947876513004303\n",
      "[2, 3, 7, 2, 3]\n",
      "0 5\n",
      ">>> Epoch = 35, Loss = 0.1940111219882965\n",
      "[2, 3, 7, 2, 3]\n",
      "1 5\n",
      ">>> Epoch = 36, Loss = 0.192887082695961\n",
      "[2, 3, 7, 2, 3]\n",
      "2 5\n",
      ">>> Epoch = 37, Loss = 0.1941472738981247\n",
      "[2, 3, 6, 2, 3]\n",
      "0 5\n",
      ">>> Epoch = 38, Loss = 0.19367684423923492\n",
      "[2, 3, 6, 2, 3]\n",
      "1 5\n",
      ">>> Epoch = 39, Loss = 0.1938379853963852\n",
      "[2, 3, 6, 2, 3]\n",
      "2 5\n",
      ">>> Epoch = 40, Loss = 0.1935647875070572\n",
      "[2, 3, 6, 2, 3]\n",
      "3 5\n",
      ">>> Epoch = 41, Loss = 0.1924213320016861\n",
      "[2, 3, 6, 2, 3]\n",
      "4 5\n",
      ">>> Epoch = 42, Loss = 0.19363464415073395\n",
      "[2, 3, 4, 2, 3]\n",
      "0 5\n",
      ">>> Epoch = 43, Loss = 0.19404281675815582\n",
      "[2, 3, 4, 2, 3]\n",
      "1 5\n",
      ">>> Epoch = 44, Loss = 0.19467031955718994\n",
      "[2, 3, 4, 2, 3]\n",
      "2 5\n",
      ">>> Epoch = 45, Loss = 0.1935497522354126\n",
      "[2, 3, 4, 2, 3]\n",
      "3 5\n",
      ">>> Epoch = 46, Loss = 0.1940021961927414\n",
      "[2, 3, 4, 2, 3]\n",
      "4 5\n",
      ">>> Epoch = 47, Loss = 0.19226406514644623\n",
      "[2, 3, 4, 2, 3]\n",
      "5 5\n",
      "Embedding Converged!\n",
      "5 5\n",
      ">>> Epoch = 1, Loss = 0.338144987821579\n",
      "[26, 19, 14, 2, 5]\n",
      "0 5\n",
      ">>> Epoch = 2, Loss = 0.2037775069475174\n",
      "[27, 15, 27, 2, 4]\n",
      "0 5\n",
      ">>> Epoch = 3, Loss = 0.18549954891204834\n",
      "[28, 15, 26, 2, 4]\n",
      "0 5\n",
      ">>> Epoch = 4, Loss = 0.18034783005714417\n",
      "[14, 18, 27, 2, 5]\n",
      "0 5\n",
      ">>> Epoch = 5, Loss = 0.18014344573020935\n",
      "[14, 19, 27, 2, 5]\n",
      "0 5\n",
      ">>> Epoch = 6, Loss = 0.17826060950756073\n",
      "[14, 18, 26, 2, 5]\n",
      "0 5\n",
      ">>> Epoch = 7, Loss = 0.17837299406528473\n",
      "[14, 28, 26, 2, 5]\n",
      "0 5\n",
      ">>> Epoch = 8, Loss = 0.1780702769756317\n",
      "[12, 15, 26, 2, 5]\n",
      "0 5\n",
      ">>> Epoch = 9, Loss = 0.17725107073783875\n",
      "[14, 20, 27, 2, 5]\n",
      "0 5\n",
      ">>> Epoch = 10, Loss = 0.17830410599708557\n",
      "[14, 15, 25, 2, 5]\n",
      "0 5\n",
      ">>> Epoch = 11, Loss = 0.17697809636592865\n",
      "[14, 19, 26, 2, 6]\n",
      "0 5\n",
      ">>> Epoch = 12, Loss = 0.17542362213134766\n",
      "[12, 12, 23, 2, 6]\n",
      "0 5\n",
      ">>> Epoch = 13, Loss = 0.17670731246471405\n",
      "[12, 12, 26, 2, 6]\n",
      "0 5\n",
      ">>> Epoch = 14, Loss = 0.17627787590026855\n",
      "[12, 12, 23, 2, 6]\n",
      "1 5\n",
      ">>> Epoch = 15, Loss = 0.17651475965976715\n",
      "[12, 12, 24, 2, 6]\n",
      "0 5\n",
      ">>> Epoch = 16, Loss = 0.17684748768806458\n",
      "[12, 12, 22, 2, 6]\n",
      "0 5\n",
      ">>> Epoch = 17, Loss = 0.17513909935951233\n",
      "[12, 15, 18, 2, 5]\n",
      "0 5\n",
      ">>> Epoch = 18, Loss = 0.1735740751028061\n",
      "[12, 13, 18, 2, 5]\n",
      "0 5\n",
      ">>> Epoch = 19, Loss = 0.1748380959033966\n",
      "[12, 13, 18, 2, 3]\n",
      "0 5\n",
      ">>> Epoch = 20, Loss = 0.17399469017982483\n",
      "[12, 13, 18, 2, 3]\n",
      "1 5\n",
      ">>> Epoch = 21, Loss = 0.17416460812091827\n",
      "[12, 13, 18, 2, 3]\n",
      "2 5\n",
      ">>> Epoch = 22, Loss = 0.17464539408683777\n",
      "[10, 13, 17, 2, 3]\n",
      "0 5\n",
      ">>> Epoch = 23, Loss = 0.17368759214878082\n",
      "[18, 13, 18, 2, 3]\n",
      "0 5\n",
      ">>> Epoch = 24, Loss = 0.1730370968580246\n",
      "[23, 13, 11, 2, 3]\n",
      "0 5\n",
      ">>> Epoch = 25, Loss = 0.1741895228624344\n",
      "[19, 5, 11, 2, 3]\n",
      "0 5\n",
      ">>> Epoch = 26, Loss = 0.17563597857952118\n",
      "[10, 5, 7, 2, 3]\n",
      "0 5\n",
      ">>> Epoch = 27, Loss = 0.17267252504825592\n",
      "[10, 5, 21, 2, 3]\n",
      "0 5\n",
      ">>> Epoch = 28, Loss = 0.17336022853851318\n",
      "[11, 5, 12, 2, 3]\n",
      "0 5\n",
      ">>> Epoch = 29, Loss = 0.17285488545894623\n",
      "[11, 5, 13, 2, 3]\n",
      "0 5\n",
      ">>> Epoch = 30, Loss = 0.17326053977012634\n",
      "[11, 5, 13, 2, 3]\n",
      "1 5\n",
      ">>> Epoch = 31, Loss = 0.1729189157485962\n",
      "[11, 5, 13, 2, 3]\n",
      "2 5\n",
      ">>> Epoch = 32, Loss = 0.17126700282096863\n",
      "[4, 5, 13, 2, 3]\n",
      "0 5\n",
      ">>> Epoch = 33, Loss = 0.17190252244472504\n",
      "[4, 4, 13, 2, 3]\n",
      "0 5\n",
      ">>> Epoch = 34, Loss = 0.17096146941184998\n",
      "[4, 4, 10, 2, 5]\n",
      "0 5\n",
      ">>> Epoch = 35, Loss = 0.17219680547714233\n",
      "[4, 4, 10, 2, 3]\n",
      "0 5\n",
      ">>> Epoch = 36, Loss = 0.17338187992572784\n",
      "[4, 4, 10, 2, 3]\n",
      "1 5\n",
      ">>> Epoch = 37, Loss = 0.17299102246761322\n",
      "[4, 4, 8, 2, 3]\n",
      "0 5\n",
      ">>> Epoch = 38, Loss = 0.17195551097393036\n",
      "[4, 12, 8, 2, 3]\n",
      "0 5\n",
      ">>> Epoch = 39, Loss = 0.17126502096652985\n",
      "[4, 14, 8, 2, 3]\n",
      "0 5\n",
      ">>> Epoch = 40, Loss = 0.17308783531188965\n"
     ]
    }
   ],
   "source": [
    "%time clf_scores = exp.test_classification_performance(cv=3)"
   ]
  },
  {
   "cell_type": "code",
   "execution_count": null,
   "metadata": {},
   "outputs": [],
   "source": [
    "exp.print_classification_scores(clf_scores, method='dummy_only')"
   ]
  },
  {
   "cell_type": "code",
   "execution_count": null,
   "metadata": {},
   "outputs": [],
   "source": [
    "exp.print_classification_scores(clf_scores, method='scale_numeric')"
   ]
  },
  {
   "cell_type": "code",
   "execution_count": null,
   "metadata": {},
   "outputs": [],
   "source": [
    "exp.print_classification_scores(clf_scores, method='equal_width')"
   ]
  },
  {
   "cell_type": "code",
   "execution_count": null,
   "metadata": {},
   "outputs": [],
   "source": [
    "exp.print_classification_scores(clf_scores, method='equal_freq')"
   ]
  },
  {
   "cell_type": "code",
   "execution_count": null,
   "metadata": {},
   "outputs": [],
   "source": [
    "exp.print_classification_scores(clf_scores, method='semantic_binning')"
   ]
  },
  {
   "cell_type": "code",
   "execution_count": null,
   "metadata": {},
   "outputs": [],
   "source": [
    "%time clustering_scores = exp.test_clustering_performance()"
   ]
  },
  {
   "cell_type": "code",
   "execution_count": null,
   "metadata": {},
   "outputs": [],
   "source": [
    "exp.print_clustering_scores(clustering_scores, method='dummy_only')"
   ]
  },
  {
   "cell_type": "code",
   "execution_count": null,
   "metadata": {},
   "outputs": [],
   "source": [
    "exp.print_clustering_scores(clustering_scores, method='scale_numeric')"
   ]
  },
  {
   "cell_type": "code",
   "execution_count": null,
   "metadata": {},
   "outputs": [],
   "source": [
    "exp.print_clustering_scores(clustering_scores, method='equal_width')"
   ]
  },
  {
   "cell_type": "code",
   "execution_count": null,
   "metadata": {},
   "outputs": [],
   "source": [
    "exp.print_clustering_scores(clustering_scores, method='equal_freq')"
   ]
  },
  {
   "cell_type": "code",
   "execution_count": null,
   "metadata": {},
   "outputs": [],
   "source": [
    "exp.print_clustering_scores(clustering_scores, method='semantic_binning')"
   ]
  },
  {
   "cell_type": "code",
   "execution_count": 10,
   "metadata": {},
   "outputs": [],
   "source": [
    "# exp.semantic_binning.visualize_bin_embeddings()"
   ]
  },
  {
   "cell_type": "code",
   "execution_count": null,
   "metadata": {
    "collapsed": true
   },
   "outputs": [],
   "source": []
  },
  {
   "cell_type": "code",
   "execution_count": null,
   "metadata": {
    "collapsed": true
   },
   "outputs": [],
   "source": []
  },
  {
   "cell_type": "code",
   "execution_count": 7,
   "metadata": {
    "collapsed": true
   },
   "outputs": [
    {
     "name": "stdout",
     "output_type": "stream",
     "text": [
      ">>> Epoch = 1, Loss = 0.2681753933429718\n",
      "[10, 9, 14, 3, 3]\n",
      ">>> Epoch = 2, Loss = 0.26377061009407043\n",
      "[10, 4, 10, 2, 3]\n",
      ">>> Epoch = 3, Loss = 0.26171648502349854\n",
      "[10, 4, 6, 2, 5]\n",
      ">>> Epoch = 4, Loss = 0.2602560520172119\n",
      "[3, 5, 4, 3, 5]\n",
      ">>> Epoch = 5, Loss = 0.25998228788375854\n",
      "[3, 2, 4, 2, 5]\n",
      ">>> Epoch = 6, Loss = 0.2601519227027893\n",
      "[4, 5, 4, 2, 5]\n",
      "0 5\n",
      ">>> Epoch = 7, Loss = 0.25949791073799133\n",
      "[4, 5, 4, 2, 3]\n",
      "0 5\n",
      ">>> Epoch = 8, Loss = 0.2565867304801941\n",
      "[4, 5, 4, 2, 3]\n",
      "1 5\n",
      ">>> Epoch = 9, Loss = 0.2571408748626709\n",
      "[4, 5, 4, 2, 3]\n",
      "2 5\n",
      ">>> Epoch = 10, Loss = 0.25593268871307373\n",
      "[4, 5, 6, 2, 3]\n",
      "0 5\n",
      ">>> Epoch = 11, Loss = 0.25514164566993713\n",
      "[4, 5, 7, 2, 3]\n",
      "0 5\n",
      ">>> Epoch = 12, Loss = 0.25588858127593994\n",
      "[4, 3, 7, 2, 5]\n",
      "0 5\n",
      ">>> Epoch = 13, Loss = 0.25293901562690735\n",
      "[4, 3, 4, 2, 5]\n",
      "0 5\n",
      ">>> Epoch = 14, Loss = 0.25370171666145325\n",
      "[4, 5, 4, 2, 3]\n",
      "1 5\n",
      ">>> Epoch = 15, Loss = 0.251443475484848\n",
      "[4, 3, 6, 2, 3]\n",
      "0 5\n",
      ">>> Epoch = 16, Loss = 0.2559560537338257\n",
      "[4, 3, 4, 2, 3]\n",
      "0 5\n",
      ">>> Epoch = 17, Loss = 0.25631049275398254\n",
      "[4, 5, 7, 3, 3]\n",
      "0 5\n",
      ">>> Epoch = 18, Loss = 0.254611998796463\n",
      "[4, 5, 7, 3, 3]\n",
      "1 5\n",
      ">>> Epoch = 19, Loss = 0.254799485206604\n",
      "[4, 3, 7, 3, 3]\n",
      "0 5\n",
      ">>> Epoch = 20, Loss = 0.25451135635375977\n",
      "[4, 5, 7, 3, 3]\n",
      "2 5\n",
      ">>> Epoch = 21, Loss = 0.2527424097061157\n",
      "[4, 3, 4, 3, 3]\n",
      "0 5\n",
      ">>> Epoch = 22, Loss = 0.2552070617675781\n",
      "[4, 5, 7, 2, 3]\n",
      "0 5\n",
      ">>> Epoch = 23, Loss = 0.2545901834964752\n",
      "[4, 5, 7, 2, 3]\n",
      "1 5\n",
      ">>> Epoch = 24, Loss = 0.2551754415035248\n",
      "[4, 5, 7, 2, 3]\n",
      "2 5\n",
      ">>> Epoch = 25, Loss = 0.25544682145118713\n",
      "[4, 5, 4, 2, 3]\n",
      "0 5\n",
      ">>> Epoch = 26, Loss = 0.25275376439094543\n",
      "[4, 5, 7, 3, 3]\n",
      "0 5\n",
      ">>> Epoch = 27, Loss = 0.25076374411582947\n",
      "[4, 5, 7, 2, 3]\n",
      "3 5\n",
      ">>> Epoch = 28, Loss = 0.2529856860637665\n",
      "[4, 5, 4, 2, 3]\n",
      "1 5\n",
      ">>> Epoch = 29, Loss = 0.25432994961738586\n",
      "[4, 5, 7, 2, 3]\n",
      "2 5\n",
      ">>> Epoch = 30, Loss = 0.2547951936721802\n",
      "[4, 5, 4, 2, 3]\n",
      "2 5\n",
      "2 5\n",
      "Embedding Failed to Converge in given #epochs..\n"
     ]
    }
   ],
   "source": [
    "from data_handler import DataHandler\n",
    "handler = DataHandler(exp.data, exp.var_dict)\n",
    "from semantic_binning import SemanticBinning\n",
    "sb = SemanticBinning(handler.var_dict, embedding_dim=8, batch_size=1024, \n",
    "                     n_epoch=30, lr=0.01, weight_decay=0.0, verbose=True)\n",
    "sb.fit(exp.data, n_init_bins=15)"
   ]
  },
  {
   "cell_type": "code",
   "execution_count": null,
   "metadata": {
    "collapsed": true
   },
   "outputs": [],
   "source": []
  },
  {
   "cell_type": "code",
   "execution_count": 20,
   "metadata": {},
   "outputs": [
    {
     "data": {
      "text/plain": [
       "['(0.089, 0.14]', '(0.14, 0.317]', '(0.317, 0.45]', '(0.45, 1.0]']"
      ]
     },
     "execution_count": 20,
     "metadata": {},
     "output_type": "execute_result"
    }
   ],
   "source": [
    "sb.bins_by_var['satisfaction_level']['bins']"
   ]
  },
  {
   "cell_type": "code",
   "execution_count": 21,
   "metadata": {},
   "outputs": [
    {
     "data": {
      "image/png": "[encoded data removed]",
      "text/plain": [
       "<matplotlib.figure.Figure at 0x7f9fc64e5390>"
      ]
     },
     "metadata": {},
     "output_type": "display_data"
    }
   ],
   "source": [
    "sb.plot_pairwise_distance_between_bins('satisfaction_level')"
   ]
  },
  {
   "cell_type": "code",
   "execution_count": 22,
   "metadata": {},
   "outputs": [
    {
     "data": {
      "text/plain": [
       "['(0.359, 0.45]',\n",
       " '(0.45, 0.48]',\n",
       " '(0.48, 0.51]',\n",
       " '(0.51, 0.52]',\n",
       " '(0.52, 0.57]',\n",
       " '(0.57, 0.76]',\n",
       " '(0.76, 0.97]',\n",
       " '(0.97, 0.99]',\n",
       " '(0.99, 1.0]']"
      ]
     },
     "execution_count": 22,
     "metadata": {},
     "output_type": "execute_result"
    }
   ],
   "source": [
    "sb.bins_by_var['last_evaluation']['bins']"
   ]
  },
  {
   "cell_type": "code",
   "execution_count": 23,
   "metadata": {},
   "outputs": [
    {
     "data": {
      "image/png": "[encoded data removed]",
      "text/plain": [
       "<matplotlib.figure.Figure at 0x7f9f4e980518>"
      ]
     },
     "metadata": {},
     "output_type": "display_data"
    }
   ],
   "source": [
    "sb.plot_pairwise_distance_between_bins('last_evaluation')"
   ]
  },
  {
   "cell_type": "code",
   "execution_count": 24,
   "metadata": {},
   "outputs": [
    {
     "data": {
      "text/plain": [
       "['(95.999, 126.0]',\n",
       " '(126.0, 162.0]',\n",
       " '(162.0, 243.0]',\n",
       " '(243.0, 282.0]',\n",
       " '(282.0, 310.0]']"
      ]
     },
     "execution_count": 24,
     "metadata": {},
     "output_type": "execute_result"
    }
   ],
   "source": [
    "sb.bins_by_var['average_montly_hours']['bins']"
   ]
  },
  {
   "cell_type": "code",
   "execution_count": 25,
   "metadata": {},
   "outputs": [
    {
     "data": {
      "image/png": "[encoded data removed]",
      "text/plain": [
       "<matplotlib.figure.Figure at 0x7f9f4e76b358>"
      ]
     },
     "metadata": {},
     "output_type": "display_data"
    }
   ],
   "source": [
    "sb.plot_pairwise_distance_between_bins('average_montly_hours')"
   ]
  },
  {
   "cell_type": "code",
   "execution_count": 26,
   "metadata": {},
   "outputs": [
    {
     "data": {
      "text/plain": [
       "['(1.999, 5.0]', '(5.0, 7.0]']"
      ]
     },
     "execution_count": 26,
     "metadata": {},
     "output_type": "execute_result"
    }
   ],
   "source": [
    "sb.bins_by_var['number_project']['bins']"
   ]
  },
  {
   "cell_type": "code",
   "execution_count": 27,
   "metadata": {},
   "outputs": [
    {
     "data": {
      "image/png": "[encoded data removed]",
      "text/plain": [
       "<matplotlib.figure.Figure at 0x7f9f4e980128>"
      ]
     },
     "metadata": {},
     "output_type": "display_data"
    }
   ],
   "source": [
    "sb.plot_pairwise_distance_between_bins('number_project')"
   ]
  },
  {
   "cell_type": "code",
   "execution_count": 28,
   "metadata": {},
   "outputs": [
    {
     "data": {
      "text/plain": [
       "['(1.999, 3.0]', '(3.0, 6.0]', '(6.0, 10.0]']"
      ]
     },
     "execution_count": 28,
     "metadata": {},
     "output_type": "execute_result"
    }
   ],
   "source": [
    "sb.bins_by_var['time_spend_company']['bins']"
   ]
  },
  {
   "cell_type": "code",
   "execution_count": 29,
   "metadata": {},
   "outputs": [
    {
     "data": {
      "image/png": "[encoded data removed]",
      "text/plain": [
       "<matplotlib.figure.Figure at 0x7f9f4e9834a8>"
      ]
     },
     "metadata": {},
     "output_type": "display_data"
    }
   ],
   "source": [
    "sb.plot_pairwise_distance_between_bins('time_spend_company')"
   ]
  },
  {
   "cell_type": "code",
   "execution_count": null,
   "metadata": {
    "collapsed": true
   },
   "outputs": [],
   "source": []
  },
  {
   "cell_type": "code",
   "execution_count": null,
   "metadata": {
    "collapsed": true
   },
   "outputs": [],
   "source": [
    "### 학습된 트리의 깊이, 형태 비교"
   ]
  },
  {
   "cell_type": "code",
   "execution_count": null,
   "metadata": {
    "collapsed": true
   },
   "outputs": [],
   "source": [
    "# dot_data = StringIO()\n",
    "# export_graphviz(dt, out_file=dot_data, feature_names=X.columns, \n",
    "#                 impurity=False, proportion=True)\n",
    "# graph = pydot.graph_from_dot_data(dot_data.getvalue())"
   ]
  },
  {
   "cell_type": "code",
   "execution_count": null,
   "metadata": {
    "collapsed": true
   },
   "outputs": [],
   "source": []
  },
  {
   "cell_type": "code",
   "execution_count": null,
   "metadata": {
    "collapsed": true
   },
   "outputs": [],
   "source": []
  }
 ],
 "metadata": {
  "kernelspec": {
   "display_name": "Python 3",
   "language": "python",
   "name": "python3"
  },
  "language_info": {
   "codemirror_mode": {
    "name": "ipython",
    "version": 3
   },
   "file_extension": ".py",
   "mimetype": "text/x-python",
   "name": "python",
   "nbconvert_exporter": "python",
   "pygments_lexer": "ipython3",
   "version": "3.6.2"
  }
 },
 "nbformat": 4,
 "nbformat_minor": 2
}
