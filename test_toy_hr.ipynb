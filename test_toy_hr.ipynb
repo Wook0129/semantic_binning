{
 "cells": [
  {
   "cell_type": "code",
   "execution_count": 1,
   "metadata": {
    "collapsed": true,
    "scrolled": true
   },
   "outputs": [],
   "source": [
    "from experiment import Experiment\n",
    "import torch\n",
    "%matplotlib inline"
   ]
  },
  {
   "cell_type": "code",
   "execution_count": 2,
   "metadata": {
    "collapsed": true
   },
   "outputs": [],
   "source": [
    "var_dict = dict(\n",
    "    categorical_vars = ['Work_accident', 'promotion_last_5years', 'sales', \n",
    "                        'salary'],\n",
    "    numerical_vars = ['satisfaction_level', 'last_evaluation', 'average_montly_hours'\n",
    "                     ,'number_project','time_spend_company'],\n",
    "    class_var = 'left'\n",
    ")"
   ]
  },
  {
   "cell_type": "code",
   "execution_count": 3,
   "metadata": {
    "collapsed": true
   },
   "outputs": [],
   "source": [
    "exp = Experiment('data/HR_comma_sep.csv',\n",
    "                 var_dict,\n",
    "                 embedding_dim=4,\n",
    "                 lr=1e-2,\n",
    "                 weight_decay=0.0,\n",
    "                 batch_size=1024,\n",
    "                 n_epoch=30,\n",
    "                 verbose=False,\n",
    "                 n_bins_range=range(2, 21),\n",
    "                 n_init_bins_list=[10,15,20])"
   ]
  },
  {
   "cell_type": "code",
   "execution_count": 4,
   "metadata": {},
   "outputs": [
    {
     "data": {
      "text/plain": [
       "(14999, 10)"
      ]
     },
     "execution_count": 4,
     "metadata": {},
     "output_type": "execute_result"
    }
   ],
   "source": [
    "exp.data.shape"
   ]
  },
  {
   "cell_type": "code",
   "execution_count": 5,
   "metadata": {
    "scrolled": true
   },
   "outputs": [
    {
     "name": "stdout",
     "output_type": "stream",
     "text": [
      "#Init Bin = 10\n",
      "Embedding Failed to Converge..\n",
      "Learned #Bin by Variables = [6, 2, 3, 2, 3]\n",
      "#Init Bin = 15\n",
      "Embedding Failed to Converge..\n",
      "Learned #Bin by Variables = [7, 3, 4, 2, 3]\n",
      "#Init Bin = 20\n",
      "Embedding Failed to Converge..\n",
      "Learned #Bin by Variables = [12, 2, 4, 2, 2]\n",
      "#Init Bin = 10\n",
      "Embedding Failed to Converge..\n",
      "Learned #Bin by Variables = [6, 2, 3, 2, 3]\n",
      "#Init Bin = 15\n",
      "Embedding Failed to Converge..\n",
      "Learned #Bin by Variables = [2, 2, 2, 2, 3]\n",
      "#Init Bin = 20\n",
      "Embedding Failed to Converge..\n",
      "Learned #Bin by Variables = [5, 2, 2, 2, 3]\n",
      "#Init Bin = 10\n",
      "Embedding Failed to Converge..\n",
      "Learned #Bin by Variables = [6, 2, 3, 2, 3]\n",
      "#Init Bin = 15\n",
      "Embedding Failed to Converge..\n",
      "Learned #Bin by Variables = [5, 2, 3, 2, 3]\n",
      "#Init Bin = 20\n",
      "Embedding Failed to Converge..\n",
      "Learned #Bin by Variables = [6, 2, 4, 2, 3]\n",
      "CPU times: user 9min 41s, sys: 1min 18s, total: 10min 59s\n",
      "Wall time: 4min 58s\n"
     ]
    }
   ],
   "source": [
    "%time clf_scores = exp.test_classification_performance(cv=3)"
   ]
  },
  {
   "cell_type": "code",
   "execution_count": 6,
   "metadata": {},
   "outputs": [
    {
     "name": "stdout",
     "output_type": "stream",
     "text": [
      "DT performance\n",
      "#cols = 22.0, Accuracy = 0.961 (+/- 0.003)\n",
      "LR performance\n",
      "#cols = 22.0, Accuracy = 0.792 (+/- 0.008)\n"
     ]
    }
   ],
   "source": [
    "exp.print_classification_scores(clf_scores, method='dummy_only')"
   ]
  },
  {
   "cell_type": "code",
   "execution_count": 7,
   "metadata": {},
   "outputs": [
    {
     "name": "stdout",
     "output_type": "stream",
     "text": [
      "DT performance\n",
      "#cols = 22.0, Accuracy = 0.961 (+/- 0.003)\n",
      "LR performance\n",
      "#cols = 22.0, Accuracy = 0.791 (+/- 0.009)\n"
     ]
    }
   ],
   "source": [
    "exp.print_classification_scores(clf_scores, method='scale_numeric')"
   ]
  },
  {
   "cell_type": "code",
   "execution_count": 8,
   "metadata": {},
   "outputs": [
    {
     "name": "stdout",
     "output_type": "stream",
     "text": [
      "DT performance\n",
      "#Bins = 2, #Avg Cols = 27.0, Accuracy = 0.858 (+/- 0.027)\n",
      "#Bins = 3, #Avg Cols = 32.0, Accuracy = 0.927 (+/- 0.008)\n",
      "#Bins = 4, #Avg Cols = 37.0, Accuracy = 0.916 (+/- 0.005)\n",
      "#Bins = 5, #Avg Cols = 42.0, Accuracy = 0.922 (+/- 0.012)\n",
      "#Bins = 6, #Avg Cols = 47.0, Accuracy = 0.931 (+/- 0.008)\n",
      "#Bins = 7, #Avg Cols = 52.0, Accuracy = 0.941 (+/- 0.006)\n",
      "#Bins = 8, #Avg Cols = 57.0, Accuracy = 0.928 (+/- 0.004)\n",
      "#Bins = 9, #Avg Cols = 62.0, Accuracy = 0.938 (+/- 0.003)\n",
      "#Bins = 10, #Avg Cols = 67.0, Accuracy = 0.929 (+/- 0.006)\n",
      "#Bins = 11, #Avg Cols = 72.0, Accuracy = 0.939 (+/- 0.013)\n",
      "#Bins = 12, #Avg Cols = 77.0, Accuracy = 0.945 (+/- 0.015)\n",
      "#Bins = 13, #Avg Cols = 82.0, Accuracy = 0.930 (+/- 0.014)\n",
      "#Bins = 14, #Avg Cols = 87.0, Accuracy = 0.941 (+/- 0.015)\n",
      "#Bins = 15, #Avg Cols = 92.0, Accuracy = 0.941 (+/- 0.012)\n",
      "#Bins = 16, #Avg Cols = 97.0, Accuracy = 0.932 (+/- 0.006)\n",
      "#Bins = 17, #Avg Cols = 102.0, Accuracy = 0.934 (+/- 0.007)\n",
      "#Bins = 18, #Avg Cols = 107.0, Accuracy = 0.933 (+/- 0.007)\n",
      "#Bins = 19, #Avg Cols = 112.0, Accuracy = 0.939 (+/- 0.007)\n",
      "#Bins = 20, #Avg Cols = 117.0, Accuracy = 0.927 (+/- 0.006)\n",
      "LR performance\n",
      "#Bins = 2, #Avg Cols = 27.0, Accuracy = 0.770 (+/- 0.011)\n",
      "#Bins = 3, #Avg Cols = 32.0, Accuracy = 0.861 (+/- 0.004)\n",
      "#Bins = 4, #Avg Cols = 37.0, Accuracy = 0.840 (+/- 0.005)\n",
      "#Bins = 5, #Avg Cols = 42.0, Accuracy = 0.900 (+/- 0.006)\n",
      "#Bins = 6, #Avg Cols = 47.0, Accuracy = 0.923 (+/- 0.004)\n",
      "#Bins = 7, #Avg Cols = 52.0, Accuracy = 0.940 (+/- 0.004)\n",
      "#Bins = 8, #Avg Cols = 57.0, Accuracy = 0.937 (+/- 0.003)\n",
      "#Bins = 9, #Avg Cols = 62.0, Accuracy = 0.946 (+/- 0.006)\n",
      "#Bins = 10, #Avg Cols = 67.0, Accuracy = 0.942 (+/- 0.001)\n",
      "#Bins = 11, #Avg Cols = 72.0, Accuracy = 0.947 (+/- 0.005)\n",
      "#Bins = 12, #Avg Cols = 77.0, Accuracy = 0.952 (+/- 0.004)\n",
      "#Bins = 13, #Avg Cols = 82.0, Accuracy = 0.950 (+/- 0.002)\n",
      "#Bins = 14, #Avg Cols = 87.0, Accuracy = 0.952 (+/- 0.004)\n",
      "#Bins = 15, #Avg Cols = 92.0, Accuracy = 0.953 (+/- 0.003)\n",
      "#Bins = 16, #Avg Cols = 97.0, Accuracy = 0.956 (+/- 0.003)\n",
      "#Bins = 17, #Avg Cols = 102.0, Accuracy = 0.956 (+/- 0.002)\n",
      "#Bins = 18, #Avg Cols = 107.0, Accuracy = 0.954 (+/- 0.003)\n",
      "#Bins = 19, #Avg Cols = 112.0, Accuracy = 0.956 (+/- 0.004)\n",
      "#Bins = 20, #Avg Cols = 117.0, Accuracy = 0.956 (+/- 0.002)\n",
      "NB performance\n",
      "#Bins = 2, #Avg Cols = 27.0, Accuracy = 0.781 (+/- 0.015)\n",
      "#Bins = 3, #Avg Cols = 32.0, Accuracy = 0.843 (+/- 0.008)\n",
      "#Bins = 4, #Avg Cols = 37.0, Accuracy = 0.828 (+/- 0.012)\n",
      "#Bins = 5, #Avg Cols = 42.0, Accuracy = 0.860 (+/- 0.008)\n",
      "#Bins = 6, #Avg Cols = 47.0, Accuracy = 0.892 (+/- 0.005)\n",
      "#Bins = 7, #Avg Cols = 52.0, Accuracy = 0.908 (+/- 0.004)\n",
      "#Bins = 8, #Avg Cols = 57.0, Accuracy = 0.909 (+/- 0.002)\n",
      "#Bins = 9, #Avg Cols = 62.0, Accuracy = 0.914 (+/- 0.006)\n",
      "#Bins = 10, #Avg Cols = 67.0, Accuracy = 0.920 (+/- 0.005)\n",
      "#Bins = 11, #Avg Cols = 72.0, Accuracy = 0.921 (+/- 0.009)\n",
      "#Bins = 12, #Avg Cols = 77.0, Accuracy = 0.921 (+/- 0.006)\n",
      "#Bins = 13, #Avg Cols = 82.0, Accuracy = 0.924 (+/- 0.006)\n",
      "#Bins = 14, #Avg Cols = 87.0, Accuracy = 0.925 (+/- 0.008)\n",
      "#Bins = 15, #Avg Cols = 92.0, Accuracy = 0.926 (+/- 0.008)\n",
      "#Bins = 16, #Avg Cols = 97.0, Accuracy = 0.927 (+/- 0.005)\n",
      "#Bins = 17, #Avg Cols = 102.0, Accuracy = 0.926 (+/- 0.008)\n",
      "#Bins = 18, #Avg Cols = 107.0, Accuracy = 0.925 (+/- 0.009)\n",
      "#Bins = 19, #Avg Cols = 112.0, Accuracy = 0.928 (+/- 0.004)\n",
      "#Bins = 20, #Avg Cols = 117.0, Accuracy = 0.928 (+/- 0.008)\n"
     ]
    }
   ],
   "source": [
    "exp.print_classification_scores(clf_scores, method='equal_width')"
   ]
  },
  {
   "cell_type": "code",
   "execution_count": 9,
   "metadata": {},
   "outputs": [
    {
     "name": "stdout",
     "output_type": "stream",
     "text": [
      "DT performance\n",
      "#Bins = 2, #Avg Cols = 27.0, Accuracy = 0.868 (+/- 0.023)\n",
      "#Bins = 3, #Avg Cols = 32.0, Accuracy = 0.918 (+/- 0.005)\n",
      "#Bins = 4, #Avg Cols = 36.0, Accuracy = 0.900 (+/- 0.006)\n",
      "#Bins = 5, #Avg Cols = 39.0, Accuracy = 0.903 (+/- 0.009)\n",
      "#Bins = 6, #Avg Cols = 43.0, Accuracy = 0.926 (+/- 0.008)\n",
      "#Bins = 7, #Avg Cols = 46.0, Accuracy = 0.931 (+/- 0.006)\n",
      "#Bins = 8, #Avg Cols = 49.0, Accuracy = 0.907 (+/- 0.007)\n",
      "#Bins = 9, #Avg Cols = 52.0, Accuracy = 0.916 (+/- 0.018)\n",
      "#Bins = 10, #Avg Cols = 55.0, Accuracy = 0.935 (+/- 0.007)\n",
      "#Bins = 11, #Avg Cols = 59.0, Accuracy = 0.921 (+/- 0.006)\n",
      "#Bins = 12, #Avg Cols = 62.666666666666664, Accuracy = 0.903 (+/- 0.006)\n",
      "#Bins = 13, #Avg Cols = 66.0, Accuracy = 0.910 (+/- 0.028)\n",
      "#Bins = 14, #Avg Cols = 69.0, Accuracy = 0.927 (+/- 0.014)\n",
      "#Bins = 15, #Avg Cols = 72.0, Accuracy = 0.921 (+/- 0.005)\n",
      "#Bins = 16, #Avg Cols = 75.0, Accuracy = 0.909 (+/- 0.005)\n",
      "#Bins = 17, #Avg Cols = 78.0, Accuracy = 0.918 (+/- 0.006)\n",
      "#Bins = 18, #Avg Cols = 81.0, Accuracy = 0.915 (+/- 0.006)\n",
      "#Bins = 19, #Avg Cols = 84.0, Accuracy = 0.912 (+/- 0.006)\n",
      "#Bins = 20, #Avg Cols = 87.0, Accuracy = 0.918 (+/- 0.002)\n",
      "LR performance\n",
      "#Bins = 2, #Avg Cols = 27.0, Accuracy = 0.768 (+/- 0.002)\n",
      "#Bins = 3, #Avg Cols = 32.0, Accuracy = 0.871 (+/- 0.015)\n",
      "#Bins = 4, #Avg Cols = 36.0, Accuracy = 0.848 (+/- 0.008)\n",
      "#Bins = 5, #Avg Cols = 39.0, Accuracy = 0.846 (+/- 0.009)\n",
      "#Bins = 6, #Avg Cols = 43.0, Accuracy = 0.891 (+/- 0.010)\n",
      "#Bins = 7, #Avg Cols = 46.0, Accuracy = 0.923 (+/- 0.007)\n",
      "#Bins = 8, #Avg Cols = 49.0, Accuracy = 0.895 (+/- 0.002)\n",
      "#Bins = 9, #Avg Cols = 52.0, Accuracy = 0.895 (+/- 0.010)\n",
      "#Bins = 10, #Avg Cols = 55.0, Accuracy = 0.909 (+/- 0.004)\n",
      "#Bins = 11, #Avg Cols = 59.0, Accuracy = 0.913 (+/- 0.007)\n",
      "#Bins = 12, #Avg Cols = 62.666666666666664, Accuracy = 0.912 (+/- 0.007)\n",
      "#Bins = 13, #Avg Cols = 66.0, Accuracy = 0.920 (+/- 0.018)\n",
      "#Bins = 14, #Avg Cols = 69.0, Accuracy = 0.939 (+/- 0.005)\n",
      "#Bins = 15, #Avg Cols = 72.0, Accuracy = 0.938 (+/- 0.002)\n",
      "#Bins = 16, #Avg Cols = 75.0, Accuracy = 0.933 (+/- 0.005)\n",
      "#Bins = 17, #Avg Cols = 78.0, Accuracy = 0.937 (+/- 0.003)\n",
      "#Bins = 18, #Avg Cols = 81.0, Accuracy = 0.942 (+/- 0.002)\n",
      "#Bins = 19, #Avg Cols = 84.0, Accuracy = 0.939 (+/- 0.003)\n",
      "#Bins = 20, #Avg Cols = 87.0, Accuracy = 0.944 (+/- 0.003)\n",
      "NB performance\n",
      "#Bins = 2, #Avg Cols = 27.0, Accuracy = 0.737 (+/- 0.010)\n",
      "#Bins = 3, #Avg Cols = 32.0, Accuracy = 0.857 (+/- 0.015)\n",
      "#Bins = 4, #Avg Cols = 36.0, Accuracy = 0.833 (+/- 0.009)\n",
      "#Bins = 5, #Avg Cols = 39.0, Accuracy = 0.822 (+/- 0.014)\n",
      "#Bins = 6, #Avg Cols = 43.0, Accuracy = 0.865 (+/- 0.010)\n",
      "#Bins = 7, #Avg Cols = 46.0, Accuracy = 0.889 (+/- 0.002)\n",
      "#Bins = 8, #Avg Cols = 49.0, Accuracy = 0.869 (+/- 0.006)\n",
      "#Bins = 9, #Avg Cols = 52.0, Accuracy = 0.872 (+/- 0.014)\n",
      "#Bins = 10, #Avg Cols = 55.0, Accuracy = 0.888 (+/- 0.008)\n",
      "#Bins = 11, #Avg Cols = 59.0, Accuracy = 0.892 (+/- 0.004)\n",
      "#Bins = 12, #Avg Cols = 62.666666666666664, Accuracy = 0.892 (+/- 0.005)\n",
      "#Bins = 13, #Avg Cols = 66.0, Accuracy = 0.896 (+/- 0.017)\n",
      "#Bins = 14, #Avg Cols = 69.0, Accuracy = 0.913 (+/- 0.004)\n",
      "#Bins = 15, #Avg Cols = 72.0, Accuracy = 0.910 (+/- 0.002)\n",
      "#Bins = 16, #Avg Cols = 75.0, Accuracy = 0.907 (+/- 0.001)\n",
      "#Bins = 17, #Avg Cols = 78.0, Accuracy = 0.913 (+/- 0.001)\n",
      "#Bins = 18, #Avg Cols = 81.0, Accuracy = 0.915 (+/- 0.003)\n",
      "#Bins = 19, #Avg Cols = 84.0, Accuracy = 0.915 (+/- 0.004)\n",
      "#Bins = 20, #Avg Cols = 87.0, Accuracy = 0.919 (+/- 0.005)\n"
     ]
    }
   ],
   "source": [
    "exp.print_classification_scores(clf_scores, method='equal_freq')"
   ]
  },
  {
   "cell_type": "code",
   "execution_count": 10,
   "metadata": {},
   "outputs": [
    {
     "name": "stdout",
     "output_type": "stream",
     "text": [
      "DT performance\n",
      "#Init Bins = 10, #Avg Cols = 33.0, Accuracy = 0.937 (+/- 0.004)\n",
      "#Init Bins = 15, #Avg Cols = 32.0, Accuracy = 0.905 (+/- 0.095)\n",
      "#Init Bins = 20, #Avg Cols = 34.666666666666664, Accuracy = 0.935 (+/- 0.028)\n",
      "LR performance\n",
      "#Init Bins = 10, #Avg Cols = 33.0, Accuracy = 0.885 (+/- 0.009)\n",
      "#Init Bins = 15, #Avg Cols = 32.0, Accuracy = 0.874 (+/- 0.105)\n",
      "#Init Bins = 20, #Avg Cols = 34.666666666666664, Accuracy = 0.913 (+/- 0.016)\n",
      "NB performance\n",
      "#Init Bins = 10, #Avg Cols = 33.0, Accuracy = 0.843 (+/- 0.015)\n",
      "#Init Bins = 15, #Avg Cols = 32.0, Accuracy = 0.848 (+/- 0.086)\n",
      "#Init Bins = 20, #Avg Cols = 34.666666666666664, Accuracy = 0.874 (+/- 0.048)\n"
     ]
    }
   ],
   "source": [
    "exp.print_classification_scores(clf_scores, method='semantic_binning')"
   ]
  },
  {
   "cell_type": "code",
   "execution_count": 11,
   "metadata": {},
   "outputs": [
    {
     "name": "stdout",
     "output_type": "stream",
     "text": [
      "#Init Bin = 10\n",
      "Embedding Failed to Converge..\n",
      "Learned #Bin by Variables = [7, 2, 3, 2, 3]\n",
      "#Init Bin = 15\n",
      "Embedding Failed to Converge..\n",
      "Learned #Bin by Variables = [8, 2, 2, 2, 3]\n",
      "#Init Bin = 20\n",
      "Embedding Failed to Converge..\n",
      "Learned #Bin by Variables = [6, 2, 4, 2, 4]\n",
      "CPU times: user 9min 43s, sys: 3min 36s, total: 13min 20s\n",
      "Wall time: 9min 14s\n"
     ]
    }
   ],
   "source": [
    "%time clustering_scores = exp.test_clustering_performance()"
   ]
  },
  {
   "cell_type": "code",
   "execution_count": 12,
   "metadata": {},
   "outputs": [
    {
     "name": "stdout",
     "output_type": "stream",
     "text": [
      "kmeans, #Cols = 22, NMI = 0.0019\n",
      "agglomerative, #Cols = 22, NMI = 0.0054\n"
     ]
    }
   ],
   "source": [
    "exp.print_clustering_scores(clustering_scores, method='dummy_only')"
   ]
  },
  {
   "cell_type": "code",
   "execution_count": 13,
   "metadata": {},
   "outputs": [
    {
     "name": "stdout",
     "output_type": "stream",
     "text": [
      "kmeans, #Cols = 22, NMI = 0.0410\n",
      "agglomerative, #Cols = 22, NMI = 0.0820\n"
     ]
    }
   ],
   "source": [
    "exp.print_clustering_scores(clustering_scores, method='scale_numeric')"
   ]
  },
  {
   "cell_type": "code",
   "execution_count": 14,
   "metadata": {},
   "outputs": [
    {
     "name": "stdout",
     "output_type": "stream",
     "text": [
      "kmeans\n",
      "#Bins = 2, #Cols = 27, #NMI = 0.0028\n",
      "#Bins = 3, #Cols = 32, #NMI = 0.0007\n",
      "#Bins = 4, #Cols = 37, #NMI = 0.0148\n",
      "#Bins = 5, #Cols = 42, #NMI = 0.0522\n",
      "#Bins = 6, #Cols = 47, #NMI = 0.0148\n",
      "#Bins = 7, #Cols = 52, #NMI = 0.0148\n",
      "#Bins = 8, #Cols = 57, #NMI = 0.0148\n",
      "#Bins = 9, #Cols = 62, #NMI = 0.0148\n",
      "#Bins = 10, #Cols = 67, #NMI = 0.0148\n",
      "#Bins = 11, #Cols = 72, #NMI = 0.0148\n",
      "#Bins = 12, #Cols = 77, #NMI = 0.0148\n",
      "#Bins = 13, #Cols = 82, #NMI = 0.0148\n",
      "#Bins = 14, #Cols = 87, #NMI = 0.0148\n",
      "#Bins = 15, #Cols = 92, #NMI = 0.0148\n",
      "#Bins = 16, #Cols = 97, #NMI = 0.0148\n",
      "#Bins = 17, #Cols = 102, #NMI = 0.0148\n",
      "#Bins = 18, #Cols = 107, #NMI = 0.0148\n",
      "#Bins = 19, #Cols = 112, #NMI = 0.0148\n",
      "#Bins = 20, #Cols = 117, #NMI = 0.0148\n",
      "agglomerative\n",
      "#Bins = 2, #Cols = 27, #NMI = 0.0487\n",
      "#Bins = 3, #Cols = 32, #NMI = 0.0161\n",
      "#Bins = 4, #Cols = 37, #NMI = 0.1165\n",
      "#Bins = 5, #Cols = 42, #NMI = 0.0654\n",
      "#Bins = 6, #Cols = 47, #NMI = 0.2805\n",
      "#Bins = 7, #Cols = 52, #NMI = 0.2637\n",
      "#Bins = 8, #Cols = 57, #NMI = 0.2613\n",
      "#Bins = 9, #Cols = 62, #NMI = 0.3301\n",
      "#Bins = 10, #Cols = 67, #NMI = 0.3031\n",
      "#Bins = 11, #Cols = 72, #NMI = 0.3239\n",
      "#Bins = 12, #Cols = 77, #NMI = 0.3229\n",
      "#Bins = 13, #Cols = 82, #NMI = 0.3027\n",
      "#Bins = 14, #Cols = 87, #NMI = 0.1255\n",
      "#Bins = 15, #Cols = 92, #NMI = 0.1321\n",
      "#Bins = 16, #Cols = 97, #NMI = 0.3311\n",
      "#Bins = 17, #Cols = 102, #NMI = 0.2060\n",
      "#Bins = 18, #Cols = 107, #NMI = 0.0845\n",
      "#Bins = 19, #Cols = 112, #NMI = 0.0897\n",
      "#Bins = 20, #Cols = 117, #NMI = 0.2089\n"
     ]
    }
   ],
   "source": [
    "exp.print_clustering_scores(clustering_scores, method='equal_width')"
   ]
  },
  {
   "cell_type": "code",
   "execution_count": 15,
   "metadata": {},
   "outputs": [
    {
     "name": "stdout",
     "output_type": "stream",
     "text": [
      "kmeans\n",
      "#Bins = 2, #Cols = 27, #NMI = 0.0068\n",
      "#Bins = 3, #Cols = 32, #NMI = 0.0194\n",
      "#Bins = 4, #Cols = 36, #NMI = 0.0148\n",
      "#Bins = 5, #Cols = 39, #NMI = 0.0148\n",
      "#Bins = 6, #Cols = 43, #NMI = 0.0148\n",
      "#Bins = 7, #Cols = 46, #NMI = 0.0148\n",
      "#Bins = 8, #Cols = 49, #NMI = 0.0148\n",
      "#Bins = 9, #Cols = 52, #NMI = 0.0148\n",
      "#Bins = 10, #Cols = 55, #NMI = 0.0148\n",
      "#Bins = 11, #Cols = 59, #NMI = 0.0148\n",
      "#Bins = 12, #Cols = 63, #NMI = 0.0148\n",
      "#Bins = 13, #Cols = 66, #NMI = 0.0148\n",
      "#Bins = 14, #Cols = 69, #NMI = 0.0148\n",
      "#Bins = 15, #Cols = 72, #NMI = 0.0148\n",
      "#Bins = 16, #Cols = 75, #NMI = 0.0148\n",
      "#Bins = 17, #Cols = 78, #NMI = 0.0148\n",
      "#Bins = 18, #Cols = 81, #NMI = 0.0148\n",
      "#Bins = 19, #Cols = 84, #NMI = 0.0148\n",
      "#Bins = 20, #Cols = 87, #NMI = 0.0148\n",
      "agglomerative\n",
      "#Bins = 2, #Cols = 27, #NMI = 0.0062\n",
      "#Bins = 3, #Cols = 32, #NMI = 0.2919\n",
      "#Bins = 4, #Cols = 36, #NMI = 0.0745\n",
      "#Bins = 5, #Cols = 39, #NMI = 0.0591\n",
      "#Bins = 6, #Cols = 43, #NMI = 0.1087\n",
      "#Bins = 7, #Cols = 46, #NMI = 0.1003\n",
      "#Bins = 8, #Cols = 49, #NMI = 0.0197\n",
      "#Bins = 9, #Cols = 52, #NMI = 0.0619\n",
      "#Bins = 10, #Cols = 55, #NMI = 0.0574\n",
      "#Bins = 11, #Cols = 59, #NMI = 0.0168\n",
      "#Bins = 12, #Cols = 63, #NMI = 0.0540\n",
      "#Bins = 13, #Cols = 66, #NMI = 0.0777\n",
      "#Bins = 14, #Cols = 69, #NMI = 0.0766\n",
      "#Bins = 15, #Cols = 72, #NMI = 0.0697\n",
      "#Bins = 16, #Cols = 75, #NMI = 0.0194\n",
      "#Bins = 17, #Cols = 78, #NMI = 0.0796\n",
      "#Bins = 18, #Cols = 81, #NMI = 0.0195\n",
      "#Bins = 19, #Cols = 84, #NMI = 0.0662\n",
      "#Bins = 20, #Cols = 87, #NMI = 0.0544\n"
     ]
    }
   ],
   "source": [
    "exp.print_clustering_scores(clustering_scores, method='equal_freq')"
   ]
  },
  {
   "cell_type": "code",
   "execution_count": 16,
   "metadata": {},
   "outputs": [
    {
     "name": "stdout",
     "output_type": "stream",
     "text": [
      "kmeans\n",
      "#Init Bins = 10, #Cols = 34, NMI = 0.0005\n",
      "#Init Bins = 15, #Cols = 34, NMI = 0.0026\n",
      "#Init Bins = 20, #Cols = 35, NMI = 0.0063\n",
      "agglomerative\n",
      "#Init Bins = 10, #Cols = 34, NMI = 0.0398\n",
      "#Init Bins = 15, #Cols = 34, NMI = 0.1930\n",
      "#Init Bins = 20, #Cols = 35, NMI = 0.0314\n"
     ]
    }
   ],
   "source": [
    "exp.print_clustering_scores(clustering_scores, method='semantic_binning')"
   ]
  },
  {
   "cell_type": "code",
   "execution_count": null,
   "metadata": {
    "collapsed": true
   },
   "outputs": [],
   "source": []
  },
  {
   "cell_type": "code",
   "execution_count": null,
   "metadata": {
    "collapsed": true
   },
   "outputs": [],
   "source": []
  },
  {
   "cell_type": "code",
   "execution_count": null,
   "metadata": {
    "collapsed": true
   },
   "outputs": [],
   "source": []
  },
  {
   "cell_type": "code",
   "execution_count": null,
   "metadata": {
    "collapsed": true
   },
   "outputs": [],
   "source": []
  },
  {
   "cell_type": "code",
   "execution_count": null,
   "metadata": {
    "collapsed": true
   },
   "outputs": [],
   "source": []
  },
  {
   "cell_type": "code",
   "execution_count": 4,
   "metadata": {
    "scrolled": true
   },
   "outputs": [
    {
     "name": "stdout",
     "output_type": "stream",
     "text": [
      ">>> Epoch = 1, Loss = 0.5723069310188293\n",
      "[2, 29, 29, 3, 4] 0.208178100286\n",
      ">>> Epoch = 2, Loss = 0.3806450366973877\n",
      "[29, 2, 2, 3, 4] 0.231954904514\n",
      ">>> Epoch = 3, Loss = 0.2865191400051117\n",
      "[2, 2, 2, 3, 2] 0.236015197281\n",
      ">>> Epoch = 4, Loss = 0.24252474308013916\n",
      "[28, 2, 29, 3, 3] 0.233415098349\n",
      ">>> Epoch = 5, Loss = 0.22112087905406952\n",
      "[29, 2, 2, 3, 3] 0.254142728019\n",
      ">>> Epoch = 6, Loss = 0.20704114437103271\n",
      "[29, 2, 2, 3, 3] 0.260562686894\n",
      ">>> Epoch = 7, Loss = 0.19911663234233856\n",
      "[29, 2, 28, 3, 2] 0.260430940018\n",
      ">>> Epoch = 8, Loss = 0.19403095543384552\n",
      "[29, 2, 2, 3, 2] 0.246269520045\n",
      ">>> Epoch = 9, Loss = 0.18972255289554596\n",
      "[2, 2, 29, 3, 2] 0.243780479496\n",
      ">>> Epoch = 10, Loss = 0.18795855343341827\n",
      "[2, 2, 2, 3, 2] 0.24899317168\n"
     ]
    },
    {
     "name": "stderr",
     "output_type": "stream",
     "text": [
      "/home/taewook/anaconda3/lib/python3.6/site-packages/sklearn/metrics/cluster/unsupervised.py:205: RuntimeWarning: invalid value encountered in true_divide\n",
      "  sil_samples /= np.maximum(intra_clust_dists, inter_clust_dists)\n"
     ]
    },
    {
     "name": "stdout",
     "output_type": "stream",
     "text": [
      ">>> Epoch = 11, Loss = 0.18544059991836548\n",
      "[29, 2, 26, 2, 2] 0.243823895203\n",
      ">>> Epoch = 12, Loss = 0.1842309683561325\n",
      "[29, 2, 2, 2, 2] 0.277007357139\n",
      ">>> Epoch = 13, Loss = 0.18383999168872833\n",
      "[29, 2, 2, 3, 2] 0.311388584448\n",
      ">>> Epoch = 14, Loss = 0.1825830340385437\n",
      "[2, 2, 2, 2, 2] 0.442184158363\n",
      ">>> Epoch = 15, Loss = 0.1820290982723236\n",
      "[2, 3, 2, 2, 2] 0.503507390809\n",
      ">>> Epoch = 16, Loss = 0.18059279024600983\n",
      "[3, 2, 2, 2, 2] 0.642263119032\n",
      ">>> Epoch = 17, Loss = 0.1794750988483429\n",
      "[3, 2, 2, 2, 2] 0.670637997722\n",
      ">>> Epoch = 18, Loss = 0.1799565553665161\n",
      "[3, 2, 2, 2, 2] 0.688115993635\n",
      ">>> Epoch = 19, Loss = 0.17988382279872894\n",
      "[3, 2, 2, 2, 2] 0.694742690836\n",
      ">>> Epoch = 20, Loss = 0.18083877861499786\n",
      "[3, 2, 2, 2, 3] 0.697528484431\n",
      ">>> Epoch = 21, Loss = 0.1788949817419052\n",
      "[3, 4, 2, 2, 3] 0.711387591527\n",
      ">>> Epoch = 22, Loss = 0.17937567830085754\n",
      "[3, 2, 2, 2, 3] 0.746830998624\n",
      ">>> Epoch = 23, Loss = 0.17602868378162384\n",
      "[3, 2, 2, 2, 3] 0.751532748419\n",
      ">>> Epoch = 24, Loss = 0.17648901045322418\n",
      "[3, 2, 2, 2, 3] 0.757351636648\n",
      ">>> Epoch = 25, Loss = 0.1777617633342743\n",
      "[3, 2, 2, 2, 3] 0.763578900828\n",
      ">>> Epoch = 26, Loss = 0.1769941747188568\n",
      "[3, 2, 2, 2, 3] 0.768091910765\n",
      ">>> Epoch = 27, Loss = 0.17623639106750488\n",
      "[3, 2, 2, 2, 3] 0.773678124652\n",
      ">>> Epoch = 28, Loss = 0.17509904503822327\n",
      "[3, 2, 2, 2, 3] 0.777697799903\n",
      ">>> Epoch = 29, Loss = 0.17492814362049103\n",
      "[3, 3, 2, 2, 3] 0.780495723558\n",
      ">>> Epoch = 30, Loss = 0.17444002628326416\n",
      "[3, 2, 2, 2, 3] 0.777750564192\n",
      ">>> Epoch = 31, Loss = 0.1766604781150818\n",
      "[3, 3, 2, 2, 3] 0.775605449219\n",
      ">>> Epoch = 32, Loss = 0.1749071627855301\n",
      "[3, 3, 2, 2, 3] 0.76933659494\n",
      ">>> Epoch = 33, Loss = 0.17395445704460144\n",
      "[3, 3, 2, 2, 3] 0.760663271247\n",
      ">>> Epoch = 34, Loss = 0.1737520843744278\n",
      "[3, 3, 2, 2, 3] 0.754879092737\n",
      ">>> Epoch = 35, Loss = 0.1737736314535141\n",
      "[3, 3, 2, 2, 3] 0.748564065397\n",
      ">>> Epoch = 36, Loss = 0.1747860163450241\n",
      "[3, 3, 2, 2, 3] 0.739355487712\n",
      ">>> Epoch = 37, Loss = 0.1744188815355301\n",
      "[3, 3, 2, 2, 3] 0.735476368711\n",
      ">>> Epoch = 38, Loss = 0.17514826357364655\n",
      "[3, 3, 2, 2, 3] 0.731659638388\n",
      ">>> Epoch = 39, Loss = 0.1738542765378952\n",
      "[3, 3, 4, 2, 3] 0.74479026707\n",
      ">>> Epoch = 40, Loss = 0.17271794378757477\n",
      "[3, 3, 5, 2, 3] 0.752263558432\n",
      ">>> Epoch = 41, Loss = 0.17363597452640533\n",
      "[5, 3, 5, 2, 3] 0.773833740985\n",
      ">>> Epoch = 42, Loss = 0.17365461587905884\n",
      "[5, 3, 5, 2, 3] 0.77390988522\n",
      ">>> Epoch = 43, Loss = 0.174342542886734\n",
      "[5, 3, 3, 2, 3] 0.771166030766\n",
      ">>> Epoch = 44, Loss = 0.17439576983451843\n",
      "[5, 3, 3, 2, 3] 0.771275518387\n",
      ">>> Epoch = 45, Loss = 0.17240750789642334\n",
      "[5, 3, 3, 2, 3] 0.771648590582\n",
      ">>> Epoch = 46, Loss = 0.1734504997730255\n",
      "[5, 3, 6, 2, 3] 0.774015229737\n",
      ">>> Epoch = 47, Loss = 0.17167162895202637\n",
      "[5, 3, 6, 2, 3] 0.776653040105\n",
      ">>> Epoch = 48, Loss = 0.17239534854888916\n",
      "[7, 3, 6, 2, 3] 0.776347361811\n",
      ">>> Epoch = 49, Loss = 0.1710040271282196\n",
      "[7, 3, 6, 2, 3] 0.773414109605\n",
      ">>> Epoch = 50, Loss = 0.17156167328357697\n",
      "[7, 3, 5, 2, 3] 0.777117137228\n",
      ">>> Epoch = 51, Loss = 0.17147964239120483\n",
      "[7, 3, 5, 2, 3] 0.776463648384\n",
      ">>> Epoch = 52, Loss = 0.1711287647485733\n",
      "[4, 3, 5, 2, 3] 0.788981751788\n",
      ">>> Epoch = 53, Loss = 0.17115569114685059\n",
      "[5, 3, 5, 2, 3] 0.787759041028\n",
      ">>> Epoch = 54, Loss = 0.17248928546905518\n",
      "[5, 3, 5, 2, 3] 0.789908535178\n",
      ">>> Epoch = 55, Loss = 0.17037257552146912\n",
      "[5, 3, 5, 2, 3] 0.792593126617\n",
      ">>> Epoch = 56, Loss = 0.17156124114990234\n",
      "[4, 3, 5, 2, 3] 0.793853270341\n",
      ">>> Epoch = 57, Loss = 0.16969159245491028\n",
      "[4, 3, 5, 2, 3] 0.795987000216\n",
      ">>> Epoch = 58, Loss = 0.1704065352678299\n",
      "[5, 3, 5, 2, 3] 0.796343026848\n",
      ">>> Epoch = 59, Loss = 0.17020754516124725\n",
      "[10, 3, 5, 2, 3] 0.809643400058\n",
      ">>> Epoch = 60, Loss = 0.1708216369152069\n",
      "[10, 3, 5, 2, 3] 0.806995917714\n",
      ">>> Epoch = 61, Loss = 0.17048704624176025\n",
      "[9, 3, 5, 2, 3] 0.804519035235\n",
      ">>> Epoch = 62, Loss = 0.17020386457443237\n",
      "[3, 3, 5, 2, 3] 0.79871546576\n",
      ">>> Epoch = 63, Loss = 0.17093582451343536\n",
      "[3, 3, 5, 2, 3] 0.810520833988\n",
      ">>> Epoch = 64, Loss = 0.1711864024400711\n",
      "[3, 3, 5, 2, 3] 0.811613004265\n",
      ">>> Epoch = 65, Loss = 0.1712472140789032\n",
      "[3, 3, 5, 2, 3] 0.813641037619\n",
      ">>> Epoch = 66, Loss = 0.1707301288843155\n",
      "[3, 3, 5, 2, 3] 0.811778453738\n",
      ">>> Epoch = 67, Loss = 0.17054811120033264\n",
      "[3, 3, 5, 2, 3] 0.808348432239\n",
      ">>> Epoch = 68, Loss = 0.1702878773212433\n",
      "[3, 3, 5, 2, 4] 0.808185890506\n",
      ">>> Epoch = 69, Loss = 0.16891132295131683\n",
      "[3, 3, 5, 2, 4] 0.806815258577\n",
      ">>> Epoch = 70, Loss = 0.17172682285308838\n",
      "[3, 3, 5, 2, 4] 0.806034732715\n",
      ">>> Epoch = 71, Loss = 0.17057670652866364\n",
      "[3, 3, 5, 2, 3] 0.768025888037\n",
      ">>> Epoch = 72, Loss = 0.1691061556339264\n",
      "[3, 3, 5, 2, 2] 0.764732957213\n",
      ">>> Epoch = 73, Loss = 0.17006918787956238\n",
      "[3, 3, 5, 2, 5] 0.754250958876\n",
      ">>> Epoch = 74, Loss = 0.1697358936071396\n",
      "[3, 3, 5, 2, 2] 0.770063418456\n",
      ">>> Epoch = 75, Loss = 0.16969524323940277\n",
      "[3, 3, 5, 2, 4] 0.808161142035\n",
      ">>> Epoch = 76, Loss = 0.17090794444084167\n",
      "[3, 3, 5, 2, 4] 0.82268258509\n",
      ">>> Epoch = 77, Loss = 0.16913799941539764\n",
      "[3, 3, 5, 2, 4] 0.811536164915\n",
      ">>> Epoch = 78, Loss = 0.16929085552692413\n",
      "[3, 3, 5, 2, 4] 0.803094531545\n",
      ">>> Epoch = 79, Loss = 0.17072707414627075\n",
      "[3, 3, 5, 2, 3] 0.838077757244\n",
      ">>> Epoch = 80, Loss = 0.17015644907951355\n",
      "[3, 3, 5, 2, 3] 0.873392073201\n",
      ">>> Epoch = 81, Loss = 0.16782039403915405\n",
      "[3, 3, 5, 2, 3] 0.873898451727\n",
      ">>> Epoch = 82, Loss = 0.1696089208126068\n",
      "[3, 3, 5, 2, 3] 0.877589555246\n",
      ">>> Epoch = 83, Loss = 0.16922281682491302\n",
      "[3, 3, 5, 2, 3] 0.880641578704\n",
      ">>> Epoch = 84, Loss = 0.16869013011455536\n",
      "[3, 3, 5, 2, 3] 0.887848013904\n",
      ">>> Epoch = 85, Loss = 0.169566348195076\n",
      "[3, 3, 5, 2, 3] 0.893158072483\n",
      ">>> Epoch = 86, Loss = 0.16923615336418152\n",
      "[3, 3, 5, 2, 3] 0.893188602737\n",
      ">>> Epoch = 87, Loss = 0.17006529867649078\n",
      "[3, 3, 5, 2, 3] 0.891429084104\n",
      ">>> Epoch = 88, Loss = 0.16895803809165955\n",
      "[3, 3, 5, 2, 3] 0.890516750095\n",
      ">>> Epoch = 89, Loss = 0.16759808361530304\n",
      "[3, 3, 5, 2, 3] 0.889358481076\n",
      ">>> Epoch = 90, Loss = 0.17034384608268738\n",
      "[3, 3, 5, 2, 3] 0.887335712483\n",
      ">>> Epoch = 91, Loss = 0.16857948899269104\n",
      "[3, 3, 5, 2, 3] 0.884812784816\n",
      ">>> Epoch = 92, Loss = 0.16804368793964386\n",
      "[3, 3, 5, 2, 3] 0.885533761274\n",
      ">>> Epoch = 93, Loss = 0.16810539364814758\n",
      "[3, 3, 5, 2, 3] 0.878812989832\n",
      ">>> Epoch = 94, Loss = 0.16919130086898804\n",
      "[3, 3, 5, 2, 3] 0.883233453701\n",
      ">>> Epoch = 95, Loss = 0.16696268320083618\n",
      "[3, 3, 5, 2, 3] 0.8930072876\n",
      ">>> Epoch = 96, Loss = 0.16868653893470764\n",
      "[3, 3, 5, 2, 3] 0.892294040907\n",
      ">>> Epoch = 97, Loss = 0.16833926737308502\n",
      "[3, 3, 5, 2, 3] 0.889722194505\n",
      ">>> Epoch = 98, Loss = 0.1667039692401886\n",
      "[3, 3, 5, 2, 3] 0.889650234313\n",
      ">>> Epoch = 99, Loss = 0.17076599597930908\n",
      "[3, 3, 5, 2, 3] 0.884328323257\n",
      ">>> Epoch = 100, Loss = 0.16733187437057495\n",
      "[3, 3, 5, 2, 3] 0.883749290562\n",
      ">>> Epoch = 101, Loss = 0.16886365413665771\n",
      "[3, 3, 3, 2, 3] 0.876879886774\n",
      ">>> Epoch = 102, Loss = 0.16955378651618958\n",
      "[3, 3, 3, 2, 3] 0.877572986076\n",
      ">>> Epoch = 103, Loss = 0.16906331479549408\n",
      "[3, 3, 5, 2, 3] 0.879595547327\n",
      ">>> Epoch = 104, Loss = 0.16917720437049866\n",
      "[3, 3, 5, 2, 3] 0.882472672766\n",
      ">>> Epoch = 105, Loss = 0.16964510083198547\n",
      "[3, 3, 5, 2, 3] 0.889724322747\n",
      ">>> Epoch = 106, Loss = 0.16863371431827545\n",
      "[3, 3, 5, 2, 3] 0.88889840261\n",
      ">>> Epoch = 107, Loss = 0.1682358980178833\n",
      "[3, 3, 5, 2, 3] 0.885728906319\n",
      ">>> Epoch = 108, Loss = 0.16812464594841003\n",
      "[3, 3, 5, 2, 3] 0.887353853176\n",
      ">>> Epoch = 109, Loss = 0.1686720997095108\n",
      "[3, 3, 5, 2, 3] 0.8880318922\n",
      ">>> Epoch = 110, Loss = 0.16862845420837402\n",
      "[3, 3, 5, 2, 3] 0.8874793605\n",
      ">>> Epoch = 111, Loss = 0.16666153073310852\n",
      "[3, 3, 3, 2, 3] 0.878445768877\n",
      ">>> Epoch = 112, Loss = 0.16716206073760986\n",
      "[3, 3, 3, 2, 3] 0.878803100525\n",
      ">>> Epoch = 113, Loss = 0.16809214651584625\n",
      "[3, 3, 3, 2, 3] 0.877754090607\n",
      ">>> Epoch = 114, Loss = 0.16713526844978333\n",
      "[3, 3, 3, 2, 3] 0.879395357135\n",
      ">>> Epoch = 115, Loss = 0.16834263503551483\n",
      "[3, 3, 3, 2, 3] 0.881618724542\n",
      ">>> Epoch = 116, Loss = 0.1672966480255127\n",
      "[3, 3, 3, 2, 3] 0.882150482277\n",
      ">>> Epoch = 117, Loss = 0.16734597086906433\n",
      "[3, 3, 3, 2, 3] 0.879281477598\n",
      ">>> Epoch = 118, Loss = 0.1692429929971695\n",
      "[3, 3, 5, 2, 3] 0.883344587516\n",
      ">>> Epoch = 119, Loss = 0.16829241812229156\n",
      "[3, 3, 5, 2, 3] 0.884989638825\n",
      ">>> Epoch = 120, Loss = 0.16882695257663727\n",
      "[3, 3, 3, 2, 3] 0.880011343179\n",
      ">>> Epoch = 121, Loss = 0.16810382902622223\n",
      "[3, 3, 3, 2, 3] 0.879471004076\n"
     ]
    },
    {
     "name": "stdout",
     "output_type": "stream",
     "text": [
      ">>> Epoch = 122, Loss = 0.16932812333106995\n",
      "[3, 3, 3, 2, 3] 0.87954231256\n",
      ">>> Epoch = 123, Loss = 0.16812492907047272\n",
      "[3, 3, 3, 2, 3] 0.878339347881\n",
      ">>> Epoch = 124, Loss = 0.16791360080242157\n",
      "[3, 3, 3, 2, 3] 0.879786733896\n",
      ">>> Epoch = 125, Loss = 0.16868025064468384\n",
      "[3, 3, 3, 2, 3] 0.881826284387\n",
      ">>> Epoch = 126, Loss = 0.1686723381280899\n",
      "[3, 3, 3, 2, 3] 0.88258332084\n",
      ">>> Epoch = 127, Loss = 0.16829851269721985\n",
      "[3, 3, 3, 2, 3] 0.879322965664\n",
      ">>> Epoch = 128, Loss = 0.16923637688159943\n",
      "[3, 3, 3, 2, 3] 0.879095890174\n",
      ">>> Epoch = 129, Loss = 0.16864432394504547\n",
      "[3, 3, 3, 2, 3] 0.878994035588\n",
      ">>> Epoch = 130, Loss = 0.16764438152313232\n",
      "[3, 3, 3, 2, 3] 0.880090804523\n",
      ">>> Epoch = 131, Loss = 0.16853614151477814\n",
      "[3, 3, 3, 2, 3] 0.879806279937\n",
      ">>> Epoch = 132, Loss = 0.1696622222661972\n",
      "[3, 3, 3, 2, 3] 0.879673011103\n",
      ">>> Epoch = 133, Loss = 0.1672104150056839\n",
      "[3, 3, 3, 2, 3] 0.878513459731\n",
      ">>> Epoch = 134, Loss = 0.16958890855312347\n",
      "[3, 3, 3, 2, 3] 0.879591854247\n",
      ">>> Epoch = 135, Loss = 0.1677808314561844\n",
      "[3, 3, 3, 2, 3] 0.881658825117\n",
      ">>> Epoch = 136, Loss = 0.16972535848617554\n",
      "[3, 3, 3, 2, 3] 0.882794349013\n",
      ">>> Epoch = 137, Loss = 0.16895046830177307\n",
      "[3, 3, 3, 2, 3] 0.879428764917\n",
      ">>> Epoch = 138, Loss = 0.16856344044208527\n",
      "[3, 3, 3, 2, 3] 0.878784766413\n",
      ">>> Epoch = 139, Loss = 0.1698773056268692\n",
      "[3, 3, 3, 2, 3] 0.878340865382\n",
      ">>> Epoch = 140, Loss = 0.16770093142986298\n",
      "[3, 3, 3, 2, 3] 0.879413288521\n",
      ">>> Epoch = 141, Loss = 0.16879981756210327\n",
      "[3, 3, 3, 2, 3] 0.879019517438\n",
      ">>> Epoch = 142, Loss = 0.16795168817043304\n",
      "[3, 3, 3, 2, 3] 0.878725186102\n",
      ">>> Epoch = 143, Loss = 0.1678626984357834\n",
      "[3, 3, 3, 2, 3] 0.877602858244\n",
      ">>> Epoch = 144, Loss = 0.16866709291934967\n",
      "[3, 3, 3, 2, 3] 0.878458169024\n",
      ">>> Epoch = 145, Loss = 0.16796839237213135\n",
      "[3, 3, 3, 2, 3] 0.880457627145\n",
      ">>> Epoch = 146, Loss = 0.16817894577980042\n",
      "[3, 3, 3, 2, 3] 0.882371795081\n",
      ">>> Epoch = 147, Loss = 0.16758157312870026\n",
      "[3, 3, 3, 2, 3] 0.878980324472\n",
      ">>> Epoch = 148, Loss = 0.16632676124572754\n",
      "[3, 3, 3, 2, 3] 0.877199166273\n",
      ">>> Epoch = 149, Loss = 0.1685272753238678\n",
      "[3, 3, 3, 2, 3] 0.876495039323\n",
      ">>> Epoch = 150, Loss = 0.16936491429805756\n",
      "[3, 3, 3, 2, 3] 0.877069634942\n",
      ">>> Epoch = 151, Loss = 0.17024639248847961\n",
      "[3, 3, 3, 2, 3] 0.876148559226\n",
      ">>> Epoch = 152, Loss = 0.1692477911710739\n",
      "[3, 3, 3, 2, 3] 0.875377076914\n",
      ">>> Epoch = 153, Loss = 0.17055334150791168\n",
      "[3, 3, 3, 2, 3] 0.87443153853\n",
      ">>> Epoch = 154, Loss = 0.1665824055671692\n",
      "[3, 3, 3, 2, 3] 0.875346518874\n",
      ">>> Epoch = 155, Loss = 0.16723418235778809\n",
      "[3, 3, 3, 2, 3] 0.877062760875\n",
      ">>> Epoch = 156, Loss = 0.169820636510849\n",
      "[3, 3, 3, 2, 3] 0.87959932154\n",
      ">>> Epoch = 157, Loss = 0.16870854794979095\n",
      "[3, 3, 3, 2, 3] 0.876816466137\n",
      ">>> Epoch = 158, Loss = 0.16855071485042572\n",
      "[3, 3, 3, 2, 3] 0.873767630637\n",
      ">>> Epoch = 159, Loss = 0.1676708459854126\n",
      "[3, 3, 3, 2, 3] 0.872757878446\n",
      ">>> Epoch = 160, Loss = 0.1666918843984604\n",
      "[3, 3, 3, 2, 3] 0.872612939888\n",
      ">>> Epoch = 161, Loss = 0.16719533503055573\n",
      "[3, 3, 3, 2, 3] 0.871452696586\n",
      ">>> Epoch = 162, Loss = 0.1691795140504837\n",
      "[3, 3, 3, 2, 3] 0.870322762066\n",
      ">>> Epoch = 163, Loss = 0.1682206392288208\n",
      "[3, 3, 3, 2, 3] 0.869627082278\n",
      ">>> Epoch = 164, Loss = 0.1673971712589264\n",
      "[3, 3, 3, 2, 3] 0.870635988028\n",
      ">>> Epoch = 165, Loss = 0.1671740710735321\n",
      "[3, 3, 3, 2, 3] 0.871913074476\n",
      ">>> Epoch = 166, Loss = 0.1674325317144394\n",
      "[3, 3, 3, 2, 3] 0.875000663361\n",
      ">>> Epoch = 167, Loss = 0.16912801563739777\n",
      "[3, 3, 3, 2, 3] 0.872970383302\n",
      ">>> Epoch = 168, Loss = 0.16845668852329254\n",
      "[3, 3, 3, 2, 3] 0.869182130304\n",
      ">>> Epoch = 169, Loss = 0.16961370408535004\n",
      "[3, 3, 3, 2, 3] 0.868079068047\n",
      ">>> Epoch = 170, Loss = 0.16812720894813538\n",
      "[3, 3, 3, 2, 3] 0.867705788905\n",
      ">>> Epoch = 171, Loss = 0.16753093898296356\n",
      "[3, 3, 3, 2, 3] 0.866582656107\n",
      ">>> Epoch = 172, Loss = 0.1685328185558319\n",
      "[3, 3, 3, 2, 3] 0.86525597751\n",
      ">>> Epoch = 173, Loss = 0.1685098260641098\n",
      "[3, 3, 3, 2, 3] 0.864661420969\n",
      ">>> Epoch = 174, Loss = 0.1698479801416397\n",
      "[3, 3, 2, 2, 3] 0.823682139626\n",
      ">>> Epoch = 175, Loss = 0.1697515845298767\n",
      "[3, 3, 3, 2, 3] 0.866644734513\n",
      ">>> Epoch = 176, Loss = 0.16799524426460266\n",
      "[3, 3, 3, 2, 3] 0.870135994625\n",
      ">>> Epoch = 177, Loss = 0.1694689840078354\n",
      "[3, 3, 3, 2, 3] 0.86886609222\n",
      ">>> Epoch = 178, Loss = 0.1672641634941101\n",
      "[3, 3, 3, 2, 3] 0.864673081757\n",
      ">>> Epoch = 179, Loss = 0.16830958425998688\n",
      "[3, 3, 3, 2, 3] 0.86351702013\n",
      ">>> Epoch = 180, Loss = 0.16722652316093445\n",
      "[3, 3, 3, 2, 3] 0.863151378029\n",
      ">>> Epoch = 181, Loss = 0.16792842745780945\n",
      "[3, 3, 3, 2, 3] 0.86221387454\n",
      ">>> Epoch = 182, Loss = 0.1680397391319275\n",
      "[3, 3, 3, 2, 3] 0.86057786323\n",
      ">>> Epoch = 183, Loss = 0.16747185587882996\n",
      "[3, 3, 3, 2, 3] 0.86025708476\n",
      ">>> Epoch = 184, Loss = 0.1678554117679596\n",
      "[3, 3, 2, 2, 3] 0.8180207807\n",
      ">>> Epoch = 185, Loss = 0.16935694217681885\n",
      "[3, 3, 3, 2, 3] 0.861747726414\n",
      ">>> Epoch = 186, Loss = 0.16727083921432495\n",
      "[3, 3, 3, 2, 3] 0.865648109747\n",
      ">>> Epoch = 187, Loss = 0.16869696974754333\n",
      "[3, 3, 3, 2, 3] 0.865181024761\n",
      ">>> Epoch = 188, Loss = 0.16664938628673553\n",
      "[3, 3, 3, 2, 3] 0.860491278737\n",
      ">>> Epoch = 189, Loss = 0.16751177608966827\n",
      "[3, 3, 3, 2, 3] 0.85939102528\n",
      ">>> Epoch = 190, Loss = 0.16763874888420105\n",
      "[3, 3, 3, 2, 3] 0.859025399844\n",
      ">>> Epoch = 191, Loss = 0.16858480870723724\n",
      "[3, 3, 3, 2, 3] 0.858329358898\n",
      ">>> Epoch = 192, Loss = 0.1680455505847931\n",
      "[3, 3, 3, 2, 3] 0.856313342237\n",
      ">>> Epoch = 193, Loss = 0.1680799424648285\n",
      "[3, 3, 3, 2, 3] 0.856353989944\n",
      ">>> Epoch = 194, Loss = 0.16903528571128845\n",
      "[3, 3, 2, 2, 3] 0.81311158411\n",
      ">>> Epoch = 195, Loss = 0.16930466890335083\n",
      "[3, 3, 3, 2, 3] 0.857286194641\n",
      ">>> Epoch = 196, Loss = 0.16935475170612335\n",
      "[3, 3, 3, 2, 3] 0.861543744801\n",
      ">>> Epoch = 197, Loss = 0.16891735792160034\n",
      "[3, 3, 3, 2, 3] 0.861753338252\n",
      ">>> Epoch = 198, Loss = 0.16897498071193695\n",
      "[3, 3, 3, 2, 3] 0.85678350284\n",
      ">>> Epoch = 199, Loss = 0.16843706369400024\n",
      "[3, 3, 3, 2, 3] 0.855739531493\n",
      ">>> Epoch = 200, Loss = 0.16711999475955963\n",
      "[3, 3, 3, 2, 3] 0.855466841221\n",
      ">>> Epoch = 201, Loss = 0.17021594941616058\n",
      "[3, 3, 3, 2, 3] 0.854770799453\n",
      ">>> Epoch = 202, Loss = 0.16917070746421814\n",
      "[3, 3, 3, 2, 3] 0.852363220177\n",
      ">>> Epoch = 203, Loss = 0.16758663952350616\n",
      "[3, 3, 3, 2, 3] 0.852809531967\n",
      ">>> Epoch = 204, Loss = 0.16887551546096802\n",
      "[3, 3, 2, 2, 3] 0.808621904779\n",
      ">>> Epoch = 205, Loss = 0.168540820479393\n",
      "[3, 3, 3, 2, 3] 0.853309140347\n",
      ">>> Epoch = 206, Loss = 0.168570876121521\n",
      "[3, 3, 3, 2, 3] 0.857851545676\n",
      ">>> Epoch = 207, Loss = 0.1697666496038437\n",
      "[3, 3, 3, 2, 3] 0.858736238232\n",
      ">>> Epoch = 208, Loss = 0.16814616322517395\n",
      "[3, 3, 3, 2, 3] 0.853414229638\n",
      ">>> Epoch = 209, Loss = 0.16832305490970612\n",
      "[3, 3, 3, 2, 3] 0.852636475693\n",
      ">>> Epoch = 210, Loss = 0.16975359618663788\n",
      "[3, 3, 3, 2, 3] 0.852311291819\n",
      ">>> Epoch = 211, Loss = 0.16914860904216766\n",
      "[3, 3, 3, 2, 3] 0.851617682535\n",
      ">>> Epoch = 212, Loss = 0.16686317324638367\n",
      "[3, 3, 3, 2, 3] 0.838088485854\n",
      ">>> Epoch = 213, Loss = 0.16867047548294067\n",
      "[3, 3, 3, 2, 3] 0.849659026819\n",
      ">>> Epoch = 214, Loss = 0.16843384504318237\n",
      "[3, 3, 2, 2, 3] 0.804639340264\n",
      ">>> Epoch = 215, Loss = 0.16782709956169128\n",
      "[3, 3, 3, 2, 3] 0.839934812498\n",
      ">>> Epoch = 216, Loss = 0.16888116300106049\n",
      "[3, 3, 3, 2, 3] 0.854343585399\n",
      ">>> Epoch = 217, Loss = 0.16843722760677338\n",
      "[3, 3, 3, 2, 3] 0.856150143507\n",
      ">>> Epoch = 218, Loss = 0.16934190690517426\n",
      "[3, 3, 3, 2, 3] 0.850521352212\n",
      ">>> Epoch = 219, Loss = 0.16825753450393677\n",
      "[3, 3, 3, 2, 3] 0.849759676069\n",
      ">>> Epoch = 220, Loss = 0.16685862839221954\n",
      "[3, 3, 3, 2, 3] 0.849554370927\n",
      ">>> Epoch = 221, Loss = 0.1696285605430603\n",
      "[3, 3, 3, 2, 3] 0.836885755367\n",
      ">>> Epoch = 222, Loss = 0.16783487796783447\n",
      "[3, 3, 3, 2, 3] 0.836382906611\n",
      ">>> Epoch = 223, Loss = 0.16732417047023773\n",
      "[3, 3, 3, 2, 3] 0.846719606101\n",
      ">>> Epoch = 224, Loss = 0.16765883564949036\n",
      "[3, 3, 2, 2, 3] 0.791824999464\n",
      ">>> Epoch = 225, Loss = 0.16858865320682526\n",
      "[3, 3, 3, 2, 3] 0.838473222016\n",
      ">>> Epoch = 226, Loss = 0.16640649735927582\n",
      "[3, 3, 3, 2, 3] 0.840565370398\n",
      ">>> Epoch = 227, Loss = 0.16814206540584564\n",
      "[3, 3, 3, 2, 3] 0.853848544072\n",
      ">>> Epoch = 228, Loss = 0.16778264939785004\n",
      "[3, 3, 3, 2, 3] 0.836175701534\n",
      ">>> Epoch = 229, Loss = 0.1661655157804489\n",
      "[3, 3, 3, 2, 3] 0.847170576942\n",
      ">>> Epoch = 230, Loss = 0.17033275961875916\n",
      "[3, 3, 3, 2, 3] 0.847204084579\n",
      ">>> Epoch = 231, Loss = 0.16675274074077606\n",
      "[3, 3, 3, 2, 3] 0.835167541359\n"
     ]
    },
    {
     "name": "stdout",
     "output_type": "stream",
     "text": [
      ">>> Epoch = 232, Loss = 0.16839802265167236\n",
      "[3, 3, 3, 2, 3] 0.835143020476\n",
      ">>> Epoch = 233, Loss = 0.1691584438085556\n",
      "[3, 3, 3, 2, 3] 0.834504912704\n",
      ">>> Epoch = 234, Loss = 0.16867275536060333\n",
      "[3, 3, 3, 2, 3] 0.835134511415\n",
      ">>> Epoch = 235, Loss = 0.16871006786823273\n",
      "[3, 3, 3, 2, 3] 0.837567671175\n",
      ">>> Epoch = 236, Loss = 0.16917911171913147\n",
      "[3, 3, 3, 2, 3] 0.838954935936\n",
      ">>> Epoch = 237, Loss = 0.16818292438983917\n",
      "[3, 3, 3, 2, 3] 0.840033101733\n",
      ">>> Epoch = 238, Loss = 0.16779381036758423\n",
      "[3, 3, 3, 2, 3] 0.835090521823\n",
      ">>> Epoch = 239, Loss = 0.1677672564983368\n",
      "[3, 3, 3, 2, 3] 0.844844070703\n",
      ">>> Epoch = 240, Loss = 0.16824984550476074\n",
      "[3, 3, 3, 2, 3] 0.844952313298\n",
      ">>> Epoch = 241, Loss = 0.16819901764392853\n",
      "[3, 3, 3, 2, 3] 0.833647235974\n",
      ">>> Epoch = 242, Loss = 0.16620075702667236\n",
      "[3, 3, 3, 2, 3] 0.834490083332\n",
      ">>> Epoch = 243, Loss = 0.16681444644927979\n",
      "[3, 3, 3, 2, 3] 0.833300719602\n",
      ">>> Epoch = 244, Loss = 0.16771885752677917\n",
      "[3, 3, 3, 2, 3] 0.833946883672\n",
      ">>> Epoch = 245, Loss = 0.16675251722335815\n",
      "[3, 3, 3, 2, 3] 0.837045579673\n",
      ">>> Epoch = 246, Loss = 0.1678970605134964\n",
      "[3, 3, 3, 2, 3] 0.83758515834\n",
      ">>> Epoch = 247, Loss = 0.16704972088336945\n",
      "[3, 3, 3, 2, 3] 0.838963675253\n",
      ">>> Epoch = 248, Loss = 0.16704024374485016\n",
      "[3, 3, 3, 2, 3] 0.834420930789\n",
      ">>> Epoch = 249, Loss = 0.1689968854188919\n",
      "[3, 3, 3, 2, 3] 0.842748472238\n",
      ">>> Epoch = 250, Loss = 0.16794265806674957\n",
      "[3, 3, 3, 2, 3] 0.843095866034\n",
      ">>> Epoch = 251, Loss = 0.1686214655637741\n",
      "[3, 3, 3, 2, 3] 0.832315487999\n",
      ">>> Epoch = 252, Loss = 0.16774442791938782\n",
      "[3, 3, 3, 2, 3] 0.834163595414\n",
      ">>> Epoch = 253, Loss = 0.16904862225055695\n",
      "[3, 3, 3, 2, 3] 0.832385673149\n",
      ">>> Epoch = 254, Loss = 0.16780416667461395\n",
      "[3, 3, 3, 2, 3] 0.832914595322\n",
      ">>> Epoch = 255, Loss = 0.16761429607868195\n",
      "[3, 3, 3, 2, 3] 0.836646964506\n",
      ">>> Epoch = 256, Loss = 0.16833466291427612\n",
      "[3, 3, 3, 2, 3] 0.836585995613\n",
      ">>> Epoch = 257, Loss = 0.16840532422065735\n",
      "[3, 3, 3, 2, 3] 0.838042712877\n",
      ">>> Epoch = 258, Loss = 0.16802151501178741\n",
      "[3, 3, 3, 2, 3] 0.833993628537\n",
      ">>> Epoch = 259, Loss = 0.16894550621509552\n",
      "[3, 3, 3, 2, 3] 0.829461756602\n",
      ">>> Epoch = 260, Loss = 0.1683439165353775\n",
      "[3, 3, 3, 2, 3] 0.841498905022\n",
      ">>> Epoch = 261, Loss = 0.16742517054080963\n",
      "[3, 3, 3, 2, 3] 0.831092790354\n",
      ">>> Epoch = 262, Loss = 0.16827869415283203\n",
      "[3, 3, 3, 2, 3] 0.833823613566\n",
      ">>> Epoch = 263, Loss = 0.1694163978099823\n",
      "[3, 3, 3, 2, 3] 0.83187777814\n",
      ">>> Epoch = 264, Loss = 0.16697075963020325\n",
      "[3, 3, 3, 2, 3] 0.832304045774\n",
      ">>> Epoch = 265, Loss = 0.1693796068429947\n",
      "[3, 3, 3, 2, 3] 0.835947541651\n",
      ">>> Epoch = 266, Loss = 0.16755688190460205\n",
      "[3, 3, 3, 2, 3] 0.835818980012\n",
      ">>> Epoch = 267, Loss = 0.1695120632648468\n",
      "[3, 3, 3, 2, 3] 0.837322579198\n",
      ">>> Epoch = 268, Loss = 0.1687464416027069\n",
      "[3, 3, 3, 2, 3] 0.833749399228\n",
      ">>> Epoch = 269, Loss = 0.16831131279468536\n",
      "[3, 3, 3, 2, 3] 0.828985856811\n",
      ">>> Epoch = 270, Loss = 0.16972428560256958\n",
      "[3, 3, 3, 2, 3] 0.840010369243\n",
      ">>> Epoch = 271, Loss = 0.1674451231956482\n",
      "[3, 3, 3, 2, 3] 0.830102922207\n",
      ">>> Epoch = 272, Loss = 0.16861967742443085\n",
      "[3, 3, 3, 2, 3] 0.833384004809\n",
      ">>> Epoch = 273, Loss = 0.16772142052650452\n",
      "[3, 3, 3, 2, 3] 0.831670800301\n",
      ">>> Epoch = 274, Loss = 0.1676746904850006\n",
      "[3, 3, 3, 2, 3] 0.831825398337\n",
      ">>> Epoch = 275, Loss = 0.1684480756521225\n",
      "[3, 3, 3, 2, 3] 0.835160183423\n",
      ">>> Epoch = 276, Loss = 0.16776667535305023\n",
      "[3, 3, 3, 2, 3] 0.835192419481\n",
      ">>> Epoch = 277, Loss = 0.1680048108100891\n",
      "[3, 3, 3, 2, 3] 0.836678227074\n",
      ">>> Epoch = 278, Loss = 0.1672922521829605\n",
      "[3, 3, 3, 2, 3] 0.833632192522\n",
      ">>> Epoch = 279, Loss = 0.16613520681858063\n",
      "[3, 3, 3, 2, 3] 0.828517387663\n",
      ">>> Epoch = 280, Loss = 0.1683645248413086\n",
      "[3, 3, 3, 2, 3] 0.838718793727\n",
      ">>> Epoch = 281, Loss = 0.16917461156845093\n",
      "[3, 3, 3, 2, 3] 0.829244647999\n",
      ">>> Epoch = 282, Loss = 0.17001572251319885\n",
      "[3, 3, 3, 2, 3] 0.83307068972\n",
      ">>> Epoch = 283, Loss = 0.16908682882785797\n",
      "[3, 3, 3, 2, 3] 0.831487916777\n",
      ">>> Epoch = 284, Loss = 0.1704384982585907\n",
      "[3, 3, 3, 2, 3] 0.831197167167\n",
      ">>> Epoch = 285, Loss = 0.1663939356803894\n",
      "[3, 3, 3, 2, 3] 0.834407052642\n",
      ">>> Epoch = 286, Loss = 0.1669502556324005\n",
      "[3, 3, 3, 2, 3] 0.834452552755\n",
      ">>> Epoch = 287, Loss = 0.16971296072006226\n",
      "[3, 3, 3, 2, 3] 0.836097342001\n",
      ">>> Epoch = 288, Loss = 0.16856102645397186\n",
      "[3, 3, 3, 2, 3] 0.833625596386\n",
      ">>> Epoch = 289, Loss = 0.168401300907135\n",
      "[3, 3, 3, 2, 3] 0.828170857548\n",
      ">>> Epoch = 290, Loss = 0.16751587390899658\n",
      "[3, 3, 3, 2, 3] 0.837326444739\n",
      ">>> Epoch = 291, Loss = 0.16651920974254608\n",
      "[3, 3, 3, 2, 3] 0.828170153476\n",
      ">>> Epoch = 292, Loss = 0.1670249104499817\n",
      "[3, 3, 3, 2, 3] 0.832579226806\n",
      ">>> Epoch = 293, Loss = 0.16899539530277252\n",
      "[3, 3, 3, 2, 3] 0.83141615531\n",
      ">>> Epoch = 294, Loss = 0.16803953051567078\n",
      "[3, 3, 3, 2, 3] 0.830775038395\n",
      ">>> Epoch = 295, Loss = 0.16726957261562347\n",
      "[3, 3, 3, 2, 3] 0.83374187073\n",
      ">>> Epoch = 296, Loss = 0.16706690192222595\n",
      "[3, 3, 3, 2, 3] 0.833664232192\n",
      ">>> Epoch = 297, Loss = 0.16723181307315826\n",
      "[3, 3, 3, 2, 3] 0.83566250666\n",
      ">>> Epoch = 298, Loss = 0.16901245713233948\n",
      "[3, 3, 3, 2, 3] 0.83364623594\n",
      ">>> Epoch = 299, Loss = 0.16832739114761353\n",
      "[3, 3, 3, 2, 3] 0.828002013643\n",
      ">>> Epoch = 300, Loss = 0.16946643590927124\n",
      "[3, 3, 3, 2, 3] 0.835936832916\n",
      "Embedding Failed to Converge..\n",
      "Learned #Bin by Variables = [3, 3, 3, 2, 3]\n"
     ]
    }
   ],
   "source": [
    "from data_handler import DataHandler\n",
    "handler = DataHandler(exp.data, exp.var_dict)\n",
    "from semantic_binning import SemanticBinning\n",
    "sb = SemanticBinning(handler.var_dict, embedding_dim=16, batch_size=1024, \n",
    "                     n_epoch=300, lr=1e-3, weight_decay=0.0, verbose=True)\n",
    "sb.fit(exp.data, n_init_bins=30)"
   ]
  },
  {
   "cell_type": "code",
   "execution_count": 18,
   "metadata": {},
   "outputs": [
    {
     "data": {
      "image/png": "[encoded data removed]",
      "text/plain": [
       "<matplotlib.figure.Figure at 0x7f6e370e6278>"
      ]
     },
     "metadata": {},
     "output_type": "display_data"
    }
   ],
   "source": [
    "sb.plot_pairwise_distance_between_bins('satisfaction_level')"
   ]
  },
  {
   "cell_type": "code",
   "execution_count": 19,
   "metadata": {},
   "outputs": [
    {
     "data": {
      "image/png": "[encoded data removed]",
      "text/plain": [
       "<matplotlib.figure.Figure at 0x7f6e370e6978>"
      ]
     },
     "metadata": {},
     "output_type": "display_data"
    }
   ],
   "source": [
    "sb.plot_pairwise_distance_between_bins('last_evaluation')"
   ]
  },
  {
   "cell_type": "code",
   "execution_count": 20,
   "metadata": {},
   "outputs": [
    {
     "data": {
      "image/png": "[encoded data removed]",
      "text/plain": [
       "<matplotlib.figure.Figure at 0x7f6e370e60b8>"
      ]
     },
     "metadata": {},
     "output_type": "display_data"
    }
   ],
   "source": [
    "sb.plot_pairwise_distance_between_bins('average_montly_hours')"
   ]
  },
  {
   "cell_type": "code",
   "execution_count": 21,
   "metadata": {},
   "outputs": [
    {
     "data": {
      "image/png": "[encoded data removed]",
      "text/plain": [
       "<matplotlib.figure.Figure at 0x7f6e3ec12780>"
      ]
     },
     "metadata": {},
     "output_type": "display_data"
    }
   ],
   "source": [
    "sb.plot_pairwise_distance_between_bins('number_project')"
   ]
  },
  {
   "cell_type": "code",
   "execution_count": 22,
   "metadata": {},
   "outputs": [
    {
     "data": {
      "image/png": "[encoded data removed]",
      "text/plain": [
       "<matplotlib.figure.Figure at 0x7f6dd6c22160>"
      ]
     },
     "metadata": {},
     "output_type": "display_data"
    }
   ],
   "source": [
    "sb.plot_pairwise_distance_between_bins('time_spend_company')"
   ]
  },
  {
   "cell_type": "code",
   "execution_count": 18,
   "metadata": {},
   "outputs": [
    {
     "name": "stdout",
     "output_type": "stream",
     "text": [
      "satisfaction_level\n",
      "['(0.089, 0.21]', '(0.21, 0.49]', '(0.49, 0.57]', '(0.57, 0.64]', '(0.64, 0.72]', '(0.72, 0.92]', '(0.92, 1.0]']\n",
      "last_evaluation\n",
      "['(0.359, 0.72]', '(0.72, 1.0]']\n",
      "average_montly_hours\n",
      "['(95.999, 162.0]', '(162.0, 220.0]', '(220.0, 310.0]']\n",
      "number_project\n",
      "['(1.999, 4.0]', '(4.0, 7.0]']\n",
      "time_spend_company\n",
      "['(1.999, 3.0]', '(3.0, 5.0]', '(5.0, 10.0]']\n"
     ]
    }
   ],
   "source": [
    "for var, bins in sb.bins_by_var.items():\n",
    "    print(var)\n",
    "    print(bins['bins'])"
   ]
  },
  {
   "cell_type": "code",
   "execution_count": null,
   "metadata": {
    "collapsed": true
   },
   "outputs": [],
   "source": []
  },
  {
   "cell_type": "code",
   "execution_count": 12,
   "metadata": {
    "collapsed": true
   },
   "outputs": [],
   "source": [
    "### 학습된 트리의 깊이, 형태 비교"
   ]
  },
  {
   "cell_type": "code",
   "execution_count": 13,
   "metadata": {
    "collapsed": true
   },
   "outputs": [],
   "source": [
    "# dot_data = StringIO()\n",
    "# export_graphviz(dt, out_file=dot_data, feature_names=X.columns, \n",
    "#                 impurity=False, proportion=True)\n",
    "# graph = pydot.graph_from_dot_data(dot_data.getvalue())"
   ]
  }
 ],
 "metadata": {
  "kernelspec": {
   "display_name": "Python 3",
   "language": "python",
   "name": "python3"
  },
  "language_info": {
   "codemirror_mode": {
    "name": "ipython",
    "version": 3
   },
   "file_extension": ".py",
   "mimetype": "text/x-python",
   "name": "python",
   "nbconvert_exporter": "python",
   "pygments_lexer": "ipython3",
   "version": "3.6.2"
  }
 },
 "nbformat": 4,
 "nbformat_minor": 2
}
