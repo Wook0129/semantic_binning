{
 "cells": [
  {
   "cell_type": "code",
   "execution_count": 1,
   "metadata": {
    "collapsed": true,
    "scrolled": true
   },
   "outputs": [],
   "source": [
    "from experiment import Experiment\n",
    "%matplotlib inline"
   ]
  },
  {
   "cell_type": "code",
   "execution_count": 2,
   "metadata": {
    "collapsed": true
   },
   "outputs": [],
   "source": [
    "var_dict = dict(\n",
    "    categorical_vars = ['Work_accident', 'promotion_last_5years', 'sales', \n",
    "                        'salary', 'number_project','time_spend_company'],\n",
    "    numerical_vars = ['satisfaction_level', 'last_evaluation', 'average_montly_hours'],\n",
    "    class_var = 'left'\n",
    ")"
   ]
  },
  {
   "cell_type": "code",
   "execution_count": 3,
   "metadata": {},
   "outputs": [],
   "source": [
    "exp = Experiment('data/HR_comma_sep.csv', \n",
    "                 var_dict,\n",
    "                 embedding_dim=16,\n",
    "                 n_epoch=1,\n",
    "                 verbose=True,\n",
    "                 n_bins_range=range(2, 21),\n",
    "                 n_init_bins_list=[5, 10, 15, 20])"
   ]
  },
  {
   "cell_type": "code",
   "execution_count": 4,
   "metadata": {
    "scrolled": true
   },
   "outputs": [
    {
     "name": "stdout",
     "output_type": "stream",
     "text": [
      ">>> Epoch = 1, Loss = 3.826228380203247\n",
      "Learning Embedding Finished!\n",
      ">>> Epoch = 1, Loss = 4.066385269165039\n",
      "Learning Embedding Finished!\n",
      ">>> Epoch = 1, Loss = 4.265279293060303\n",
      "Learning Embedding Finished!\n",
      ">>> Epoch = 1, Loss = 4.522012233734131\n",
      "Learning Embedding Finished!\n",
      ">>> Epoch = 1, Loss = 3.9101059436798096\n",
      "Learning Embedding Finished!\n",
      ">>> Epoch = 1, Loss = 4.202967166900635\n",
      "Learning Embedding Finished!\n",
      ">>> Epoch = 1, Loss = 4.362939834594727\n",
      "Learning Embedding Finished!\n",
      ">>> Epoch = 1, Loss = 4.564137935638428\n",
      "Learning Embedding Finished!\n",
      ">>> Epoch = 1, Loss = 3.7820827960968018\n",
      "Learning Embedding Finished!\n",
      ">>> Epoch = 1, Loss = 4.178693771362305\n",
      "Learning Embedding Finished!\n",
      ">>> Epoch = 1, Loss = 4.312819957733154\n",
      "Learning Embedding Finished!\n",
      ">>> Epoch = 1, Loss = 4.579192161560059\n",
      "Learning Embedding Finished!\n",
      "CPU times: user 58 s, sys: 1min 28s, total: 2min 26s\n",
      "Wall time: 47.9 s\n"
     ]
    }
   ],
   "source": [
    "%time clf_scores = exp.test_classification_performance(cv=3)"
   ]
  },
  {
   "cell_type": "code",
   "execution_count": 5,
   "metadata": {},
   "outputs": [
    {
     "name": "stdout",
     "output_type": "stream",
     "text": [
      "DT performance\n",
      "#cols = 34.0, Accuracy = 0.959 (+/- 0.003)\n",
      "LR performance\n",
      "#cols = 34.0, Accuracy = 0.896 (+/- 0.008)\n"
     ]
    }
   ],
   "source": [
    "exp.print_classification_scores(clf_scores, method='dummy_only')"
   ]
  },
  {
   "cell_type": "code",
   "execution_count": 6,
   "metadata": {},
   "outputs": [
    {
     "name": "stdout",
     "output_type": "stream",
     "text": [
      "DT performance\n",
      "#cols = 34.0, Accuracy = 0.959 (+/- 0.003)\n",
      "LR performance\n",
      "#cols = 34.0, Accuracy = 0.896 (+/- 0.008)\n"
     ]
    }
   ],
   "source": [
    "exp.print_classification_scores(clf_scores, method='scale_numeric')"
   ]
  },
  {
   "cell_type": "code",
   "execution_count": 7,
   "metadata": {},
   "outputs": [
    {
     "name": "stdout",
     "output_type": "stream",
     "text": [
      "DT performance\n",
      "#Bins = 2, #Avg Cols = 37.0, Accuracy = 0.941 (+/- 0.005)\n",
      "#Bins = 3, #Avg Cols = 40.0, Accuracy = 0.949 (+/- 0.006)\n",
      "#Bins = 4, #Avg Cols = 43.0, Accuracy = 0.941 (+/- 0.002)\n",
      "#Bins = 5, #Avg Cols = 46.0, Accuracy = 0.937 (+/- 0.008)\n",
      "#Bins = 6, #Avg Cols = 49.0, Accuracy = 0.944 (+/- 0.002)\n",
      "#Bins = 7, #Avg Cols = 52.0, Accuracy = 0.943 (+/- 0.009)\n",
      "#Bins = 8, #Avg Cols = 55.0, Accuracy = 0.937 (+/- 0.003)\n",
      "#Bins = 9, #Avg Cols = 58.0, Accuracy = 0.938 (+/- 0.003)\n",
      "#Bins = 10, #Avg Cols = 61.0, Accuracy = 0.929 (+/- 0.006)\n",
      "#Bins = 11, #Avg Cols = 64.0, Accuracy = 0.939 (+/- 0.013)\n",
      "#Bins = 12, #Avg Cols = 67.0, Accuracy = 0.945 (+/- 0.015)\n",
      "#Bins = 13, #Avg Cols = 70.0, Accuracy = 0.930 (+/- 0.014)\n",
      "#Bins = 14, #Avg Cols = 73.0, Accuracy = 0.941 (+/- 0.015)\n",
      "#Bins = 15, #Avg Cols = 76.0, Accuracy = 0.941 (+/- 0.012)\n",
      "#Bins = 16, #Avg Cols = 79.0, Accuracy = 0.932 (+/- 0.006)\n",
      "#Bins = 17, #Avg Cols = 82.0, Accuracy = 0.934 (+/- 0.007)\n",
      "#Bins = 18, #Avg Cols = 85.0, Accuracy = 0.933 (+/- 0.007)\n",
      "#Bins = 19, #Avg Cols = 88.0, Accuracy = 0.939 (+/- 0.007)\n",
      "#Bins = 20, #Avg Cols = 91.0, Accuracy = 0.927 (+/- 0.006)\n",
      "LR performance\n",
      "#Bins = 2, #Avg Cols = 37.0, Accuracy = 0.894 (+/- 0.010)\n",
      "#Bins = 3, #Avg Cols = 40.0, Accuracy = 0.912 (+/- 0.008)\n",
      "#Bins = 4, #Avg Cols = 43.0, Accuracy = 0.906 (+/- 0.006)\n",
      "#Bins = 5, #Avg Cols = 46.0, Accuracy = 0.922 (+/- 0.006)\n",
      "#Bins = 6, #Avg Cols = 49.0, Accuracy = 0.926 (+/- 0.002)\n",
      "#Bins = 7, #Avg Cols = 52.0, Accuracy = 0.941 (+/- 0.004)\n",
      "#Bins = 8, #Avg Cols = 55.0, Accuracy = 0.938 (+/- 0.001)\n",
      "#Bins = 9, #Avg Cols = 58.0, Accuracy = 0.945 (+/- 0.005)\n",
      "#Bins = 10, #Avg Cols = 61.0, Accuracy = 0.942 (+/- 0.001)\n",
      "#Bins = 11, #Avg Cols = 64.0, Accuracy = 0.947 (+/- 0.005)\n",
      "#Bins = 12, #Avg Cols = 67.0, Accuracy = 0.952 (+/- 0.004)\n",
      "#Bins = 13, #Avg Cols = 70.0, Accuracy = 0.950 (+/- 0.002)\n",
      "#Bins = 14, #Avg Cols = 73.0, Accuracy = 0.952 (+/- 0.004)\n",
      "#Bins = 15, #Avg Cols = 76.0, Accuracy = 0.953 (+/- 0.003)\n",
      "#Bins = 16, #Avg Cols = 79.0, Accuracy = 0.956 (+/- 0.003)\n",
      "#Bins = 17, #Avg Cols = 82.0, Accuracy = 0.956 (+/- 0.002)\n",
      "#Bins = 18, #Avg Cols = 85.0, Accuracy = 0.954 (+/- 0.003)\n",
      "#Bins = 19, #Avg Cols = 88.0, Accuracy = 0.956 (+/- 0.004)\n",
      "#Bins = 20, #Avg Cols = 91.0, Accuracy = 0.956 (+/- 0.002)\n",
      "NB performance\n",
      "#Bins = 2, #Avg Cols = 37.0, Accuracy = 0.843 (+/- 0.011)\n",
      "#Bins = 3, #Avg Cols = 40.0, Accuracy = 0.889 (+/- 0.010)\n",
      "#Bins = 4, #Avg Cols = 43.0, Accuracy = 0.870 (+/- 0.011)\n",
      "#Bins = 5, #Avg Cols = 46.0, Accuracy = 0.881 (+/- 0.008)\n",
      "#Bins = 6, #Avg Cols = 49.0, Accuracy = 0.892 (+/- 0.009)\n",
      "#Bins = 7, #Avg Cols = 52.0, Accuracy = 0.905 (+/- 0.002)\n",
      "#Bins = 8, #Avg Cols = 55.0, Accuracy = 0.908 (+/- 0.003)\n",
      "#Bins = 9, #Avg Cols = 58.0, Accuracy = 0.914 (+/- 0.006)\n",
      "#Bins = 10, #Avg Cols = 61.0, Accuracy = 0.920 (+/- 0.005)\n",
      "#Bins = 11, #Avg Cols = 64.0, Accuracy = 0.921 (+/- 0.009)\n",
      "#Bins = 12, #Avg Cols = 67.0, Accuracy = 0.921 (+/- 0.006)\n",
      "#Bins = 13, #Avg Cols = 70.0, Accuracy = 0.924 (+/- 0.006)\n",
      "#Bins = 14, #Avg Cols = 73.0, Accuracy = 0.925 (+/- 0.008)\n",
      "#Bins = 15, #Avg Cols = 76.0, Accuracy = 0.926 (+/- 0.008)\n",
      "#Bins = 16, #Avg Cols = 79.0, Accuracy = 0.927 (+/- 0.006)\n",
      "#Bins = 17, #Avg Cols = 82.0, Accuracy = 0.926 (+/- 0.008)\n",
      "#Bins = 18, #Avg Cols = 85.0, Accuracy = 0.925 (+/- 0.009)\n",
      "#Bins = 19, #Avg Cols = 88.0, Accuracy = 0.928 (+/- 0.004)\n",
      "#Bins = 20, #Avg Cols = 91.0, Accuracy = 0.928 (+/- 0.007)\n"
     ]
    }
   ],
   "source": [
    "exp.print_classification_scores(clf_scores, method='equal_width')"
   ]
  },
  {
   "cell_type": "code",
   "execution_count": 8,
   "metadata": {},
   "outputs": [
    {
     "name": "stdout",
     "output_type": "stream",
     "text": [
      "DT performance\n",
      "#Bins = 2, #Avg Cols = 37.0, Accuracy = 0.929 (+/- 0.013)\n",
      "#Bins = 3, #Avg Cols = 40.0, Accuracy = 0.945 (+/- 0.005)\n",
      "#Bins = 4, #Avg Cols = 43.0, Accuracy = 0.926 (+/- 0.008)\n",
      "#Bins = 5, #Avg Cols = 46.0, Accuracy = 0.942 (+/- 0.001)\n",
      "#Bins = 6, #Avg Cols = 49.0, Accuracy = 0.943 (+/- 0.004)\n",
      "#Bins = 7, #Avg Cols = 52.0, Accuracy = 0.938 (+/- 0.004)\n",
      "#Bins = 8, #Avg Cols = 55.0, Accuracy = 0.939 (+/- 0.008)\n",
      "#Bins = 9, #Avg Cols = 58.0, Accuracy = 0.937 (+/- 0.006)\n",
      "#Bins = 10, #Avg Cols = 61.0, Accuracy = 0.931 (+/- 0.007)\n",
      "#Bins = 11, #Avg Cols = 64.0, Accuracy = 0.926 (+/- 0.001)\n",
      "#Bins = 12, #Avg Cols = 67.0, Accuracy = 0.931 (+/- 0.012)\n",
      "#Bins = 13, #Avg Cols = 70.0, Accuracy = 0.935 (+/- 0.015)\n",
      "#Bins = 14, #Avg Cols = 73.0, Accuracy = 0.937 (+/- 0.009)\n",
      "#Bins = 15, #Avg Cols = 76.0, Accuracy = 0.936 (+/- 0.007)\n",
      "#Bins = 16, #Avg Cols = 79.0, Accuracy = 0.943 (+/- 0.007)\n",
      "#Bins = 17, #Avg Cols = 82.0, Accuracy = 0.946 (+/- 0.003)\n",
      "#Bins = 18, #Avg Cols = 85.0, Accuracy = 0.944 (+/- 0.004)\n",
      "#Bins = 19, #Avg Cols = 88.0, Accuracy = 0.941 (+/- 0.003)\n",
      "#Bins = 20, #Avg Cols = 91.0, Accuracy = 0.943 (+/- 0.009)\n",
      "LR performance\n",
      "#Bins = 2, #Avg Cols = 37.0, Accuracy = 0.892 (+/- 0.008)\n",
      "#Bins = 3, #Avg Cols = 40.0, Accuracy = 0.914 (+/- 0.008)\n",
      "#Bins = 4, #Avg Cols = 43.0, Accuracy = 0.908 (+/- 0.005)\n",
      "#Bins = 5, #Avg Cols = 46.0, Accuracy = 0.917 (+/- 0.009)\n",
      "#Bins = 6, #Avg Cols = 49.0, Accuracy = 0.925 (+/- 0.007)\n",
      "#Bins = 7, #Avg Cols = 52.0, Accuracy = 0.940 (+/- 0.002)\n",
      "#Bins = 8, #Avg Cols = 55.0, Accuracy = 0.925 (+/- 0.007)\n",
      "#Bins = 9, #Avg Cols = 58.0, Accuracy = 0.930 (+/- 0.005)\n",
      "#Bins = 10, #Avg Cols = 61.0, Accuracy = 0.937 (+/- 0.006)\n",
      "#Bins = 11, #Avg Cols = 64.0, Accuracy = 0.934 (+/- 0.006)\n",
      "#Bins = 12, #Avg Cols = 67.0, Accuracy = 0.937 (+/- 0.009)\n",
      "#Bins = 13, #Avg Cols = 70.0, Accuracy = 0.942 (+/- 0.013)\n",
      "#Bins = 14, #Avg Cols = 73.0, Accuracy = 0.951 (+/- 0.006)\n",
      "#Bins = 15, #Avg Cols = 76.0, Accuracy = 0.948 (+/- 0.003)\n",
      "#Bins = 16, #Avg Cols = 79.0, Accuracy = 0.951 (+/- 0.004)\n",
      "#Bins = 17, #Avg Cols = 82.0, Accuracy = 0.953 (+/- 0.006)\n",
      "#Bins = 18, #Avg Cols = 85.0, Accuracy = 0.953 (+/- 0.003)\n",
      "#Bins = 19, #Avg Cols = 88.0, Accuracy = 0.952 (+/- 0.004)\n",
      "#Bins = 20, #Avg Cols = 91.0, Accuracy = 0.956 (+/- 0.005)\n",
      "NB performance\n",
      "#Bins = 2, #Avg Cols = 37.0, Accuracy = 0.853 (+/- 0.014)\n",
      "#Bins = 3, #Avg Cols = 40.0, Accuracy = 0.882 (+/- 0.013)\n",
      "#Bins = 4, #Avg Cols = 43.0, Accuracy = 0.870 (+/- 0.012)\n",
      "#Bins = 5, #Avg Cols = 46.0, Accuracy = 0.884 (+/- 0.010)\n",
      "#Bins = 6, #Avg Cols = 49.0, Accuracy = 0.890 (+/- 0.008)\n",
      "#Bins = 7, #Avg Cols = 52.0, Accuracy = 0.904 (+/- 0.006)\n",
      "#Bins = 8, #Avg Cols = 55.0, Accuracy = 0.898 (+/- 0.006)\n",
      "#Bins = 9, #Avg Cols = 58.0, Accuracy = 0.902 (+/- 0.008)\n",
      "#Bins = 10, #Avg Cols = 61.0, Accuracy = 0.906 (+/- 0.008)\n",
      "#Bins = 11, #Avg Cols = 64.0, Accuracy = 0.907 (+/- 0.006)\n",
      "#Bins = 12, #Avg Cols = 67.0, Accuracy = 0.910 (+/- 0.008)\n",
      "#Bins = 13, #Avg Cols = 70.0, Accuracy = 0.910 (+/- 0.014)\n",
      "#Bins = 14, #Avg Cols = 73.0, Accuracy = 0.920 (+/- 0.010)\n",
      "#Bins = 15, #Avg Cols = 76.0, Accuracy = 0.918 (+/- 0.006)\n",
      "#Bins = 16, #Avg Cols = 79.0, Accuracy = 0.920 (+/- 0.003)\n",
      "#Bins = 17, #Avg Cols = 82.0, Accuracy = 0.922 (+/- 0.006)\n",
      "#Bins = 18, #Avg Cols = 85.0, Accuracy = 0.922 (+/- 0.003)\n",
      "#Bins = 19, #Avg Cols = 88.0, Accuracy = 0.923 (+/- 0.005)\n",
      "#Bins = 20, #Avg Cols = 91.0, Accuracy = 0.927 (+/- 0.007)\n"
     ]
    }
   ],
   "source": [
    "exp.print_classification_scores(clf_scores, method='equal_freq')"
   ]
  },
  {
   "cell_type": "code",
   "execution_count": 9,
   "metadata": {},
   "outputs": [
    {
     "name": "stdout",
     "output_type": "stream",
     "text": [
      "DT performance\n",
      "#Init Bins = 5, #Avg Cols = 39.0, Accuracy = 0.932 (+/- 0.005)\n",
      "#Init Bins = 10, #Avg Cols = 48.0, Accuracy = 0.941 (+/- 0.009)\n",
      "#Init Bins = 15, #Avg Cols = 58.333333333333336, Accuracy = 0.940 (+/- 0.008)\n",
      "#Init Bins = 20, #Avg Cols = 72.33333333333333, Accuracy = 0.936 (+/- 0.016)\n",
      "LR performance\n",
      "#Init Bins = 5, #Avg Cols = 39.0, Accuracy = 0.894 (+/- 0.003)\n",
      "#Init Bins = 10, #Avg Cols = 48.0, Accuracy = 0.917 (+/- 0.019)\n",
      "#Init Bins = 15, #Avg Cols = 58.333333333333336, Accuracy = 0.934 (+/- 0.028)\n",
      "#Init Bins = 20, #Avg Cols = 72.33333333333333, Accuracy = 0.943 (+/- 0.023)\n",
      "NB performance\n",
      "#Init Bins = 5, #Avg Cols = 39.0, Accuracy = 0.858 (+/- 0.006)\n",
      "#Init Bins = 10, #Avg Cols = 48.0, Accuracy = 0.884 (+/- 0.026)\n",
      "#Init Bins = 15, #Avg Cols = 58.333333333333336, Accuracy = 0.898 (+/- 0.032)\n",
      "#Init Bins = 20, #Avg Cols = 72.33333333333333, Accuracy = 0.910 (+/- 0.040)\n"
     ]
    }
   ],
   "source": [
    "exp.print_classification_scores(clf_scores, method='semantic_binning')"
   ]
  },
  {
   "cell_type": "code",
   "execution_count": null,
   "metadata": {
    "collapsed": true
   },
   "outputs": [],
   "source": []
  },
  {
   "cell_type": "code",
   "execution_count": null,
   "metadata": {
    "collapsed": true
   },
   "outputs": [],
   "source": []
  },
  {
   "cell_type": "markdown",
   "metadata": {},
   "source": [
    "### 학습된 트리의 깊이, 형태 비교"
   ]
  },
  {
   "cell_type": "code",
   "execution_count": null,
   "metadata": {
    "collapsed": true
   },
   "outputs": [],
   "source": [
    "dot_data = StringIO()\n",
    "export_graphviz(dt, out_file=dot_data, feature_names=X.columns, \n",
    "                impurity=False, proportion=True)\n",
    "graph = pydot.graph_from_dot_data(dot_data.getvalue())"
   ]
  },
  {
   "cell_type": "code",
   "execution_count": null,
   "metadata": {
    "collapsed": true
   },
   "outputs": [],
   "source": []
  }
 ],
 "metadata": {
  "kernelspec": {
   "display_name": "Python 3",
   "language": "python",
   "name": "python3"
  },
  "language_info": {
   "codemirror_mode": {
    "name": "ipython",
    "version": 3
   },
   "file_extension": ".py",
   "mimetype": "text/x-python",
   "name": "python",
   "nbconvert_exporter": "python",
   "pygments_lexer": "ipython3",
   "version": "3.6.2"
  }
 },
 "nbformat": 4,
 "nbformat_minor": 2
}
