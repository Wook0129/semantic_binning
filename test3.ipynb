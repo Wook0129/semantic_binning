{
 "cells": [
  {
   "cell_type": "code",
   "execution_count": 1,
   "metadata": {
    "collapsed": true
   },
   "outputs": [],
   "source": [
    "from experiment import Experiment\n",
    "import torch\n",
    "torch.manual_seed(2)\n",
    "%matplotlib inline"
   ]
  },
  {
   "cell_type": "code",
   "execution_count": 2,
   "metadata": {
    "collapsed": true
   },
   "outputs": [],
   "source": [
    "var_dict = dict(\n",
    "    categorical_vars = ['Work_accident', 'promotion_last_5years', 'sales', \n",
    "                        'salary'],\n",
    "    numerical_vars = ['satisfaction_level', 'last_evaluation', 'average_montly_hours'\n",
    "                     ,'number_project','time_spend_company'],\n",
    "    class_var = 'left'\n",
    ")"
   ]
  },
  {
   "cell_type": "code",
   "execution_count": 3,
   "metadata": {
    "collapsed": true
   },
   "outputs": [],
   "source": [
    "exp = Experiment('data/HR_comma_sep.csv', \n",
    "                 var_dict,\n",
    "                 embedding_dim=8,\n",
    "                 lr=0.001,\n",
    "                 batch_size=1024,\n",
    "                 inter_bin_distance_penalty=0.0,\n",
    "                 n_epoch=100,\n",
    "                 verbose=True,\n",
    "                 n_bins_range=range(2,21),\n",
    "                 n_init_bins_list=[5,10,15,20,30])"
   ]
  },
  {
   "cell_type": "code",
   "execution_count": 4,
   "metadata": {
    "collapsed": true
   },
   "outputs": [],
   "source": [
    "from data_handler import DataHandler\n",
    "from semantic_binning import SemanticBinning\n",
    "handler = DataHandler(exp.data, exp.var_dict)"
   ]
  },
  {
   "cell_type": "code",
   "execution_count": 5,
   "metadata": {
    "collapsed": true
   },
   "outputs": [],
   "source": [
    "sb = SemanticBinning(handler.var_dict, embedding_dim=8, batch_size=1024, \n",
    "                     n_epoch=100, lr=0.001, weight_decay=0.0,\n",
    "                     inter_bin_distance_penalty=0.5, verbose=True)"
   ]
  },
  {
   "cell_type": "code",
   "execution_count": null,
   "metadata": {
    "scrolled": true
   },
   "outputs": [
    {
     "name": "stdout",
     "output_type": "stream",
     "text": [
      ">>> Epoch = 1, Loss = 162.47210693359375\n",
      "[24, 14, 19, 3, 4]\n",
      ">>> Epoch = 2, Loss = 142.31356811523438\n",
      "[23, 23, 18, 3, 3]\n",
      ">>> Epoch = 3, Loss = 123.73333740234375\n",
      "[20, 21, 18, 3, 3]\n",
      ">>> Epoch = 4, Loss = 106.61470794677734\n",
      "[16, 21, 13, 2, 3]\n",
      ">>> Epoch = 5, Loss = 90.91739654541016\n",
      "[16, 23, 12, 2, 3]\n",
      ">>> Epoch = 6, Loss = 76.75799560546875\n",
      "[13, 18, 12, 2, 3]\n",
      ">>> Epoch = 7, Loss = 64.2649917602539\n",
      "[12, 17, 12, 2, 3]\n",
      ">>> Epoch = 8, Loss = 53.358436584472656\n",
      "[10, 21, 10, 2, 3]\n",
      ">>> Epoch = 9, Loss = 44.03364181518555\n",
      "[5, 17, 13, 2, 3]\n",
      ">>> Epoch = 10, Loss = 35.94707107543945\n",
      "[5, 18, 13, 3, 3]\n"
     ]
    }
   ],
   "source": [
    "sb.fit(exp.data, n_init_bins=30)"
   ]
  },
  {
   "cell_type": "code",
   "execution_count": null,
   "metadata": {},
   "outputs": [],
   "source": [
    "sb.bins_by_var['satisfaction_level']['bins']"
   ]
  },
  {
   "cell_type": "code",
   "execution_count": null,
   "metadata": {},
   "outputs": [],
   "source": [
    "sb.plot_pairwise_distance_between_bins('satisfaction_level')"
   ]
  },
  {
   "cell_type": "code",
   "execution_count": null,
   "metadata": {},
   "outputs": [],
   "source": [
    "sb.bins_by_var['last_evaluation']['bins']"
   ]
  },
  {
   "cell_type": "code",
   "execution_count": null,
   "metadata": {},
   "outputs": [],
   "source": [
    "sb.plot_pairwise_distance_between_bins('last_evaluation')"
   ]
  },
  {
   "cell_type": "code",
   "execution_count": null,
   "metadata": {},
   "outputs": [],
   "source": [
    "sb.bins_by_var['average_montly_hours']['bins']"
   ]
  },
  {
   "cell_type": "code",
   "execution_count": null,
   "metadata": {},
   "outputs": [],
   "source": [
    "sb.plot_pairwise_distance_between_bins('average_montly_hours')"
   ]
  },
  {
   "cell_type": "code",
   "execution_count": null,
   "metadata": {},
   "outputs": [],
   "source": [
    "sb.bins_by_var['number_project']['bins']"
   ]
  },
  {
   "cell_type": "code",
   "execution_count": null,
   "metadata": {},
   "outputs": [],
   "source": [
    "sb.plot_pairwise_distance_between_bins('number_project')"
   ]
  },
  {
   "cell_type": "code",
   "execution_count": null,
   "metadata": {},
   "outputs": [],
   "source": [
    "sb.bins_by_var['time_spend_company']['bins']"
   ]
  },
  {
   "cell_type": "code",
   "execution_count": null,
   "metadata": {},
   "outputs": [],
   "source": [
    "sb.plot_pairwise_distance_between_bins('time_spend_company')"
   ]
  },
  {
   "cell_type": "code",
   "execution_count": null,
   "metadata": {
    "collapsed": true
   },
   "outputs": [],
   "source": []
  },
  {
   "cell_type": "code",
   "execution_count": null,
   "metadata": {
    "collapsed": true
   },
   "outputs": [],
   "source": []
  }
 ],
 "metadata": {
  "kernelspec": {
   "display_name": "Python 3",
   "language": "python",
   "name": "python3"
  },
  "language_info": {
   "codemirror_mode": {
    "name": "ipython",
    "version": 3
   },
   "file_extension": ".py",
   "mimetype": "text/x-python",
   "name": "python",
   "nbconvert_exporter": "python",
   "pygments_lexer": "ipython3",
   "version": "3.6.2"
  }
 },
 "nbformat": 4,
 "nbformat_minor": 2
}
